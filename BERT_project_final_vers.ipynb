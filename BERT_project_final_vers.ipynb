{
  "nbformat": 4,
  "nbformat_minor": 0,
  "metadata": {
    "colab": {
      "provenance": [],
      "gpuType": "T4"
    },
    "kernelspec": {
      "name": "python3",
      "display_name": "Python 3"
    },
    "language_info": {
      "name": "python"
    },
    "accelerator": "GPU",
    "widgets": {
      "application/vnd.jupyter.widget-state+json": {
        "c8cfc4887f5645438107ea3b52054fba": {
          "model_module": "@jupyter-widgets/controls",
          "model_name": "HBoxModel",
          "model_module_version": "1.5.0",
          "state": {
            "_dom_classes": [],
            "_model_module": "@jupyter-widgets/controls",
            "_model_module_version": "1.5.0",
            "_model_name": "HBoxModel",
            "_view_count": null,
            "_view_module": "@jupyter-widgets/controls",
            "_view_module_version": "1.5.0",
            "_view_name": "HBoxView",
            "box_style": "",
            "children": [
              "IPY_MODEL_9d754fb2334844639a9f2490c30fa5af",
              "IPY_MODEL_6e02b4397fd343c7b2e3d3fbdacc52a4",
              "IPY_MODEL_8dfa523448634718ad80bd45e94809d5"
            ],
            "layout": "IPY_MODEL_6cce370b8228480eaec074397bee847a"
          }
        },
        "9d754fb2334844639a9f2490c30fa5af": {
          "model_module": "@jupyter-widgets/controls",
          "model_name": "HTMLModel",
          "model_module_version": "1.5.0",
          "state": {
            "_dom_classes": [],
            "_model_module": "@jupyter-widgets/controls",
            "_model_module_version": "1.5.0",
            "_model_name": "HTMLModel",
            "_view_count": null,
            "_view_module": "@jupyter-widgets/controls",
            "_view_module_version": "1.5.0",
            "_view_name": "HTMLView",
            "description": "",
            "description_tooltip": null,
            "layout": "IPY_MODEL_64d37a36231841b8ab368c9eb3a87963",
            "placeholder": "​",
            "style": "IPY_MODEL_1bb2c2f512ea4896a246527c6ccd1d8e",
            "value": "tokenizer_config.json: 100%"
          }
        },
        "6e02b4397fd343c7b2e3d3fbdacc52a4": {
          "model_module": "@jupyter-widgets/controls",
          "model_name": "FloatProgressModel",
          "model_module_version": "1.5.0",
          "state": {
            "_dom_classes": [],
            "_model_module": "@jupyter-widgets/controls",
            "_model_module_version": "1.5.0",
            "_model_name": "FloatProgressModel",
            "_view_count": null,
            "_view_module": "@jupyter-widgets/controls",
            "_view_module_version": "1.5.0",
            "_view_name": "ProgressView",
            "bar_style": "success",
            "description": "",
            "description_tooltip": null,
            "layout": "IPY_MODEL_f65ad9ebf9ae4766a30bc9fabc441ee9",
            "max": 611,
            "min": 0,
            "orientation": "horizontal",
            "style": "IPY_MODEL_cd398c3f2a554ae4ab5a62eaed4febb1",
            "value": 611
          }
        },
        "8dfa523448634718ad80bd45e94809d5": {
          "model_module": "@jupyter-widgets/controls",
          "model_name": "HTMLModel",
          "model_module_version": "1.5.0",
          "state": {
            "_dom_classes": [],
            "_model_module": "@jupyter-widgets/controls",
            "_model_module_version": "1.5.0",
            "_model_name": "HTMLModel",
            "_view_count": null,
            "_view_module": "@jupyter-widgets/controls",
            "_view_module_version": "1.5.0",
            "_view_name": "HTMLView",
            "description": "",
            "description_tooltip": null,
            "layout": "IPY_MODEL_d35b747da7f34c1e92998f36101f2dae",
            "placeholder": "​",
            "style": "IPY_MODEL_e843dcf780ed4c26ab70efa0255986cf",
            "value": " 611/611 [00:00&lt;00:00, 22.4kB/s]"
          }
        },
        "6cce370b8228480eaec074397bee847a": {
          "model_module": "@jupyter-widgets/base",
          "model_name": "LayoutModel",
          "model_module_version": "1.2.0",
          "state": {
            "_model_module": "@jupyter-widgets/base",
            "_model_module_version": "1.2.0",
            "_model_name": "LayoutModel",
            "_view_count": null,
            "_view_module": "@jupyter-widgets/base",
            "_view_module_version": "1.2.0",
            "_view_name": "LayoutView",
            "align_content": null,
            "align_items": null,
            "align_self": null,
            "border": null,
            "bottom": null,
            "display": null,
            "flex": null,
            "flex_flow": null,
            "grid_area": null,
            "grid_auto_columns": null,
            "grid_auto_flow": null,
            "grid_auto_rows": null,
            "grid_column": null,
            "grid_gap": null,
            "grid_row": null,
            "grid_template_areas": null,
            "grid_template_columns": null,
            "grid_template_rows": null,
            "height": null,
            "justify_content": null,
            "justify_items": null,
            "left": null,
            "margin": null,
            "max_height": null,
            "max_width": null,
            "min_height": null,
            "min_width": null,
            "object_fit": null,
            "object_position": null,
            "order": null,
            "overflow": null,
            "overflow_x": null,
            "overflow_y": null,
            "padding": null,
            "right": null,
            "top": null,
            "visibility": null,
            "width": null
          }
        },
        "64d37a36231841b8ab368c9eb3a87963": {
          "model_module": "@jupyter-widgets/base",
          "model_name": "LayoutModel",
          "model_module_version": "1.2.0",
          "state": {
            "_model_module": "@jupyter-widgets/base",
            "_model_module_version": "1.2.0",
            "_model_name": "LayoutModel",
            "_view_count": null,
            "_view_module": "@jupyter-widgets/base",
            "_view_module_version": "1.2.0",
            "_view_name": "LayoutView",
            "align_content": null,
            "align_items": null,
            "align_self": null,
            "border": null,
            "bottom": null,
            "display": null,
            "flex": null,
            "flex_flow": null,
            "grid_area": null,
            "grid_auto_columns": null,
            "grid_auto_flow": null,
            "grid_auto_rows": null,
            "grid_column": null,
            "grid_gap": null,
            "grid_row": null,
            "grid_template_areas": null,
            "grid_template_columns": null,
            "grid_template_rows": null,
            "height": null,
            "justify_content": null,
            "justify_items": null,
            "left": null,
            "margin": null,
            "max_height": null,
            "max_width": null,
            "min_height": null,
            "min_width": null,
            "object_fit": null,
            "object_position": null,
            "order": null,
            "overflow": null,
            "overflow_x": null,
            "overflow_y": null,
            "padding": null,
            "right": null,
            "top": null,
            "visibility": null,
            "width": null
          }
        },
        "1bb2c2f512ea4896a246527c6ccd1d8e": {
          "model_module": "@jupyter-widgets/controls",
          "model_name": "DescriptionStyleModel",
          "model_module_version": "1.5.0",
          "state": {
            "_model_module": "@jupyter-widgets/controls",
            "_model_module_version": "1.5.0",
            "_model_name": "DescriptionStyleModel",
            "_view_count": null,
            "_view_module": "@jupyter-widgets/base",
            "_view_module_version": "1.2.0",
            "_view_name": "StyleView",
            "description_width": ""
          }
        },
        "f65ad9ebf9ae4766a30bc9fabc441ee9": {
          "model_module": "@jupyter-widgets/base",
          "model_name": "LayoutModel",
          "model_module_version": "1.2.0",
          "state": {
            "_model_module": "@jupyter-widgets/base",
            "_model_module_version": "1.2.0",
            "_model_name": "LayoutModel",
            "_view_count": null,
            "_view_module": "@jupyter-widgets/base",
            "_view_module_version": "1.2.0",
            "_view_name": "LayoutView",
            "align_content": null,
            "align_items": null,
            "align_self": null,
            "border": null,
            "bottom": null,
            "display": null,
            "flex": null,
            "flex_flow": null,
            "grid_area": null,
            "grid_auto_columns": null,
            "grid_auto_flow": null,
            "grid_auto_rows": null,
            "grid_column": null,
            "grid_gap": null,
            "grid_row": null,
            "grid_template_areas": null,
            "grid_template_columns": null,
            "grid_template_rows": null,
            "height": null,
            "justify_content": null,
            "justify_items": null,
            "left": null,
            "margin": null,
            "max_height": null,
            "max_width": null,
            "min_height": null,
            "min_width": null,
            "object_fit": null,
            "object_position": null,
            "order": null,
            "overflow": null,
            "overflow_x": null,
            "overflow_y": null,
            "padding": null,
            "right": null,
            "top": null,
            "visibility": null,
            "width": null
          }
        },
        "cd398c3f2a554ae4ab5a62eaed4febb1": {
          "model_module": "@jupyter-widgets/controls",
          "model_name": "ProgressStyleModel",
          "model_module_version": "1.5.0",
          "state": {
            "_model_module": "@jupyter-widgets/controls",
            "_model_module_version": "1.5.0",
            "_model_name": "ProgressStyleModel",
            "_view_count": null,
            "_view_module": "@jupyter-widgets/base",
            "_view_module_version": "1.2.0",
            "_view_name": "StyleView",
            "bar_color": null,
            "description_width": ""
          }
        },
        "d35b747da7f34c1e92998f36101f2dae": {
          "model_module": "@jupyter-widgets/base",
          "model_name": "LayoutModel",
          "model_module_version": "1.2.0",
          "state": {
            "_model_module": "@jupyter-widgets/base",
            "_model_module_version": "1.2.0",
            "_model_name": "LayoutModel",
            "_view_count": null,
            "_view_module": "@jupyter-widgets/base",
            "_view_module_version": "1.2.0",
            "_view_name": "LayoutView",
            "align_content": null,
            "align_items": null,
            "align_self": null,
            "border": null,
            "bottom": null,
            "display": null,
            "flex": null,
            "flex_flow": null,
            "grid_area": null,
            "grid_auto_columns": null,
            "grid_auto_flow": null,
            "grid_auto_rows": null,
            "grid_column": null,
            "grid_gap": null,
            "grid_row": null,
            "grid_template_areas": null,
            "grid_template_columns": null,
            "grid_template_rows": null,
            "height": null,
            "justify_content": null,
            "justify_items": null,
            "left": null,
            "margin": null,
            "max_height": null,
            "max_width": null,
            "min_height": null,
            "min_width": null,
            "object_fit": null,
            "object_position": null,
            "order": null,
            "overflow": null,
            "overflow_x": null,
            "overflow_y": null,
            "padding": null,
            "right": null,
            "top": null,
            "visibility": null,
            "width": null
          }
        },
        "e843dcf780ed4c26ab70efa0255986cf": {
          "model_module": "@jupyter-widgets/controls",
          "model_name": "DescriptionStyleModel",
          "model_module_version": "1.5.0",
          "state": {
            "_model_module": "@jupyter-widgets/controls",
            "_model_module_version": "1.5.0",
            "_model_name": "DescriptionStyleModel",
            "_view_count": null,
            "_view_module": "@jupyter-widgets/base",
            "_view_module_version": "1.2.0",
            "_view_name": "StyleView",
            "description_width": ""
          }
        },
        "8f509f03f0be417c948dfabf88d6aa60": {
          "model_module": "@jupyter-widgets/controls",
          "model_name": "HBoxModel",
          "model_module_version": "1.5.0",
          "state": {
            "_dom_classes": [],
            "_model_module": "@jupyter-widgets/controls",
            "_model_module_version": "1.5.0",
            "_model_name": "HBoxModel",
            "_view_count": null,
            "_view_module": "@jupyter-widgets/controls",
            "_view_module_version": "1.5.0",
            "_view_name": "HBoxView",
            "box_style": "",
            "children": [
              "IPY_MODEL_701277723e4143bd9cc8c003cdcba98c",
              "IPY_MODEL_5cc62c302f064eb5a255a504b9ca6087",
              "IPY_MODEL_7fe694f2ca234ed88894a4eacda552d8"
            ],
            "layout": "IPY_MODEL_aee1f6fb6a3341deae7ef5ed79e411b8"
          }
        },
        "701277723e4143bd9cc8c003cdcba98c": {
          "model_module": "@jupyter-widgets/controls",
          "model_name": "HTMLModel",
          "model_module_version": "1.5.0",
          "state": {
            "_dom_classes": [],
            "_model_module": "@jupyter-widgets/controls",
            "_model_module_version": "1.5.0",
            "_model_name": "HTMLModel",
            "_view_count": null,
            "_view_module": "@jupyter-widgets/controls",
            "_view_module_version": "1.5.0",
            "_view_name": "HTMLView",
            "description": "",
            "description_tooltip": null,
            "layout": "IPY_MODEL_f9563f750fce4b51befbf82db444dd1e",
            "placeholder": "​",
            "style": "IPY_MODEL_92891b82daa244f5ae89a88236a9c337",
            "value": "vocab.txt: 100%"
          }
        },
        "5cc62c302f064eb5a255a504b9ca6087": {
          "model_module": "@jupyter-widgets/controls",
          "model_name": "FloatProgressModel",
          "model_module_version": "1.5.0",
          "state": {
            "_dom_classes": [],
            "_model_module": "@jupyter-widgets/controls",
            "_model_module_version": "1.5.0",
            "_model_name": "FloatProgressModel",
            "_view_count": null,
            "_view_module": "@jupyter-widgets/controls",
            "_view_module_version": "1.5.0",
            "_view_name": "ProgressView",
            "bar_style": "success",
            "description": "",
            "description_tooltip": null,
            "layout": "IPY_MODEL_70e51b1fc9d642478e558ddc423bab2d",
            "max": 719993,
            "min": 0,
            "orientation": "horizontal",
            "style": "IPY_MODEL_2c77313339ca4f16bca33c4b06542c3b",
            "value": 719993
          }
        },
        "7fe694f2ca234ed88894a4eacda552d8": {
          "model_module": "@jupyter-widgets/controls",
          "model_name": "HTMLModel",
          "model_module_version": "1.5.0",
          "state": {
            "_dom_classes": [],
            "_model_module": "@jupyter-widgets/controls",
            "_model_module_version": "1.5.0",
            "_model_name": "HTMLModel",
            "_view_count": null,
            "_view_module": "@jupyter-widgets/controls",
            "_view_module_version": "1.5.0",
            "_view_name": "HTMLView",
            "description": "",
            "description_tooltip": null,
            "layout": "IPY_MODEL_92a65078000c467390b532f53707ac2b",
            "placeholder": "​",
            "style": "IPY_MODEL_ece5bdd71a7e4b43aaf6c016e6926f4c",
            "value": " 720k/720k [00:00&lt;00:00, 8.51MB/s]"
          }
        },
        "aee1f6fb6a3341deae7ef5ed79e411b8": {
          "model_module": "@jupyter-widgets/base",
          "model_name": "LayoutModel",
          "model_module_version": "1.2.0",
          "state": {
            "_model_module": "@jupyter-widgets/base",
            "_model_module_version": "1.2.0",
            "_model_name": "LayoutModel",
            "_view_count": null,
            "_view_module": "@jupyter-widgets/base",
            "_view_module_version": "1.2.0",
            "_view_name": "LayoutView",
            "align_content": null,
            "align_items": null,
            "align_self": null,
            "border": null,
            "bottom": null,
            "display": null,
            "flex": null,
            "flex_flow": null,
            "grid_area": null,
            "grid_auto_columns": null,
            "grid_auto_flow": null,
            "grid_auto_rows": null,
            "grid_column": null,
            "grid_gap": null,
            "grid_row": null,
            "grid_template_areas": null,
            "grid_template_columns": null,
            "grid_template_rows": null,
            "height": null,
            "justify_content": null,
            "justify_items": null,
            "left": null,
            "margin": null,
            "max_height": null,
            "max_width": null,
            "min_height": null,
            "min_width": null,
            "object_fit": null,
            "object_position": null,
            "order": null,
            "overflow": null,
            "overflow_x": null,
            "overflow_y": null,
            "padding": null,
            "right": null,
            "top": null,
            "visibility": null,
            "width": null
          }
        },
        "f9563f750fce4b51befbf82db444dd1e": {
          "model_module": "@jupyter-widgets/base",
          "model_name": "LayoutModel",
          "model_module_version": "1.2.0",
          "state": {
            "_model_module": "@jupyter-widgets/base",
            "_model_module_version": "1.2.0",
            "_model_name": "LayoutModel",
            "_view_count": null,
            "_view_module": "@jupyter-widgets/base",
            "_view_module_version": "1.2.0",
            "_view_name": "LayoutView",
            "align_content": null,
            "align_items": null,
            "align_self": null,
            "border": null,
            "bottom": null,
            "display": null,
            "flex": null,
            "flex_flow": null,
            "grid_area": null,
            "grid_auto_columns": null,
            "grid_auto_flow": null,
            "grid_auto_rows": null,
            "grid_column": null,
            "grid_gap": null,
            "grid_row": null,
            "grid_template_areas": null,
            "grid_template_columns": null,
            "grid_template_rows": null,
            "height": null,
            "justify_content": null,
            "justify_items": null,
            "left": null,
            "margin": null,
            "max_height": null,
            "max_width": null,
            "min_height": null,
            "min_width": null,
            "object_fit": null,
            "object_position": null,
            "order": null,
            "overflow": null,
            "overflow_x": null,
            "overflow_y": null,
            "padding": null,
            "right": null,
            "top": null,
            "visibility": null,
            "width": null
          }
        },
        "92891b82daa244f5ae89a88236a9c337": {
          "model_module": "@jupyter-widgets/controls",
          "model_name": "DescriptionStyleModel",
          "model_module_version": "1.5.0",
          "state": {
            "_model_module": "@jupyter-widgets/controls",
            "_model_module_version": "1.5.0",
            "_model_name": "DescriptionStyleModel",
            "_view_count": null,
            "_view_module": "@jupyter-widgets/base",
            "_view_module_version": "1.2.0",
            "_view_name": "StyleView",
            "description_width": ""
          }
        },
        "70e51b1fc9d642478e558ddc423bab2d": {
          "model_module": "@jupyter-widgets/base",
          "model_name": "LayoutModel",
          "model_module_version": "1.2.0",
          "state": {
            "_model_module": "@jupyter-widgets/base",
            "_model_module_version": "1.2.0",
            "_model_name": "LayoutModel",
            "_view_count": null,
            "_view_module": "@jupyter-widgets/base",
            "_view_module_version": "1.2.0",
            "_view_name": "LayoutView",
            "align_content": null,
            "align_items": null,
            "align_self": null,
            "border": null,
            "bottom": null,
            "display": null,
            "flex": null,
            "flex_flow": null,
            "grid_area": null,
            "grid_auto_columns": null,
            "grid_auto_flow": null,
            "grid_auto_rows": null,
            "grid_column": null,
            "grid_gap": null,
            "grid_row": null,
            "grid_template_areas": null,
            "grid_template_columns": null,
            "grid_template_rows": null,
            "height": null,
            "justify_content": null,
            "justify_items": null,
            "left": null,
            "margin": null,
            "max_height": null,
            "max_width": null,
            "min_height": null,
            "min_width": null,
            "object_fit": null,
            "object_position": null,
            "order": null,
            "overflow": null,
            "overflow_x": null,
            "overflow_y": null,
            "padding": null,
            "right": null,
            "top": null,
            "visibility": null,
            "width": null
          }
        },
        "2c77313339ca4f16bca33c4b06542c3b": {
          "model_module": "@jupyter-widgets/controls",
          "model_name": "ProgressStyleModel",
          "model_module_version": "1.5.0",
          "state": {
            "_model_module": "@jupyter-widgets/controls",
            "_model_module_version": "1.5.0",
            "_model_name": "ProgressStyleModel",
            "_view_count": null,
            "_view_module": "@jupyter-widgets/base",
            "_view_module_version": "1.2.0",
            "_view_name": "StyleView",
            "bar_color": null,
            "description_width": ""
          }
        },
        "92a65078000c467390b532f53707ac2b": {
          "model_module": "@jupyter-widgets/base",
          "model_name": "LayoutModel",
          "model_module_version": "1.2.0",
          "state": {
            "_model_module": "@jupyter-widgets/base",
            "_model_module_version": "1.2.0",
            "_model_name": "LayoutModel",
            "_view_count": null,
            "_view_module": "@jupyter-widgets/base",
            "_view_module_version": "1.2.0",
            "_view_name": "LayoutView",
            "align_content": null,
            "align_items": null,
            "align_self": null,
            "border": null,
            "bottom": null,
            "display": null,
            "flex": null,
            "flex_flow": null,
            "grid_area": null,
            "grid_auto_columns": null,
            "grid_auto_flow": null,
            "grid_auto_rows": null,
            "grid_column": null,
            "grid_gap": null,
            "grid_row": null,
            "grid_template_areas": null,
            "grid_template_columns": null,
            "grid_template_rows": null,
            "height": null,
            "justify_content": null,
            "justify_items": null,
            "left": null,
            "margin": null,
            "max_height": null,
            "max_width": null,
            "min_height": null,
            "min_width": null,
            "object_fit": null,
            "object_position": null,
            "order": null,
            "overflow": null,
            "overflow_x": null,
            "overflow_y": null,
            "padding": null,
            "right": null,
            "top": null,
            "visibility": null,
            "width": null
          }
        },
        "ece5bdd71a7e4b43aaf6c016e6926f4c": {
          "model_module": "@jupyter-widgets/controls",
          "model_name": "DescriptionStyleModel",
          "model_module_version": "1.5.0",
          "state": {
            "_model_module": "@jupyter-widgets/controls",
            "_model_module_version": "1.5.0",
            "_model_name": "DescriptionStyleModel",
            "_view_count": null,
            "_view_module": "@jupyter-widgets/base",
            "_view_module_version": "1.2.0",
            "_view_name": "StyleView",
            "description_width": ""
          }
        },
        "2934de375b1e4194b71345d8d2185829": {
          "model_module": "@jupyter-widgets/controls",
          "model_name": "HBoxModel",
          "model_module_version": "1.5.0",
          "state": {
            "_dom_classes": [],
            "_model_module": "@jupyter-widgets/controls",
            "_model_module_version": "1.5.0",
            "_model_name": "HBoxModel",
            "_view_count": null,
            "_view_module": "@jupyter-widgets/controls",
            "_view_module_version": "1.5.0",
            "_view_name": "HBoxView",
            "box_style": "",
            "children": [
              "IPY_MODEL_3f7dad9725634236a173686fafb25af3",
              "IPY_MODEL_097a1db0b51a43baae4d5ef93d6e3eb5",
              "IPY_MODEL_86050cf6efa845ea912e81e09948cb2d"
            ],
            "layout": "IPY_MODEL_7191bae6c1fa4c6c99d63a60e9f3cf69"
          }
        },
        "3f7dad9725634236a173686fafb25af3": {
          "model_module": "@jupyter-widgets/controls",
          "model_name": "HTMLModel",
          "model_module_version": "1.5.0",
          "state": {
            "_dom_classes": [],
            "_model_module": "@jupyter-widgets/controls",
            "_model_module_version": "1.5.0",
            "_model_name": "HTMLModel",
            "_view_count": null,
            "_view_module": "@jupyter-widgets/controls",
            "_view_module_version": "1.5.0",
            "_view_name": "HTMLView",
            "description": "",
            "description_tooltip": null,
            "layout": "IPY_MODEL_72940c49f2944816ac5028040415e91f",
            "placeholder": "​",
            "style": "IPY_MODEL_7d41ffbd1d074e42a5d5904267ddd7e3",
            "value": "special_tokens_map.json: 100%"
          }
        },
        "097a1db0b51a43baae4d5ef93d6e3eb5": {
          "model_module": "@jupyter-widgets/controls",
          "model_name": "FloatProgressModel",
          "model_module_version": "1.5.0",
          "state": {
            "_dom_classes": [],
            "_model_module": "@jupyter-widgets/controls",
            "_model_module_version": "1.5.0",
            "_model_name": "FloatProgressModel",
            "_view_count": null,
            "_view_module": "@jupyter-widgets/controls",
            "_view_module_version": "1.5.0",
            "_view_name": "ProgressView",
            "bar_style": "success",
            "description": "",
            "description_tooltip": null,
            "layout": "IPY_MODEL_22346cc1df604e67bd5fbc2c116af5f5",
            "max": 112,
            "min": 0,
            "orientation": "horizontal",
            "style": "IPY_MODEL_399678b8d2c44c4f87f8e25a48a761f5",
            "value": 112
          }
        },
        "86050cf6efa845ea912e81e09948cb2d": {
          "model_module": "@jupyter-widgets/controls",
          "model_name": "HTMLModel",
          "model_module_version": "1.5.0",
          "state": {
            "_dom_classes": [],
            "_model_module": "@jupyter-widgets/controls",
            "_model_module_version": "1.5.0",
            "_model_name": "HTMLModel",
            "_view_count": null,
            "_view_module": "@jupyter-widgets/controls",
            "_view_module_version": "1.5.0",
            "_view_name": "HTMLView",
            "description": "",
            "description_tooltip": null,
            "layout": "IPY_MODEL_29b9342ff0494437b5915a313ae70506",
            "placeholder": "​",
            "style": "IPY_MODEL_d3ed80bbf00e44f9bf93f42bf36d48d4",
            "value": " 112/112 [00:00&lt;00:00, 2.82kB/s]"
          }
        },
        "7191bae6c1fa4c6c99d63a60e9f3cf69": {
          "model_module": "@jupyter-widgets/base",
          "model_name": "LayoutModel",
          "model_module_version": "1.2.0",
          "state": {
            "_model_module": "@jupyter-widgets/base",
            "_model_module_version": "1.2.0",
            "_model_name": "LayoutModel",
            "_view_count": null,
            "_view_module": "@jupyter-widgets/base",
            "_view_module_version": "1.2.0",
            "_view_name": "LayoutView",
            "align_content": null,
            "align_items": null,
            "align_self": null,
            "border": null,
            "bottom": null,
            "display": null,
            "flex": null,
            "flex_flow": null,
            "grid_area": null,
            "grid_auto_columns": null,
            "grid_auto_flow": null,
            "grid_auto_rows": null,
            "grid_column": null,
            "grid_gap": null,
            "grid_row": null,
            "grid_template_areas": null,
            "grid_template_columns": null,
            "grid_template_rows": null,
            "height": null,
            "justify_content": null,
            "justify_items": null,
            "left": null,
            "margin": null,
            "max_height": null,
            "max_width": null,
            "min_height": null,
            "min_width": null,
            "object_fit": null,
            "object_position": null,
            "order": null,
            "overflow": null,
            "overflow_x": null,
            "overflow_y": null,
            "padding": null,
            "right": null,
            "top": null,
            "visibility": null,
            "width": null
          }
        },
        "72940c49f2944816ac5028040415e91f": {
          "model_module": "@jupyter-widgets/base",
          "model_name": "LayoutModel",
          "model_module_version": "1.2.0",
          "state": {
            "_model_module": "@jupyter-widgets/base",
            "_model_module_version": "1.2.0",
            "_model_name": "LayoutModel",
            "_view_count": null,
            "_view_module": "@jupyter-widgets/base",
            "_view_module_version": "1.2.0",
            "_view_name": "LayoutView",
            "align_content": null,
            "align_items": null,
            "align_self": null,
            "border": null,
            "bottom": null,
            "display": null,
            "flex": null,
            "flex_flow": null,
            "grid_area": null,
            "grid_auto_columns": null,
            "grid_auto_flow": null,
            "grid_auto_rows": null,
            "grid_column": null,
            "grid_gap": null,
            "grid_row": null,
            "grid_template_areas": null,
            "grid_template_columns": null,
            "grid_template_rows": null,
            "height": null,
            "justify_content": null,
            "justify_items": null,
            "left": null,
            "margin": null,
            "max_height": null,
            "max_width": null,
            "min_height": null,
            "min_width": null,
            "object_fit": null,
            "object_position": null,
            "order": null,
            "overflow": null,
            "overflow_x": null,
            "overflow_y": null,
            "padding": null,
            "right": null,
            "top": null,
            "visibility": null,
            "width": null
          }
        },
        "7d41ffbd1d074e42a5d5904267ddd7e3": {
          "model_module": "@jupyter-widgets/controls",
          "model_name": "DescriptionStyleModel",
          "model_module_version": "1.5.0",
          "state": {
            "_model_module": "@jupyter-widgets/controls",
            "_model_module_version": "1.5.0",
            "_model_name": "DescriptionStyleModel",
            "_view_count": null,
            "_view_module": "@jupyter-widgets/base",
            "_view_module_version": "1.2.0",
            "_view_name": "StyleView",
            "description_width": ""
          }
        },
        "22346cc1df604e67bd5fbc2c116af5f5": {
          "model_module": "@jupyter-widgets/base",
          "model_name": "LayoutModel",
          "model_module_version": "1.2.0",
          "state": {
            "_model_module": "@jupyter-widgets/base",
            "_model_module_version": "1.2.0",
            "_model_name": "LayoutModel",
            "_view_count": null,
            "_view_module": "@jupyter-widgets/base",
            "_view_module_version": "1.2.0",
            "_view_name": "LayoutView",
            "align_content": null,
            "align_items": null,
            "align_self": null,
            "border": null,
            "bottom": null,
            "display": null,
            "flex": null,
            "flex_flow": null,
            "grid_area": null,
            "grid_auto_columns": null,
            "grid_auto_flow": null,
            "grid_auto_rows": null,
            "grid_column": null,
            "grid_gap": null,
            "grid_row": null,
            "grid_template_areas": null,
            "grid_template_columns": null,
            "grid_template_rows": null,
            "height": null,
            "justify_content": null,
            "justify_items": null,
            "left": null,
            "margin": null,
            "max_height": null,
            "max_width": null,
            "min_height": null,
            "min_width": null,
            "object_fit": null,
            "object_position": null,
            "order": null,
            "overflow": null,
            "overflow_x": null,
            "overflow_y": null,
            "padding": null,
            "right": null,
            "top": null,
            "visibility": null,
            "width": null
          }
        },
        "399678b8d2c44c4f87f8e25a48a761f5": {
          "model_module": "@jupyter-widgets/controls",
          "model_name": "ProgressStyleModel",
          "model_module_version": "1.5.0",
          "state": {
            "_model_module": "@jupyter-widgets/controls",
            "_model_module_version": "1.5.0",
            "_model_name": "ProgressStyleModel",
            "_view_count": null,
            "_view_module": "@jupyter-widgets/base",
            "_view_module_version": "1.2.0",
            "_view_name": "StyleView",
            "bar_color": null,
            "description_width": ""
          }
        },
        "29b9342ff0494437b5915a313ae70506": {
          "model_module": "@jupyter-widgets/base",
          "model_name": "LayoutModel",
          "model_module_version": "1.2.0",
          "state": {
            "_model_module": "@jupyter-widgets/base",
            "_model_module_version": "1.2.0",
            "_model_name": "LayoutModel",
            "_view_count": null,
            "_view_module": "@jupyter-widgets/base",
            "_view_module_version": "1.2.0",
            "_view_name": "LayoutView",
            "align_content": null,
            "align_items": null,
            "align_self": null,
            "border": null,
            "bottom": null,
            "display": null,
            "flex": null,
            "flex_flow": null,
            "grid_area": null,
            "grid_auto_columns": null,
            "grid_auto_flow": null,
            "grid_auto_rows": null,
            "grid_column": null,
            "grid_gap": null,
            "grid_row": null,
            "grid_template_areas": null,
            "grid_template_columns": null,
            "grid_template_rows": null,
            "height": null,
            "justify_content": null,
            "justify_items": null,
            "left": null,
            "margin": null,
            "max_height": null,
            "max_width": null,
            "min_height": null,
            "min_width": null,
            "object_fit": null,
            "object_position": null,
            "order": null,
            "overflow": null,
            "overflow_x": null,
            "overflow_y": null,
            "padding": null,
            "right": null,
            "top": null,
            "visibility": null,
            "width": null
          }
        },
        "d3ed80bbf00e44f9bf93f42bf36d48d4": {
          "model_module": "@jupyter-widgets/controls",
          "model_name": "DescriptionStyleModel",
          "model_module_version": "1.5.0",
          "state": {
            "_model_module": "@jupyter-widgets/controls",
            "_model_module_version": "1.5.0",
            "_model_name": "DescriptionStyleModel",
            "_view_count": null,
            "_view_module": "@jupyter-widgets/base",
            "_view_module_version": "1.2.0",
            "_view_name": "StyleView",
            "description_width": ""
          }
        },
        "a1016f6bbc0a4d4c930f91ec73f3ee96": {
          "model_module": "@jupyter-widgets/controls",
          "model_name": "HBoxModel",
          "model_module_version": "1.5.0",
          "state": {
            "_dom_classes": [],
            "_model_module": "@jupyter-widgets/controls",
            "_model_module_version": "1.5.0",
            "_model_name": "HBoxModel",
            "_view_count": null,
            "_view_module": "@jupyter-widgets/controls",
            "_view_module_version": "1.5.0",
            "_view_name": "HBoxView",
            "box_style": "",
            "children": [
              "IPY_MODEL_6b0ddeb5e657446e8dac608b174ee7b7",
              "IPY_MODEL_bc6d16d3f0cd4268ab5a9bc3b962013f",
              "IPY_MODEL_4d90191f61d54b81957347bcf384930b"
            ],
            "layout": "IPY_MODEL_8a96321fbf5a427bb248b04dbb294868"
          }
        },
        "6b0ddeb5e657446e8dac608b174ee7b7": {
          "model_module": "@jupyter-widgets/controls",
          "model_name": "HTMLModel",
          "model_module_version": "1.5.0",
          "state": {
            "_dom_classes": [],
            "_model_module": "@jupyter-widgets/controls",
            "_model_module_version": "1.5.0",
            "_model_name": "HTMLModel",
            "_view_count": null,
            "_view_module": "@jupyter-widgets/controls",
            "_view_module_version": "1.5.0",
            "_view_name": "HTMLView",
            "description": "",
            "description_tooltip": null,
            "layout": "IPY_MODEL_553d94fe87ee425fbc7d9dcb95ae6e79",
            "placeholder": "​",
            "style": "IPY_MODEL_81a567cba3f04b51a7e8558020fa2a89",
            "value": "tokenizer.json: 100%"
          }
        },
        "bc6d16d3f0cd4268ab5a9bc3b962013f": {
          "model_module": "@jupyter-widgets/controls",
          "model_name": "FloatProgressModel",
          "model_module_version": "1.5.0",
          "state": {
            "_dom_classes": [],
            "_model_module": "@jupyter-widgets/controls",
            "_model_module_version": "1.5.0",
            "_model_name": "FloatProgressModel",
            "_view_count": null,
            "_view_module": "@jupyter-widgets/controls",
            "_view_module_version": "1.5.0",
            "_view_name": "ProgressView",
            "bar_style": "success",
            "description": "",
            "description_tooltip": null,
            "layout": "IPY_MODEL_4b273c8639a04a51b028c6477e7f8ab9",
            "max": 2306039,
            "min": 0,
            "orientation": "horizontal",
            "style": "IPY_MODEL_f4afb338b793471ebabda8d3b401e2d4",
            "value": 2306039
          }
        },
        "4d90191f61d54b81957347bcf384930b": {
          "model_module": "@jupyter-widgets/controls",
          "model_name": "HTMLModel",
          "model_module_version": "1.5.0",
          "state": {
            "_dom_classes": [],
            "_model_module": "@jupyter-widgets/controls",
            "_model_module_version": "1.5.0",
            "_model_name": "HTMLModel",
            "_view_count": null,
            "_view_module": "@jupyter-widgets/controls",
            "_view_module_version": "1.5.0",
            "_view_name": "HTMLView",
            "description": "",
            "description_tooltip": null,
            "layout": "IPY_MODEL_3828345d1d3a47b7b8fdb366147d2ebc",
            "placeholder": "​",
            "style": "IPY_MODEL_a15b0208e4e7431684e0e1fa07142373",
            "value": " 2.31M/2.31M [00:00&lt;00:00, 7.22MB/s]"
          }
        },
        "8a96321fbf5a427bb248b04dbb294868": {
          "model_module": "@jupyter-widgets/base",
          "model_name": "LayoutModel",
          "model_module_version": "1.2.0",
          "state": {
            "_model_module": "@jupyter-widgets/base",
            "_model_module_version": "1.2.0",
            "_model_name": "LayoutModel",
            "_view_count": null,
            "_view_module": "@jupyter-widgets/base",
            "_view_module_version": "1.2.0",
            "_view_name": "LayoutView",
            "align_content": null,
            "align_items": null,
            "align_self": null,
            "border": null,
            "bottom": null,
            "display": null,
            "flex": null,
            "flex_flow": null,
            "grid_area": null,
            "grid_auto_columns": null,
            "grid_auto_flow": null,
            "grid_auto_rows": null,
            "grid_column": null,
            "grid_gap": null,
            "grid_row": null,
            "grid_template_areas": null,
            "grid_template_columns": null,
            "grid_template_rows": null,
            "height": null,
            "justify_content": null,
            "justify_items": null,
            "left": null,
            "margin": null,
            "max_height": null,
            "max_width": null,
            "min_height": null,
            "min_width": null,
            "object_fit": null,
            "object_position": null,
            "order": null,
            "overflow": null,
            "overflow_x": null,
            "overflow_y": null,
            "padding": null,
            "right": null,
            "top": null,
            "visibility": null,
            "width": null
          }
        },
        "553d94fe87ee425fbc7d9dcb95ae6e79": {
          "model_module": "@jupyter-widgets/base",
          "model_name": "LayoutModel",
          "model_module_version": "1.2.0",
          "state": {
            "_model_module": "@jupyter-widgets/base",
            "_model_module_version": "1.2.0",
            "_model_name": "LayoutModel",
            "_view_count": null,
            "_view_module": "@jupyter-widgets/base",
            "_view_module_version": "1.2.0",
            "_view_name": "LayoutView",
            "align_content": null,
            "align_items": null,
            "align_self": null,
            "border": null,
            "bottom": null,
            "display": null,
            "flex": null,
            "flex_flow": null,
            "grid_area": null,
            "grid_auto_columns": null,
            "grid_auto_flow": null,
            "grid_auto_rows": null,
            "grid_column": null,
            "grid_gap": null,
            "grid_row": null,
            "grid_template_areas": null,
            "grid_template_columns": null,
            "grid_template_rows": null,
            "height": null,
            "justify_content": null,
            "justify_items": null,
            "left": null,
            "margin": null,
            "max_height": null,
            "max_width": null,
            "min_height": null,
            "min_width": null,
            "object_fit": null,
            "object_position": null,
            "order": null,
            "overflow": null,
            "overflow_x": null,
            "overflow_y": null,
            "padding": null,
            "right": null,
            "top": null,
            "visibility": null,
            "width": null
          }
        },
        "81a567cba3f04b51a7e8558020fa2a89": {
          "model_module": "@jupyter-widgets/controls",
          "model_name": "DescriptionStyleModel",
          "model_module_version": "1.5.0",
          "state": {
            "_model_module": "@jupyter-widgets/controls",
            "_model_module_version": "1.5.0",
            "_model_name": "DescriptionStyleModel",
            "_view_count": null,
            "_view_module": "@jupyter-widgets/base",
            "_view_module_version": "1.2.0",
            "_view_name": "StyleView",
            "description_width": ""
          }
        },
        "4b273c8639a04a51b028c6477e7f8ab9": {
          "model_module": "@jupyter-widgets/base",
          "model_name": "LayoutModel",
          "model_module_version": "1.2.0",
          "state": {
            "_model_module": "@jupyter-widgets/base",
            "_model_module_version": "1.2.0",
            "_model_name": "LayoutModel",
            "_view_count": null,
            "_view_module": "@jupyter-widgets/base",
            "_view_module_version": "1.2.0",
            "_view_name": "LayoutView",
            "align_content": null,
            "align_items": null,
            "align_self": null,
            "border": null,
            "bottom": null,
            "display": null,
            "flex": null,
            "flex_flow": null,
            "grid_area": null,
            "grid_auto_columns": null,
            "grid_auto_flow": null,
            "grid_auto_rows": null,
            "grid_column": null,
            "grid_gap": null,
            "grid_row": null,
            "grid_template_areas": null,
            "grid_template_columns": null,
            "grid_template_rows": null,
            "height": null,
            "justify_content": null,
            "justify_items": null,
            "left": null,
            "margin": null,
            "max_height": null,
            "max_width": null,
            "min_height": null,
            "min_width": null,
            "object_fit": null,
            "object_position": null,
            "order": null,
            "overflow": null,
            "overflow_x": null,
            "overflow_y": null,
            "padding": null,
            "right": null,
            "top": null,
            "visibility": null,
            "width": null
          }
        },
        "f4afb338b793471ebabda8d3b401e2d4": {
          "model_module": "@jupyter-widgets/controls",
          "model_name": "ProgressStyleModel",
          "model_module_version": "1.5.0",
          "state": {
            "_model_module": "@jupyter-widgets/controls",
            "_model_module_version": "1.5.0",
            "_model_name": "ProgressStyleModel",
            "_view_count": null,
            "_view_module": "@jupyter-widgets/base",
            "_view_module_version": "1.2.0",
            "_view_name": "StyleView",
            "bar_color": null,
            "description_width": ""
          }
        },
        "3828345d1d3a47b7b8fdb366147d2ebc": {
          "model_module": "@jupyter-widgets/base",
          "model_name": "LayoutModel",
          "model_module_version": "1.2.0",
          "state": {
            "_model_module": "@jupyter-widgets/base",
            "_model_module_version": "1.2.0",
            "_model_name": "LayoutModel",
            "_view_count": null,
            "_view_module": "@jupyter-widgets/base",
            "_view_module_version": "1.2.0",
            "_view_name": "LayoutView",
            "align_content": null,
            "align_items": null,
            "align_self": null,
            "border": null,
            "bottom": null,
            "display": null,
            "flex": null,
            "flex_flow": null,
            "grid_area": null,
            "grid_auto_columns": null,
            "grid_auto_flow": null,
            "grid_auto_rows": null,
            "grid_column": null,
            "grid_gap": null,
            "grid_row": null,
            "grid_template_areas": null,
            "grid_template_columns": null,
            "grid_template_rows": null,
            "height": null,
            "justify_content": null,
            "justify_items": null,
            "left": null,
            "margin": null,
            "max_height": null,
            "max_width": null,
            "min_height": null,
            "min_width": null,
            "object_fit": null,
            "object_position": null,
            "order": null,
            "overflow": null,
            "overflow_x": null,
            "overflow_y": null,
            "padding": null,
            "right": null,
            "top": null,
            "visibility": null,
            "width": null
          }
        },
        "a15b0208e4e7431684e0e1fa07142373": {
          "model_module": "@jupyter-widgets/controls",
          "model_name": "DescriptionStyleModel",
          "model_module_version": "1.5.0",
          "state": {
            "_model_module": "@jupyter-widgets/controls",
            "_model_module_version": "1.5.0",
            "_model_name": "DescriptionStyleModel",
            "_view_count": null,
            "_view_module": "@jupyter-widgets/base",
            "_view_module_version": "1.2.0",
            "_view_name": "StyleView",
            "description_width": ""
          }
        },
        "a311f65a8d144b66bdc405c1a8c95679": {
          "model_module": "@jupyter-widgets/controls",
          "model_name": "HBoxModel",
          "model_module_version": "1.5.0",
          "state": {
            "_dom_classes": [],
            "_model_module": "@jupyter-widgets/controls",
            "_model_module_version": "1.5.0",
            "_model_name": "HBoxModel",
            "_view_count": null,
            "_view_module": "@jupyter-widgets/controls",
            "_view_module_version": "1.5.0",
            "_view_name": "HBoxView",
            "box_style": "",
            "children": [
              "IPY_MODEL_88359daace964bb88f4d46cce7d2fd20",
              "IPY_MODEL_69413b606aa248e586e06605719e2627",
              "IPY_MODEL_476243fef62146a584cc58690b156418"
            ],
            "layout": "IPY_MODEL_bd0b241ea2b14a37a69968b76ccbb204"
          }
        },
        "88359daace964bb88f4d46cce7d2fd20": {
          "model_module": "@jupyter-widgets/controls",
          "model_name": "HTMLModel",
          "model_module_version": "1.5.0",
          "state": {
            "_dom_classes": [],
            "_model_module": "@jupyter-widgets/controls",
            "_model_module_version": "1.5.0",
            "_model_name": "HTMLModel",
            "_view_count": null,
            "_view_module": "@jupyter-widgets/controls",
            "_view_module_version": "1.5.0",
            "_view_name": "HTMLView",
            "description": "",
            "description_tooltip": null,
            "layout": "IPY_MODEL_7aec478500734bef9185c57703360567",
            "placeholder": "​",
            "style": "IPY_MODEL_9250ea27ffd4400f8ff89d91ade29e59",
            "value": "config.json: 100%"
          }
        },
        "69413b606aa248e586e06605719e2627": {
          "model_module": "@jupyter-widgets/controls",
          "model_name": "FloatProgressModel",
          "model_module_version": "1.5.0",
          "state": {
            "_dom_classes": [],
            "_model_module": "@jupyter-widgets/controls",
            "_model_module_version": "1.5.0",
            "_model_name": "FloatProgressModel",
            "_view_count": null,
            "_view_module": "@jupyter-widgets/controls",
            "_view_module_version": "1.5.0",
            "_view_name": "ProgressView",
            "bar_style": "success",
            "description": "",
            "description_tooltip": null,
            "layout": "IPY_MODEL_3756b454b6bc458e9653a5a6fa43864f",
            "max": 384,
            "min": 0,
            "orientation": "horizontal",
            "style": "IPY_MODEL_2381eac085d14e4d86ed5235e4ad4b4d",
            "value": 384
          }
        },
        "476243fef62146a584cc58690b156418": {
          "model_module": "@jupyter-widgets/controls",
          "model_name": "HTMLModel",
          "model_module_version": "1.5.0",
          "state": {
            "_dom_classes": [],
            "_model_module": "@jupyter-widgets/controls",
            "_model_module_version": "1.5.0",
            "_model_name": "HTMLModel",
            "_view_count": null,
            "_view_module": "@jupyter-widgets/controls",
            "_view_module_version": "1.5.0",
            "_view_name": "HTMLView",
            "description": "",
            "description_tooltip": null,
            "layout": "IPY_MODEL_6055b349dc0344689d1cbc99224349a7",
            "placeholder": "​",
            "style": "IPY_MODEL_b4af36055ecb437482e0dc2f13ac71bc",
            "value": " 384/384 [00:00&lt;00:00, 8.81kB/s]"
          }
        },
        "bd0b241ea2b14a37a69968b76ccbb204": {
          "model_module": "@jupyter-widgets/base",
          "model_name": "LayoutModel",
          "model_module_version": "1.2.0",
          "state": {
            "_model_module": "@jupyter-widgets/base",
            "_model_module_version": "1.2.0",
            "_model_name": "LayoutModel",
            "_view_count": null,
            "_view_module": "@jupyter-widgets/base",
            "_view_module_version": "1.2.0",
            "_view_name": "LayoutView",
            "align_content": null,
            "align_items": null,
            "align_self": null,
            "border": null,
            "bottom": null,
            "display": null,
            "flex": null,
            "flex_flow": null,
            "grid_area": null,
            "grid_auto_columns": null,
            "grid_auto_flow": null,
            "grid_auto_rows": null,
            "grid_column": null,
            "grid_gap": null,
            "grid_row": null,
            "grid_template_areas": null,
            "grid_template_columns": null,
            "grid_template_rows": null,
            "height": null,
            "justify_content": null,
            "justify_items": null,
            "left": null,
            "margin": null,
            "max_height": null,
            "max_width": null,
            "min_height": null,
            "min_width": null,
            "object_fit": null,
            "object_position": null,
            "order": null,
            "overflow": null,
            "overflow_x": null,
            "overflow_y": null,
            "padding": null,
            "right": null,
            "top": null,
            "visibility": null,
            "width": null
          }
        },
        "7aec478500734bef9185c57703360567": {
          "model_module": "@jupyter-widgets/base",
          "model_name": "LayoutModel",
          "model_module_version": "1.2.0",
          "state": {
            "_model_module": "@jupyter-widgets/base",
            "_model_module_version": "1.2.0",
            "_model_name": "LayoutModel",
            "_view_count": null,
            "_view_module": "@jupyter-widgets/base",
            "_view_module_version": "1.2.0",
            "_view_name": "LayoutView",
            "align_content": null,
            "align_items": null,
            "align_self": null,
            "border": null,
            "bottom": null,
            "display": null,
            "flex": null,
            "flex_flow": null,
            "grid_area": null,
            "grid_auto_columns": null,
            "grid_auto_flow": null,
            "grid_auto_rows": null,
            "grid_column": null,
            "grid_gap": null,
            "grid_row": null,
            "grid_template_areas": null,
            "grid_template_columns": null,
            "grid_template_rows": null,
            "height": null,
            "justify_content": null,
            "justify_items": null,
            "left": null,
            "margin": null,
            "max_height": null,
            "max_width": null,
            "min_height": null,
            "min_width": null,
            "object_fit": null,
            "object_position": null,
            "order": null,
            "overflow": null,
            "overflow_x": null,
            "overflow_y": null,
            "padding": null,
            "right": null,
            "top": null,
            "visibility": null,
            "width": null
          }
        },
        "9250ea27ffd4400f8ff89d91ade29e59": {
          "model_module": "@jupyter-widgets/controls",
          "model_name": "DescriptionStyleModel",
          "model_module_version": "1.5.0",
          "state": {
            "_model_module": "@jupyter-widgets/controls",
            "_model_module_version": "1.5.0",
            "_model_name": "DescriptionStyleModel",
            "_view_count": null,
            "_view_module": "@jupyter-widgets/base",
            "_view_module_version": "1.2.0",
            "_view_name": "StyleView",
            "description_width": ""
          }
        },
        "3756b454b6bc458e9653a5a6fa43864f": {
          "model_module": "@jupyter-widgets/base",
          "model_name": "LayoutModel",
          "model_module_version": "1.2.0",
          "state": {
            "_model_module": "@jupyter-widgets/base",
            "_model_module_version": "1.2.0",
            "_model_name": "LayoutModel",
            "_view_count": null,
            "_view_module": "@jupyter-widgets/base",
            "_view_module_version": "1.2.0",
            "_view_name": "LayoutView",
            "align_content": null,
            "align_items": null,
            "align_self": null,
            "border": null,
            "bottom": null,
            "display": null,
            "flex": null,
            "flex_flow": null,
            "grid_area": null,
            "grid_auto_columns": null,
            "grid_auto_flow": null,
            "grid_auto_rows": null,
            "grid_column": null,
            "grid_gap": null,
            "grid_row": null,
            "grid_template_areas": null,
            "grid_template_columns": null,
            "grid_template_rows": null,
            "height": null,
            "justify_content": null,
            "justify_items": null,
            "left": null,
            "margin": null,
            "max_height": null,
            "max_width": null,
            "min_height": null,
            "min_width": null,
            "object_fit": null,
            "object_position": null,
            "order": null,
            "overflow": null,
            "overflow_x": null,
            "overflow_y": null,
            "padding": null,
            "right": null,
            "top": null,
            "visibility": null,
            "width": null
          }
        },
        "2381eac085d14e4d86ed5235e4ad4b4d": {
          "model_module": "@jupyter-widgets/controls",
          "model_name": "ProgressStyleModel",
          "model_module_version": "1.5.0",
          "state": {
            "_model_module": "@jupyter-widgets/controls",
            "_model_module_version": "1.5.0",
            "_model_name": "ProgressStyleModel",
            "_view_count": null,
            "_view_module": "@jupyter-widgets/base",
            "_view_module_version": "1.2.0",
            "_view_name": "StyleView",
            "bar_color": null,
            "description_width": ""
          }
        },
        "6055b349dc0344689d1cbc99224349a7": {
          "model_module": "@jupyter-widgets/base",
          "model_name": "LayoutModel",
          "model_module_version": "1.2.0",
          "state": {
            "_model_module": "@jupyter-widgets/base",
            "_model_module_version": "1.2.0",
            "_model_name": "LayoutModel",
            "_view_count": null,
            "_view_module": "@jupyter-widgets/base",
            "_view_module_version": "1.2.0",
            "_view_name": "LayoutView",
            "align_content": null,
            "align_items": null,
            "align_self": null,
            "border": null,
            "bottom": null,
            "display": null,
            "flex": null,
            "flex_flow": null,
            "grid_area": null,
            "grid_auto_columns": null,
            "grid_auto_flow": null,
            "grid_auto_rows": null,
            "grid_column": null,
            "grid_gap": null,
            "grid_row": null,
            "grid_template_areas": null,
            "grid_template_columns": null,
            "grid_template_rows": null,
            "height": null,
            "justify_content": null,
            "justify_items": null,
            "left": null,
            "margin": null,
            "max_height": null,
            "max_width": null,
            "min_height": null,
            "min_width": null,
            "object_fit": null,
            "object_position": null,
            "order": null,
            "overflow": null,
            "overflow_x": null,
            "overflow_y": null,
            "padding": null,
            "right": null,
            "top": null,
            "visibility": null,
            "width": null
          }
        },
        "b4af36055ecb437482e0dc2f13ac71bc": {
          "model_module": "@jupyter-widgets/controls",
          "model_name": "DescriptionStyleModel",
          "model_module_version": "1.5.0",
          "state": {
            "_model_module": "@jupyter-widgets/controls",
            "_model_module_version": "1.5.0",
            "_model_name": "DescriptionStyleModel",
            "_view_count": null,
            "_view_module": "@jupyter-widgets/base",
            "_view_module_version": "1.2.0",
            "_view_name": "StyleView",
            "description_width": ""
          }
        },
        "46ffb63bac20479fb28af793617426a2": {
          "model_module": "@jupyter-widgets/controls",
          "model_name": "HBoxModel",
          "model_module_version": "1.5.0",
          "state": {
            "_dom_classes": [],
            "_model_module": "@jupyter-widgets/controls",
            "_model_module_version": "1.5.0",
            "_model_name": "HBoxModel",
            "_view_count": null,
            "_view_module": "@jupyter-widgets/controls",
            "_view_module_version": "1.5.0",
            "_view_name": "HBoxView",
            "box_style": "",
            "children": [
              "IPY_MODEL_c9d85269ea264bc59ff98ffdee556bd7",
              "IPY_MODEL_c4efde11a723447fbf357e6ea5a735d8",
              "IPY_MODEL_912c2c8d5f044166a6b8bbe12ca7ff4b"
            ],
            "layout": "IPY_MODEL_b5b3e53f78c340efbbc827dc5bf79c00"
          }
        },
        "c9d85269ea264bc59ff98ffdee556bd7": {
          "model_module": "@jupyter-widgets/controls",
          "model_name": "HTMLModel",
          "model_module_version": "1.5.0",
          "state": {
            "_dom_classes": [],
            "_model_module": "@jupyter-widgets/controls",
            "_model_module_version": "1.5.0",
            "_model_name": "HTMLModel",
            "_view_count": null,
            "_view_module": "@jupyter-widgets/controls",
            "_view_module_version": "1.5.0",
            "_view_name": "HTMLView",
            "description": "",
            "description_tooltip": null,
            "layout": "IPY_MODEL_0ee452dd3b474c4a8d21152ebd1884a0",
            "placeholder": "​",
            "style": "IPY_MODEL_880807a36ab740309afc6823e43d381c",
            "value": "model.safetensors: 100%"
          }
        },
        "c4efde11a723447fbf357e6ea5a735d8": {
          "model_module": "@jupyter-widgets/controls",
          "model_name": "FloatProgressModel",
          "model_module_version": "1.5.0",
          "state": {
            "_dom_classes": [],
            "_model_module": "@jupyter-widgets/controls",
            "_model_module_version": "1.5.0",
            "_model_name": "FloatProgressModel",
            "_view_count": null,
            "_view_module": "@jupyter-widgets/controls",
            "_view_module_version": "1.5.0",
            "_view_name": "ProgressView",
            "bar_style": "success",
            "description": "",
            "description_tooltip": null,
            "layout": "IPY_MODEL_a75d7d4383664f1b89cae698dde65a51",
            "max": 543432324,
            "min": 0,
            "orientation": "horizontal",
            "style": "IPY_MODEL_33ac0f8fad9f4c0b9ad3389913e3d15a",
            "value": 543432324
          }
        },
        "912c2c8d5f044166a6b8bbe12ca7ff4b": {
          "model_module": "@jupyter-widgets/controls",
          "model_name": "HTMLModel",
          "model_module_version": "1.5.0",
          "state": {
            "_dom_classes": [],
            "_model_module": "@jupyter-widgets/controls",
            "_model_module_version": "1.5.0",
            "_model_name": "HTMLModel",
            "_view_count": null,
            "_view_module": "@jupyter-widgets/controls",
            "_view_module_version": "1.5.0",
            "_view_name": "HTMLView",
            "description": "",
            "description_tooltip": null,
            "layout": "IPY_MODEL_9fb3c735cf4244b5ad46da191b9699f9",
            "placeholder": "​",
            "style": "IPY_MODEL_85f471f68292484e82e26f8a50cf9f3e",
            "value": " 543M/543M [00:11&lt;00:00, 24.4MB/s]"
          }
        },
        "b5b3e53f78c340efbbc827dc5bf79c00": {
          "model_module": "@jupyter-widgets/base",
          "model_name": "LayoutModel",
          "model_module_version": "1.2.0",
          "state": {
            "_model_module": "@jupyter-widgets/base",
            "_model_module_version": "1.2.0",
            "_model_name": "LayoutModel",
            "_view_count": null,
            "_view_module": "@jupyter-widgets/base",
            "_view_module_version": "1.2.0",
            "_view_name": "LayoutView",
            "align_content": null,
            "align_items": null,
            "align_self": null,
            "border": null,
            "bottom": null,
            "display": null,
            "flex": null,
            "flex_flow": null,
            "grid_area": null,
            "grid_auto_columns": null,
            "grid_auto_flow": null,
            "grid_auto_rows": null,
            "grid_column": null,
            "grid_gap": null,
            "grid_row": null,
            "grid_template_areas": null,
            "grid_template_columns": null,
            "grid_template_rows": null,
            "height": null,
            "justify_content": null,
            "justify_items": null,
            "left": null,
            "margin": null,
            "max_height": null,
            "max_width": null,
            "min_height": null,
            "min_width": null,
            "object_fit": null,
            "object_position": null,
            "order": null,
            "overflow": null,
            "overflow_x": null,
            "overflow_y": null,
            "padding": null,
            "right": null,
            "top": null,
            "visibility": null,
            "width": null
          }
        },
        "0ee452dd3b474c4a8d21152ebd1884a0": {
          "model_module": "@jupyter-widgets/base",
          "model_name": "LayoutModel",
          "model_module_version": "1.2.0",
          "state": {
            "_model_module": "@jupyter-widgets/base",
            "_model_module_version": "1.2.0",
            "_model_name": "LayoutModel",
            "_view_count": null,
            "_view_module": "@jupyter-widgets/base",
            "_view_module_version": "1.2.0",
            "_view_name": "LayoutView",
            "align_content": null,
            "align_items": null,
            "align_self": null,
            "border": null,
            "bottom": null,
            "display": null,
            "flex": null,
            "flex_flow": null,
            "grid_area": null,
            "grid_auto_columns": null,
            "grid_auto_flow": null,
            "grid_auto_rows": null,
            "grid_column": null,
            "grid_gap": null,
            "grid_row": null,
            "grid_template_areas": null,
            "grid_template_columns": null,
            "grid_template_rows": null,
            "height": null,
            "justify_content": null,
            "justify_items": null,
            "left": null,
            "margin": null,
            "max_height": null,
            "max_width": null,
            "min_height": null,
            "min_width": null,
            "object_fit": null,
            "object_position": null,
            "order": null,
            "overflow": null,
            "overflow_x": null,
            "overflow_y": null,
            "padding": null,
            "right": null,
            "top": null,
            "visibility": null,
            "width": null
          }
        },
        "880807a36ab740309afc6823e43d381c": {
          "model_module": "@jupyter-widgets/controls",
          "model_name": "DescriptionStyleModel",
          "model_module_version": "1.5.0",
          "state": {
            "_model_module": "@jupyter-widgets/controls",
            "_model_module_version": "1.5.0",
            "_model_name": "DescriptionStyleModel",
            "_view_count": null,
            "_view_module": "@jupyter-widgets/base",
            "_view_module_version": "1.2.0",
            "_view_name": "StyleView",
            "description_width": ""
          }
        },
        "a75d7d4383664f1b89cae698dde65a51": {
          "model_module": "@jupyter-widgets/base",
          "model_name": "LayoutModel",
          "model_module_version": "1.2.0",
          "state": {
            "_model_module": "@jupyter-widgets/base",
            "_model_module_version": "1.2.0",
            "_model_name": "LayoutModel",
            "_view_count": null,
            "_view_module": "@jupyter-widgets/base",
            "_view_module_version": "1.2.0",
            "_view_name": "LayoutView",
            "align_content": null,
            "align_items": null,
            "align_self": null,
            "border": null,
            "bottom": null,
            "display": null,
            "flex": null,
            "flex_flow": null,
            "grid_area": null,
            "grid_auto_columns": null,
            "grid_auto_flow": null,
            "grid_auto_rows": null,
            "grid_column": null,
            "grid_gap": null,
            "grid_row": null,
            "grid_template_areas": null,
            "grid_template_columns": null,
            "grid_template_rows": null,
            "height": null,
            "justify_content": null,
            "justify_items": null,
            "left": null,
            "margin": null,
            "max_height": null,
            "max_width": null,
            "min_height": null,
            "min_width": null,
            "object_fit": null,
            "object_position": null,
            "order": null,
            "overflow": null,
            "overflow_x": null,
            "overflow_y": null,
            "padding": null,
            "right": null,
            "top": null,
            "visibility": null,
            "width": null
          }
        },
        "33ac0f8fad9f4c0b9ad3389913e3d15a": {
          "model_module": "@jupyter-widgets/controls",
          "model_name": "ProgressStyleModel",
          "model_module_version": "1.5.0",
          "state": {
            "_model_module": "@jupyter-widgets/controls",
            "_model_module_version": "1.5.0",
            "_model_name": "ProgressStyleModel",
            "_view_count": null,
            "_view_module": "@jupyter-widgets/base",
            "_view_module_version": "1.2.0",
            "_view_name": "StyleView",
            "bar_color": null,
            "description_width": ""
          }
        },
        "9fb3c735cf4244b5ad46da191b9699f9": {
          "model_module": "@jupyter-widgets/base",
          "model_name": "LayoutModel",
          "model_module_version": "1.2.0",
          "state": {
            "_model_module": "@jupyter-widgets/base",
            "_model_module_version": "1.2.0",
            "_model_name": "LayoutModel",
            "_view_count": null,
            "_view_module": "@jupyter-widgets/base",
            "_view_module_version": "1.2.0",
            "_view_name": "LayoutView",
            "align_content": null,
            "align_items": null,
            "align_self": null,
            "border": null,
            "bottom": null,
            "display": null,
            "flex": null,
            "flex_flow": null,
            "grid_area": null,
            "grid_auto_columns": null,
            "grid_auto_flow": null,
            "grid_auto_rows": null,
            "grid_column": null,
            "grid_gap": null,
            "grid_row": null,
            "grid_template_areas": null,
            "grid_template_columns": null,
            "grid_template_rows": null,
            "height": null,
            "justify_content": null,
            "justify_items": null,
            "left": null,
            "margin": null,
            "max_height": null,
            "max_width": null,
            "min_height": null,
            "min_width": null,
            "object_fit": null,
            "object_position": null,
            "order": null,
            "overflow": null,
            "overflow_x": null,
            "overflow_y": null,
            "padding": null,
            "right": null,
            "top": null,
            "visibility": null,
            "width": null
          }
        },
        "85f471f68292484e82e26f8a50cf9f3e": {
          "model_module": "@jupyter-widgets/controls",
          "model_name": "DescriptionStyleModel",
          "model_module_version": "1.5.0",
          "state": {
            "_model_module": "@jupyter-widgets/controls",
            "_model_module_version": "1.5.0",
            "_model_name": "DescriptionStyleModel",
            "_view_count": null,
            "_view_module": "@jupyter-widgets/base",
            "_view_module_version": "1.2.0",
            "_view_name": "StyleView",
            "description_width": ""
          }
        }
      }
    }
  },
  "cells": [
    {
      "cell_type": "code",
      "source": [
        "from google.colab import drive\n",
        "drive.mount('/content/drive')"
      ],
      "metadata": {
        "colab": {
          "base_uri": "https://localhost:8080/"
        },
        "id": "liLpe_kS4R6w",
        "outputId": "782ce8b3-95c8-42fc-905d-e42e13bdfcad"
      },
      "execution_count": null,
      "outputs": [
        {
          "output_type": "stream",
          "name": "stdout",
          "text": [
            "Mounted at /content/drive\n"
          ]
        }
      ]
    },
    {
      "cell_type": "code",
      "source": [
        "import torch\n",
        "from torch import nn\n"
      ],
      "metadata": {
        "id": "0Gr38CO0MSo0"
      },
      "execution_count": null,
      "outputs": []
    },
    {
      "cell_type": "code",
      "execution_count": null,
      "metadata": {
        "colab": {
          "base_uri": "https://localhost:8080/"
        },
        "id": "ybCAAzNXbgek",
        "outputId": "e46ca7bf-2775-4ea5-9175-5a1396c374de"
      },
      "outputs": [
        {
          "output_type": "stream",
          "name": "stdout",
          "text": [
            "Files extracted to /content/SANAD_SUBSET\n"
          ]
        }
      ],
      "source": [
        "import os\n",
        "import pandas as pd\n",
        "from sklearn.preprocessing import LabelEncoder\n",
        "\n",
        "import zipfile\n",
        "\n",
        "# Unzip the SANAD_SUBSET.zip file\n",
        "zip_path = \"/content/drive/MyDrive/SANAD_SUBSET.zip\"\n",
        "extract_to = \"/content/SANAD_SUBSET\"\n",
        "\n",
        "with zipfile.ZipFile(zip_path, 'r') as zip_ref:\n",
        "    zip_ref.extractall(extract_to)\n",
        "\n",
        "print(f\"Files extracted to {extract_to}\")\n",
        "\n"
      ]
    },
    {
      "cell_type": "code",
      "source": [
        "import pandas as pd\n",
        "from bs4 import BeautifulSoup\n",
        "import os\n",
        "\n",
        "def load_sanad_data(base_dir):\n",
        "    \"\"\"\n",
        "    Load SANAD dataset with .txt and .html files into a DataFrame.\n",
        "    \"\"\"\n",
        "    data = []\n",
        "\n",
        "    # Loop through the directory structure\n",
        "    for root, dirs, files in os.walk(base_dir):\n",
        "        for file in files:\n",
        "            file_path = os.path.join(root, file)\n",
        "\n",
        "            # Check for .txt and .html files\n",
        "            if file.endswith('.txt') or file.endswith('.html'):\n",
        "                # Extract source, split, and category (label) from path\n",
        "                parts = root.split('/')\n",
        "                source = parts[-3]  # e.g., akhbarona, arabiya, khaleej\n",
        "                split = parts[-2]   # e.g., Train or Test\n",
        "                category = parts[-1]  # e.g., Culture, Finance, etc.\n",
        "\n",
        "                # Read file content\n",
        "                with open(file_path, 'r', encoding='utf-8', errors='ignore') as f:\n",
        "                    if file.endswith('.html'):\n",
        "                        # Parse HTML files\n",
        "                        soup = BeautifulSoup(f.read(), 'html.parser')\n",
        "                        text = soup.get_text(strip=True)\n",
        "                    else:\n",
        "                        # Read plain text files\n",
        "                        text = f.read().strip()\n",
        "\n",
        "                    # Append to data list\n",
        "                    data.append({\n",
        "                        'text': text,\n",
        "                        'label': category,\n",
        "                        'split': split,\n",
        "                        'source': source\n",
        "                    })\n",
        "\n",
        "    return pd.DataFrame(data)\n",
        "\n",
        "# Load Dataset\n",
        "dataset_path = \"/content/SANAD_SUBSET\"\n",
        "df = load_sanad_data(dataset_path)\n",
        "\n",
        "# Verify the loaded data\n",
        "print(\"Data loaded successfully!\")\n",
        "print(df.head())\n",
        "print(f\"Total records: {len(df)}\")\n"
      ],
      "metadata": {
        "colab": {
          "base_uri": "https://localhost:8080/"
        },
        "id": "FH_xyrOgcF8Z",
        "outputId": "62985e0e-5bce-47d9-a65c-6a2aaf545d9a"
      },
      "execution_count": null,
      "outputs": [
        {
          "output_type": "stream",
          "name": "stderr",
          "text": [
            "<ipython-input-6-ae318d95641d>:28: MarkupResemblesLocatorWarning: The input looks more like a filename than markup. You may want to open this file and pass the filehandle into Beautiful Soup.\n",
            "  soup = BeautifulSoup(f.read(), 'html.parser')\n"
          ]
        },
        {
          "output_type": "stream",
          "name": "stdout",
          "text": [
            "Data loaded successfully!\n",
            "                                                text label  split   source\n",
            "0  Body\\nدبي:«الخليج» أعلن منظمو معرض ومسابقة «جل...  Tech  Train  khaleej\n",
            "1  Body\\nزار سمو الشيخ راشد بن سعود بن راشد المعل...  Tech  Train  khaleej\n",
            "2  Body\\nدبي: «الخليج» أعلنت كل من شركة الثريا لل...  Tech  Train  khaleej\n",
            "3  Body\\nوزعت اتصالات الجوائز على الدفعة الأولى م...  Tech  Train  khaleej\n",
            "4  Body\\nقدمت باناسونيك مجموعة من حلول العرض الجد...  Tech  Train  khaleej\n",
            "Total records: 107050\n"
          ]
        }
      ]
    },
    {
      "cell_type": "code",
      "source": [
        "print(df['source'].value_counts())  # Check the count of sources\n",
        "print(df['split'].value_counts())   # Check the count of Train/Test\n",
        "print(df['label'].value_counts())   # Check the count of categories\n"
      ],
      "metadata": {
        "colab": {
          "base_uri": "https://localhost:8080/"
        },
        "id": "WJyOdPHDenPa",
        "outputId": "5f550533-dea8-4e85-e64e-8f226e1d6bbf"
      },
      "execution_count": null,
      "outputs": [
        {
          "output_type": "stream",
          "name": "stdout",
          "text": [
            "source\n",
            "khaleej      45500\n",
            "akhbarona    43050\n",
            "arabiya      18500\n",
            "Name: count, dtype: int64\n",
            "split\n",
            "Train    96354\n",
            "Test     10696\n",
            "Name: count, dtype: int64\n",
            "label\n",
            "Tech        16900\n",
            "Medical     16900\n",
            "Politics    16900\n",
            "Sports      16900\n",
            "Finance     16900\n",
            "Culture     13200\n",
            "Religion     9350\n",
            "Name: count, dtype: int64\n"
          ]
        }
      ]
    },
    {
      "cell_type": "code",
      "source": [
        "# Save the transformed data to CSV\n",
        "output_file = 'sanad_transformed.csv'\n",
        "df.to_csv(output_file, index=False, encoding='utf-8')\n",
        "\n",
        "print(f\"Data successfully saved to {output_file}\")\n",
        "\n"
      ],
      "metadata": {
        "colab": {
          "base_uri": "https://localhost:8080/"
        },
        "id": "MbH1y0uhc1Md",
        "outputId": "d199c5b4-d895-4229-bcc4-86ef765e0f61"
      },
      "execution_count": null,
      "outputs": [
        {
          "output_type": "stream",
          "name": "stdout",
          "text": [
            "Data successfully saved to sanad_transformed.csv\n"
          ]
        }
      ]
    },
    {
      "cell_type": "code",
      "source": [
        "import pandas as pd\n",
        "\n",
        "# Path to the saved CSV file\n",
        "csv_file = \"sanad_transformed.csv\"\n",
        "\n",
        "# Load the CSV file\n",
        "df = pd.read_csv(csv_file, encoding='utf-8')"
      ],
      "metadata": {
        "id": "goVmltVQgGpe"
      },
      "execution_count": null,
      "outputs": []
    },
    {
      "cell_type": "code",
      "source": [
        "df"
      ],
      "metadata": {
        "colab": {
          "base_uri": "https://localhost:8080/",
          "height": 423
        },
        "id": "A6mkuEF8ga-b",
        "outputId": "1d5da68f-0d93-49a6-a0cf-cf1a39793f2d"
      },
      "execution_count": null,
      "outputs": [
        {
          "output_type": "execute_result",
          "data": {
            "text/plain": [
              "                                                     text   label  split  \\\n",
              "0       Body\\nدبي:«الخليج» أعلن منظمو معرض ومسابقة «جل...    Tech  Train   \n",
              "1       Body\\nزار سمو الشيخ راشد بن سعود بن راشد المعل...    Tech  Train   \n",
              "2       Body\\nدبي: «الخليج» أعلنت كل من شركة الثريا لل...    Tech  Train   \n",
              "3       Body\\nوزعت اتصالات الجوائز على الدفعة الأولى م...    Tech  Train   \n",
              "4       Body\\nقدمت باناسونيك مجموعة من حلول العرض الجد...    Tech  Train   \n",
              "...                                                   ...     ...    ...   \n",
              "107045  Title\\nايفرا يمدد عقده مع يوفنتوس حتى 2017\\nSo...  Sports   Test   \n",
              "107046  Title\\n#بلاتر: قلبي لن ينسى ما حدث \\nSource\\nز...  Sports   Test   \n",
              "107047  Title\\nمدرب سوانزي: رانخيل سيخضع لعملية جراحية...  Sports   Test   \n",
              "107048  Title\\nالشرطة البرازيلية تداهم مقر اللجنة الأو...  Sports   Test   \n",
              "107049  Title\\nالاتحاد الآسيوي يعمم عقوبات لاعبي الفيص...  Sports   Test   \n",
              "\n",
              "         source  \n",
              "0       khaleej  \n",
              "1       khaleej  \n",
              "2       khaleej  \n",
              "3       khaleej  \n",
              "4       khaleej  \n",
              "...         ...  \n",
              "107045  arabiya  \n",
              "107046  arabiya  \n",
              "107047  arabiya  \n",
              "107048  arabiya  \n",
              "107049  arabiya  \n",
              "\n",
              "[107050 rows x 4 columns]"
            ],
            "text/html": [
              "\n",
              "  <div id=\"df-93faca78-f053-4553-be77-7c20111fbcb5\" class=\"colab-df-container\">\n",
              "    <div>\n",
              "<style scoped>\n",
              "    .dataframe tbody tr th:only-of-type {\n",
              "        vertical-align: middle;\n",
              "    }\n",
              "\n",
              "    .dataframe tbody tr th {\n",
              "        vertical-align: top;\n",
              "    }\n",
              "\n",
              "    .dataframe thead th {\n",
              "        text-align: right;\n",
              "    }\n",
              "</style>\n",
              "<table border=\"1\" class=\"dataframe\">\n",
              "  <thead>\n",
              "    <tr style=\"text-align: right;\">\n",
              "      <th></th>\n",
              "      <th>text</th>\n",
              "      <th>label</th>\n",
              "      <th>split</th>\n",
              "      <th>source</th>\n",
              "    </tr>\n",
              "  </thead>\n",
              "  <tbody>\n",
              "    <tr>\n",
              "      <th>0</th>\n",
              "      <td>Body\\nدبي:«الخليج» أعلن منظمو معرض ومسابقة «جل...</td>\n",
              "      <td>Tech</td>\n",
              "      <td>Train</td>\n",
              "      <td>khaleej</td>\n",
              "    </tr>\n",
              "    <tr>\n",
              "      <th>1</th>\n",
              "      <td>Body\\nزار سمو الشيخ راشد بن سعود بن راشد المعل...</td>\n",
              "      <td>Tech</td>\n",
              "      <td>Train</td>\n",
              "      <td>khaleej</td>\n",
              "    </tr>\n",
              "    <tr>\n",
              "      <th>2</th>\n",
              "      <td>Body\\nدبي: «الخليج» أعلنت كل من شركة الثريا لل...</td>\n",
              "      <td>Tech</td>\n",
              "      <td>Train</td>\n",
              "      <td>khaleej</td>\n",
              "    </tr>\n",
              "    <tr>\n",
              "      <th>3</th>\n",
              "      <td>Body\\nوزعت اتصالات الجوائز على الدفعة الأولى م...</td>\n",
              "      <td>Tech</td>\n",
              "      <td>Train</td>\n",
              "      <td>khaleej</td>\n",
              "    </tr>\n",
              "    <tr>\n",
              "      <th>4</th>\n",
              "      <td>Body\\nقدمت باناسونيك مجموعة من حلول العرض الجد...</td>\n",
              "      <td>Tech</td>\n",
              "      <td>Train</td>\n",
              "      <td>khaleej</td>\n",
              "    </tr>\n",
              "    <tr>\n",
              "      <th>...</th>\n",
              "      <td>...</td>\n",
              "      <td>...</td>\n",
              "      <td>...</td>\n",
              "      <td>...</td>\n",
              "    </tr>\n",
              "    <tr>\n",
              "      <th>107045</th>\n",
              "      <td>Title\\nايفرا يمدد عقده مع يوفنتوس حتى 2017\\nSo...</td>\n",
              "      <td>Sports</td>\n",
              "      <td>Test</td>\n",
              "      <td>arabiya</td>\n",
              "    </tr>\n",
              "    <tr>\n",
              "      <th>107046</th>\n",
              "      <td>Title\\n#بلاتر: قلبي لن ينسى ما حدث \\nSource\\nز...</td>\n",
              "      <td>Sports</td>\n",
              "      <td>Test</td>\n",
              "      <td>arabiya</td>\n",
              "    </tr>\n",
              "    <tr>\n",
              "      <th>107047</th>\n",
              "      <td>Title\\nمدرب سوانزي: رانخيل سيخضع لعملية جراحية...</td>\n",
              "      <td>Sports</td>\n",
              "      <td>Test</td>\n",
              "      <td>arabiya</td>\n",
              "    </tr>\n",
              "    <tr>\n",
              "      <th>107048</th>\n",
              "      <td>Title\\nالشرطة البرازيلية تداهم مقر اللجنة الأو...</td>\n",
              "      <td>Sports</td>\n",
              "      <td>Test</td>\n",
              "      <td>arabiya</td>\n",
              "    </tr>\n",
              "    <tr>\n",
              "      <th>107049</th>\n",
              "      <td>Title\\nالاتحاد الآسيوي يعمم عقوبات لاعبي الفيص...</td>\n",
              "      <td>Sports</td>\n",
              "      <td>Test</td>\n",
              "      <td>arabiya</td>\n",
              "    </tr>\n",
              "  </tbody>\n",
              "</table>\n",
              "<p>107050 rows × 4 columns</p>\n",
              "</div>\n",
              "    <div class=\"colab-df-buttons\">\n",
              "\n",
              "  <div class=\"colab-df-container\">\n",
              "    <button class=\"colab-df-convert\" onclick=\"convertToInteractive('df-93faca78-f053-4553-be77-7c20111fbcb5')\"\n",
              "            title=\"Convert this dataframe to an interactive table.\"\n",
              "            style=\"display:none;\">\n",
              "\n",
              "  <svg xmlns=\"http://www.w3.org/2000/svg\" height=\"24px\" viewBox=\"0 -960 960 960\">\n",
              "    <path d=\"M120-120v-720h720v720H120Zm60-500h600v-160H180v160Zm220 220h160v-160H400v160Zm0 220h160v-160H400v160ZM180-400h160v-160H180v160Zm440 0h160v-160H620v160ZM180-180h160v-160H180v160Zm440 0h160v-160H620v160Z\"/>\n",
              "  </svg>\n",
              "    </button>\n",
              "\n",
              "  <style>\n",
              "    .colab-df-container {\n",
              "      display:flex;\n",
              "      gap: 12px;\n",
              "    }\n",
              "\n",
              "    .colab-df-convert {\n",
              "      background-color: #E8F0FE;\n",
              "      border: none;\n",
              "      border-radius: 50%;\n",
              "      cursor: pointer;\n",
              "      display: none;\n",
              "      fill: #1967D2;\n",
              "      height: 32px;\n",
              "      padding: 0 0 0 0;\n",
              "      width: 32px;\n",
              "    }\n",
              "\n",
              "    .colab-df-convert:hover {\n",
              "      background-color: #E2EBFA;\n",
              "      box-shadow: 0px 1px 2px rgba(60, 64, 67, 0.3), 0px 1px 3px 1px rgba(60, 64, 67, 0.15);\n",
              "      fill: #174EA6;\n",
              "    }\n",
              "\n",
              "    .colab-df-buttons div {\n",
              "      margin-bottom: 4px;\n",
              "    }\n",
              "\n",
              "    [theme=dark] .colab-df-convert {\n",
              "      background-color: #3B4455;\n",
              "      fill: #D2E3FC;\n",
              "    }\n",
              "\n",
              "    [theme=dark] .colab-df-convert:hover {\n",
              "      background-color: #434B5C;\n",
              "      box-shadow: 0px 1px 3px 1px rgba(0, 0, 0, 0.15);\n",
              "      filter: drop-shadow(0px 1px 2px rgba(0, 0, 0, 0.3));\n",
              "      fill: #FFFFFF;\n",
              "    }\n",
              "  </style>\n",
              "\n",
              "    <script>\n",
              "      const buttonEl =\n",
              "        document.querySelector('#df-93faca78-f053-4553-be77-7c20111fbcb5 button.colab-df-convert');\n",
              "      buttonEl.style.display =\n",
              "        google.colab.kernel.accessAllowed ? 'block' : 'none';\n",
              "\n",
              "      async function convertToInteractive(key) {\n",
              "        const element = document.querySelector('#df-93faca78-f053-4553-be77-7c20111fbcb5');\n",
              "        const dataTable =\n",
              "          await google.colab.kernel.invokeFunction('convertToInteractive',\n",
              "                                                    [key], {});\n",
              "        if (!dataTable) return;\n",
              "\n",
              "        const docLinkHtml = 'Like what you see? Visit the ' +\n",
              "          '<a target=\"_blank\" href=https://colab.research.google.com/notebooks/data_table.ipynb>data table notebook</a>'\n",
              "          + ' to learn more about interactive tables.';\n",
              "        element.innerHTML = '';\n",
              "        dataTable['output_type'] = 'display_data';\n",
              "        await google.colab.output.renderOutput(dataTable, element);\n",
              "        const docLink = document.createElement('div');\n",
              "        docLink.innerHTML = docLinkHtml;\n",
              "        element.appendChild(docLink);\n",
              "      }\n",
              "    </script>\n",
              "  </div>\n",
              "\n",
              "\n",
              "<div id=\"df-559bd124-e763-430a-b470-3586d1acfbd9\">\n",
              "  <button class=\"colab-df-quickchart\" onclick=\"quickchart('df-559bd124-e763-430a-b470-3586d1acfbd9')\"\n",
              "            title=\"Suggest charts\"\n",
              "            style=\"display:none;\">\n",
              "\n",
              "<svg xmlns=\"http://www.w3.org/2000/svg\" height=\"24px\"viewBox=\"0 0 24 24\"\n",
              "     width=\"24px\">\n",
              "    <g>\n",
              "        <path d=\"M19 3H5c-1.1 0-2 .9-2 2v14c0 1.1.9 2 2 2h14c1.1 0 2-.9 2-2V5c0-1.1-.9-2-2-2zM9 17H7v-7h2v7zm4 0h-2V7h2v10zm4 0h-2v-4h2v4z\"/>\n",
              "    </g>\n",
              "</svg>\n",
              "  </button>\n",
              "\n",
              "<style>\n",
              "  .colab-df-quickchart {\n",
              "      --bg-color: #E8F0FE;\n",
              "      --fill-color: #1967D2;\n",
              "      --hover-bg-color: #E2EBFA;\n",
              "      --hover-fill-color: #174EA6;\n",
              "      --disabled-fill-color: #AAA;\n",
              "      --disabled-bg-color: #DDD;\n",
              "  }\n",
              "\n",
              "  [theme=dark] .colab-df-quickchart {\n",
              "      --bg-color: #3B4455;\n",
              "      --fill-color: #D2E3FC;\n",
              "      --hover-bg-color: #434B5C;\n",
              "      --hover-fill-color: #FFFFFF;\n",
              "      --disabled-bg-color: #3B4455;\n",
              "      --disabled-fill-color: #666;\n",
              "  }\n",
              "\n",
              "  .colab-df-quickchart {\n",
              "    background-color: var(--bg-color);\n",
              "    border: none;\n",
              "    border-radius: 50%;\n",
              "    cursor: pointer;\n",
              "    display: none;\n",
              "    fill: var(--fill-color);\n",
              "    height: 32px;\n",
              "    padding: 0;\n",
              "    width: 32px;\n",
              "  }\n",
              "\n",
              "  .colab-df-quickchart:hover {\n",
              "    background-color: var(--hover-bg-color);\n",
              "    box-shadow: 0 1px 2px rgba(60, 64, 67, 0.3), 0 1px 3px 1px rgba(60, 64, 67, 0.15);\n",
              "    fill: var(--button-hover-fill-color);\n",
              "  }\n",
              "\n",
              "  .colab-df-quickchart-complete:disabled,\n",
              "  .colab-df-quickchart-complete:disabled:hover {\n",
              "    background-color: var(--disabled-bg-color);\n",
              "    fill: var(--disabled-fill-color);\n",
              "    box-shadow: none;\n",
              "  }\n",
              "\n",
              "  .colab-df-spinner {\n",
              "    border: 2px solid var(--fill-color);\n",
              "    border-color: transparent;\n",
              "    border-bottom-color: var(--fill-color);\n",
              "    animation:\n",
              "      spin 1s steps(1) infinite;\n",
              "  }\n",
              "\n",
              "  @keyframes spin {\n",
              "    0% {\n",
              "      border-color: transparent;\n",
              "      border-bottom-color: var(--fill-color);\n",
              "      border-left-color: var(--fill-color);\n",
              "    }\n",
              "    20% {\n",
              "      border-color: transparent;\n",
              "      border-left-color: var(--fill-color);\n",
              "      border-top-color: var(--fill-color);\n",
              "    }\n",
              "    30% {\n",
              "      border-color: transparent;\n",
              "      border-left-color: var(--fill-color);\n",
              "      border-top-color: var(--fill-color);\n",
              "      border-right-color: var(--fill-color);\n",
              "    }\n",
              "    40% {\n",
              "      border-color: transparent;\n",
              "      border-right-color: var(--fill-color);\n",
              "      border-top-color: var(--fill-color);\n",
              "    }\n",
              "    60% {\n",
              "      border-color: transparent;\n",
              "      border-right-color: var(--fill-color);\n",
              "    }\n",
              "    80% {\n",
              "      border-color: transparent;\n",
              "      border-right-color: var(--fill-color);\n",
              "      border-bottom-color: var(--fill-color);\n",
              "    }\n",
              "    90% {\n",
              "      border-color: transparent;\n",
              "      border-bottom-color: var(--fill-color);\n",
              "    }\n",
              "  }\n",
              "</style>\n",
              "\n",
              "  <script>\n",
              "    async function quickchart(key) {\n",
              "      const quickchartButtonEl =\n",
              "        document.querySelector('#' + key + ' button');\n",
              "      quickchartButtonEl.disabled = true;  // To prevent multiple clicks.\n",
              "      quickchartButtonEl.classList.add('colab-df-spinner');\n",
              "      try {\n",
              "        const charts = await google.colab.kernel.invokeFunction(\n",
              "            'suggestCharts', [key], {});\n",
              "      } catch (error) {\n",
              "        console.error('Error during call to suggestCharts:', error);\n",
              "      }\n",
              "      quickchartButtonEl.classList.remove('colab-df-spinner');\n",
              "      quickchartButtonEl.classList.add('colab-df-quickchart-complete');\n",
              "    }\n",
              "    (() => {\n",
              "      let quickchartButtonEl =\n",
              "        document.querySelector('#df-559bd124-e763-430a-b470-3586d1acfbd9 button');\n",
              "      quickchartButtonEl.style.display =\n",
              "        google.colab.kernel.accessAllowed ? 'block' : 'none';\n",
              "    })();\n",
              "  </script>\n",
              "</div>\n",
              "\n",
              "  <div id=\"id_56c65935-92c5-4682-a5ef-4e339d8012f9\">\n",
              "    <style>\n",
              "      .colab-df-generate {\n",
              "        background-color: #E8F0FE;\n",
              "        border: none;\n",
              "        border-radius: 50%;\n",
              "        cursor: pointer;\n",
              "        display: none;\n",
              "        fill: #1967D2;\n",
              "        height: 32px;\n",
              "        padding: 0 0 0 0;\n",
              "        width: 32px;\n",
              "      }\n",
              "\n",
              "      .colab-df-generate:hover {\n",
              "        background-color: #E2EBFA;\n",
              "        box-shadow: 0px 1px 2px rgba(60, 64, 67, 0.3), 0px 1px 3px 1px rgba(60, 64, 67, 0.15);\n",
              "        fill: #174EA6;\n",
              "      }\n",
              "\n",
              "      [theme=dark] .colab-df-generate {\n",
              "        background-color: #3B4455;\n",
              "        fill: #D2E3FC;\n",
              "      }\n",
              "\n",
              "      [theme=dark] .colab-df-generate:hover {\n",
              "        background-color: #434B5C;\n",
              "        box-shadow: 0px 1px 3px 1px rgba(0, 0, 0, 0.15);\n",
              "        filter: drop-shadow(0px 1px 2px rgba(0, 0, 0, 0.3));\n",
              "        fill: #FFFFFF;\n",
              "      }\n",
              "    </style>\n",
              "    <button class=\"colab-df-generate\" onclick=\"generateWithVariable('df')\"\n",
              "            title=\"Generate code using this dataframe.\"\n",
              "            style=\"display:none;\">\n",
              "\n",
              "  <svg xmlns=\"http://www.w3.org/2000/svg\" height=\"24px\"viewBox=\"0 0 24 24\"\n",
              "       width=\"24px\">\n",
              "    <path d=\"M7,19H8.4L18.45,9,17,7.55,7,17.6ZM5,21V16.75L18.45,3.32a2,2,0,0,1,2.83,0l1.4,1.43a1.91,1.91,0,0,1,.58,1.4,1.91,1.91,0,0,1-.58,1.4L9.25,21ZM18.45,9,17,7.55Zm-12,3A5.31,5.31,0,0,0,4.9,8.1,5.31,5.31,0,0,0,1,6.5,5.31,5.31,0,0,0,4.9,4.9,5.31,5.31,0,0,0,6.5,1,5.31,5.31,0,0,0,8.1,4.9,5.31,5.31,0,0,0,12,6.5,5.46,5.46,0,0,0,6.5,12Z\"/>\n",
              "  </svg>\n",
              "    </button>\n",
              "    <script>\n",
              "      (() => {\n",
              "      const buttonEl =\n",
              "        document.querySelector('#id_56c65935-92c5-4682-a5ef-4e339d8012f9 button.colab-df-generate');\n",
              "      buttonEl.style.display =\n",
              "        google.colab.kernel.accessAllowed ? 'block' : 'none';\n",
              "\n",
              "      buttonEl.onclick = () => {\n",
              "        google.colab.notebook.generateWithVariable('df');\n",
              "      }\n",
              "      })();\n",
              "    </script>\n",
              "  </div>\n",
              "\n",
              "    </div>\n",
              "  </div>\n"
            ],
            "application/vnd.google.colaboratory.intrinsic+json": {
              "type": "dataframe",
              "variable_name": "df"
            }
          },
          "metadata": {},
          "execution_count": 10
        }
      ]
    },
    {
      "cell_type": "code",
      "source": [
        "df.info()"
      ],
      "metadata": {
        "colab": {
          "base_uri": "https://localhost:8080/"
        },
        "id": "4B7LuFb-ggar",
        "outputId": "8b0eeb9e-2ce4-4857-d7d3-98a7ea2cf0e2"
      },
      "execution_count": null,
      "outputs": [
        {
          "output_type": "stream",
          "name": "stdout",
          "text": [
            "<class 'pandas.core.frame.DataFrame'>\n",
            "RangeIndex: 107050 entries, 0 to 107049\n",
            "Data columns (total 4 columns):\n",
            " #   Column  Non-Null Count   Dtype \n",
            "---  ------  --------------   ----- \n",
            " 0   text    107050 non-null  object\n",
            " 1   label   107050 non-null  object\n",
            " 2   split   107050 non-null  object\n",
            " 3   source  107050 non-null  object\n",
            "dtypes: object(4)\n",
            "memory usage: 3.3+ MB\n"
          ]
        }
      ]
    },
    {
      "cell_type": "code",
      "source": [
        "import re\n",
        "\n",
        "# Clean the text column\n",
        "def clean_text(text):\n",
        "    \"\"\"\n",
        "    Clean the text column by removing 'Title' and 'Body' keywords\n",
        "    and concatenating the title and body.\n",
        "    \"\"\"\n",
        "    # Remove \"Title\" and \"Body\" and any surrounding line breaks\n",
        "    text = re.sub(r'\\bTitle\\b[:\\n]*', '', text)  # Remove 'Title'\n",
        "    text = re.sub(r'\\bBody\\b[:\\n]*', '', text)   # Remove 'Body'\n",
        "    text = re.sub(r'\\n+', ' ', text)            # Replace multiple newlines with space\n",
        "    return text.strip()\n",
        "\n",
        "# Apply the cleaning function to the 'text' column\n",
        "df['text'] = df['text'].apply(clean_text)\n",
        "\n",
        "# Verify the cleaned text\n",
        "print(\"\\nCleaned Text Example:\")\n",
        "print(df['text'].head())\n",
        "\n",
        "# Save the cleaned DataFrame\n",
        "output_cleaned_file = \"sanad_cleaned.csv\"\n",
        "df.to_csv(output_cleaned_file, index=False, encoding='utf-8')\n",
        "\n",
        "print(f\"\\nCleaned data saved to {output_cleaned_file}\")\n"
      ],
      "metadata": {
        "colab": {
          "base_uri": "https://localhost:8080/"
        },
        "id": "XfF7pSh-kz6T",
        "outputId": "54e637cd-ea1d-4a80-df09-7f53b299890f"
      },
      "execution_count": null,
      "outputs": [
        {
          "output_type": "stream",
          "name": "stdout",
          "text": [
            "\n",
            "Cleaned Text Example:\n",
            "0    إيبولا يفتك بـ 5689 شخصا و15 ألفا على قائمة ال...\n",
            "1    تحذير من خطورة مرض الحصبة على الصحة بعد ارتفاع...\n",
            "2    \"إيبولا\" أكثر الكلمات بحثاً على محرك الأخبار\"ي...\n",
            "3    أحواض أسماك لتخفيف آلام المرضى في فرنسا Source...\n",
            "4    سوق الأسهم يتأثر بهرمون الكورتيزول وتوتر المتع...\n",
            "Name: text, dtype: object\n",
            "\n",
            "Cleaned data saved to sanad_cleaned.csv\n"
          ]
        }
      ]
    },
    {
      "cell_type": "code",
      "source": [
        "df"
      ],
      "metadata": {
        "id": "KF4U5xgbmpUf",
        "outputId": "c3619cf5-37e1-452a-bef4-2e9045822c95",
        "colab": {
          "base_uri": "https://localhost:8080/",
          "height": 423
        }
      },
      "execution_count": null,
      "outputs": [
        {
          "output_type": "execute_result",
          "data": {
            "text/plain": [
              "                                                     text   label  split  \\\n",
              "0       دبي:«الخليج» أعلن منظمو معرض ومسابقة «جلف كونك...    Tech  Train   \n",
              "1       زار سمو الشيخ راشد بن سعود بن راشد المعلا ولي ...    Tech  Train   \n",
              "2       دبي: «الخليج» أعلنت كل من شركة الثريا للاتصالا...    Tech  Train   \n",
              "3       وزعت اتصالات الجوائز على الدفعة الأولى من الفا...    Tech  Train   \n",
              "4       قدمت باناسونيك مجموعة من حلول العرض الجديدة مث...    Tech  Train   \n",
              "...                                                   ...     ...    ...   \n",
              "107045  ايفرا يمدد عقده مع يوفنتوس حتى 2017 Source روم...  Sports   Test   \n",
              "107046  #بلاتر: قلبي لن ينسى ما حدث  Source زيوريخ - د...  Sports   Test   \n",
              "107047  مدرب سوانزي: رانخيل سيخضع لعملية جراحية Source...  Sports   Test   \n",
              "107048  الشرطة البرازيلية تداهم مقر اللجنة الأولمبية S...  Sports   Test   \n",
              "107049  الاتحاد الآسيوي يعمم عقوبات لاعبي الفيصلي قاري...  Sports   Test   \n",
              "\n",
              "         source  \n",
              "0       khaleej  \n",
              "1       khaleej  \n",
              "2       khaleej  \n",
              "3       khaleej  \n",
              "4       khaleej  \n",
              "...         ...  \n",
              "107045  arabiya  \n",
              "107046  arabiya  \n",
              "107047  arabiya  \n",
              "107048  arabiya  \n",
              "107049  arabiya  \n",
              "\n",
              "[107050 rows x 4 columns]"
            ],
            "text/html": [
              "\n",
              "  <div id=\"df-406746c2-cdce-458a-89ea-fc9bfcd3c667\" class=\"colab-df-container\">\n",
              "    <div>\n",
              "<style scoped>\n",
              "    .dataframe tbody tr th:only-of-type {\n",
              "        vertical-align: middle;\n",
              "    }\n",
              "\n",
              "    .dataframe tbody tr th {\n",
              "        vertical-align: top;\n",
              "    }\n",
              "\n",
              "    .dataframe thead th {\n",
              "        text-align: right;\n",
              "    }\n",
              "</style>\n",
              "<table border=\"1\" class=\"dataframe\">\n",
              "  <thead>\n",
              "    <tr style=\"text-align: right;\">\n",
              "      <th></th>\n",
              "      <th>text</th>\n",
              "      <th>label</th>\n",
              "      <th>split</th>\n",
              "      <th>source</th>\n",
              "    </tr>\n",
              "  </thead>\n",
              "  <tbody>\n",
              "    <tr>\n",
              "      <th>0</th>\n",
              "      <td>دبي:«الخليج» أعلن منظمو معرض ومسابقة «جلف كونك...</td>\n",
              "      <td>Tech</td>\n",
              "      <td>Train</td>\n",
              "      <td>khaleej</td>\n",
              "    </tr>\n",
              "    <tr>\n",
              "      <th>1</th>\n",
              "      <td>زار سمو الشيخ راشد بن سعود بن راشد المعلا ولي ...</td>\n",
              "      <td>Tech</td>\n",
              "      <td>Train</td>\n",
              "      <td>khaleej</td>\n",
              "    </tr>\n",
              "    <tr>\n",
              "      <th>2</th>\n",
              "      <td>دبي: «الخليج» أعلنت كل من شركة الثريا للاتصالا...</td>\n",
              "      <td>Tech</td>\n",
              "      <td>Train</td>\n",
              "      <td>khaleej</td>\n",
              "    </tr>\n",
              "    <tr>\n",
              "      <th>3</th>\n",
              "      <td>وزعت اتصالات الجوائز على الدفعة الأولى من الفا...</td>\n",
              "      <td>Tech</td>\n",
              "      <td>Train</td>\n",
              "      <td>khaleej</td>\n",
              "    </tr>\n",
              "    <tr>\n",
              "      <th>4</th>\n",
              "      <td>قدمت باناسونيك مجموعة من حلول العرض الجديدة مث...</td>\n",
              "      <td>Tech</td>\n",
              "      <td>Train</td>\n",
              "      <td>khaleej</td>\n",
              "    </tr>\n",
              "    <tr>\n",
              "      <th>...</th>\n",
              "      <td>...</td>\n",
              "      <td>...</td>\n",
              "      <td>...</td>\n",
              "      <td>...</td>\n",
              "    </tr>\n",
              "    <tr>\n",
              "      <th>107045</th>\n",
              "      <td>ايفرا يمدد عقده مع يوفنتوس حتى 2017 Source روم...</td>\n",
              "      <td>Sports</td>\n",
              "      <td>Test</td>\n",
              "      <td>arabiya</td>\n",
              "    </tr>\n",
              "    <tr>\n",
              "      <th>107046</th>\n",
              "      <td>#بلاتر: قلبي لن ينسى ما حدث  Source زيوريخ - د...</td>\n",
              "      <td>Sports</td>\n",
              "      <td>Test</td>\n",
              "      <td>arabiya</td>\n",
              "    </tr>\n",
              "    <tr>\n",
              "      <th>107047</th>\n",
              "      <td>مدرب سوانزي: رانخيل سيخضع لعملية جراحية Source...</td>\n",
              "      <td>Sports</td>\n",
              "      <td>Test</td>\n",
              "      <td>arabiya</td>\n",
              "    </tr>\n",
              "    <tr>\n",
              "      <th>107048</th>\n",
              "      <td>الشرطة البرازيلية تداهم مقر اللجنة الأولمبية S...</td>\n",
              "      <td>Sports</td>\n",
              "      <td>Test</td>\n",
              "      <td>arabiya</td>\n",
              "    </tr>\n",
              "    <tr>\n",
              "      <th>107049</th>\n",
              "      <td>الاتحاد الآسيوي يعمم عقوبات لاعبي الفيصلي قاري...</td>\n",
              "      <td>Sports</td>\n",
              "      <td>Test</td>\n",
              "      <td>arabiya</td>\n",
              "    </tr>\n",
              "  </tbody>\n",
              "</table>\n",
              "<p>107050 rows × 4 columns</p>\n",
              "</div>\n",
              "    <div class=\"colab-df-buttons\">\n",
              "\n",
              "  <div class=\"colab-df-container\">\n",
              "    <button class=\"colab-df-convert\" onclick=\"convertToInteractive('df-406746c2-cdce-458a-89ea-fc9bfcd3c667')\"\n",
              "            title=\"Convert this dataframe to an interactive table.\"\n",
              "            style=\"display:none;\">\n",
              "\n",
              "  <svg xmlns=\"http://www.w3.org/2000/svg\" height=\"24px\" viewBox=\"0 -960 960 960\">\n",
              "    <path d=\"M120-120v-720h720v720H120Zm60-500h600v-160H180v160Zm220 220h160v-160H400v160Zm0 220h160v-160H400v160ZM180-400h160v-160H180v160Zm440 0h160v-160H620v160ZM180-180h160v-160H180v160Zm440 0h160v-160H620v160Z\"/>\n",
              "  </svg>\n",
              "    </button>\n",
              "\n",
              "  <style>\n",
              "    .colab-df-container {\n",
              "      display:flex;\n",
              "      gap: 12px;\n",
              "    }\n",
              "\n",
              "    .colab-df-convert {\n",
              "      background-color: #E8F0FE;\n",
              "      border: none;\n",
              "      border-radius: 50%;\n",
              "      cursor: pointer;\n",
              "      display: none;\n",
              "      fill: #1967D2;\n",
              "      height: 32px;\n",
              "      padding: 0 0 0 0;\n",
              "      width: 32px;\n",
              "    }\n",
              "\n",
              "    .colab-df-convert:hover {\n",
              "      background-color: #E2EBFA;\n",
              "      box-shadow: 0px 1px 2px rgba(60, 64, 67, 0.3), 0px 1px 3px 1px rgba(60, 64, 67, 0.15);\n",
              "      fill: #174EA6;\n",
              "    }\n",
              "\n",
              "    .colab-df-buttons div {\n",
              "      margin-bottom: 4px;\n",
              "    }\n",
              "\n",
              "    [theme=dark] .colab-df-convert {\n",
              "      background-color: #3B4455;\n",
              "      fill: #D2E3FC;\n",
              "    }\n",
              "\n",
              "    [theme=dark] .colab-df-convert:hover {\n",
              "      background-color: #434B5C;\n",
              "      box-shadow: 0px 1px 3px 1px rgba(0, 0, 0, 0.15);\n",
              "      filter: drop-shadow(0px 1px 2px rgba(0, 0, 0, 0.3));\n",
              "      fill: #FFFFFF;\n",
              "    }\n",
              "  </style>\n",
              "\n",
              "    <script>\n",
              "      const buttonEl =\n",
              "        document.querySelector('#df-406746c2-cdce-458a-89ea-fc9bfcd3c667 button.colab-df-convert');\n",
              "      buttonEl.style.display =\n",
              "        google.colab.kernel.accessAllowed ? 'block' : 'none';\n",
              "\n",
              "      async function convertToInteractive(key) {\n",
              "        const element = document.querySelector('#df-406746c2-cdce-458a-89ea-fc9bfcd3c667');\n",
              "        const dataTable =\n",
              "          await google.colab.kernel.invokeFunction('convertToInteractive',\n",
              "                                                    [key], {});\n",
              "        if (!dataTable) return;\n",
              "\n",
              "        const docLinkHtml = 'Like what you see? Visit the ' +\n",
              "          '<a target=\"_blank\" href=https://colab.research.google.com/notebooks/data_table.ipynb>data table notebook</a>'\n",
              "          + ' to learn more about interactive tables.';\n",
              "        element.innerHTML = '';\n",
              "        dataTable['output_type'] = 'display_data';\n",
              "        await google.colab.output.renderOutput(dataTable, element);\n",
              "        const docLink = document.createElement('div');\n",
              "        docLink.innerHTML = docLinkHtml;\n",
              "        element.appendChild(docLink);\n",
              "      }\n",
              "    </script>\n",
              "  </div>\n",
              "\n",
              "\n",
              "<div id=\"df-1606dbc0-9823-410f-971a-cdb73dbfe413\">\n",
              "  <button class=\"colab-df-quickchart\" onclick=\"quickchart('df-1606dbc0-9823-410f-971a-cdb73dbfe413')\"\n",
              "            title=\"Suggest charts\"\n",
              "            style=\"display:none;\">\n",
              "\n",
              "<svg xmlns=\"http://www.w3.org/2000/svg\" height=\"24px\"viewBox=\"0 0 24 24\"\n",
              "     width=\"24px\">\n",
              "    <g>\n",
              "        <path d=\"M19 3H5c-1.1 0-2 .9-2 2v14c0 1.1.9 2 2 2h14c1.1 0 2-.9 2-2V5c0-1.1-.9-2-2-2zM9 17H7v-7h2v7zm4 0h-2V7h2v10zm4 0h-2v-4h2v4z\"/>\n",
              "    </g>\n",
              "</svg>\n",
              "  </button>\n",
              "\n",
              "<style>\n",
              "  .colab-df-quickchart {\n",
              "      --bg-color: #E8F0FE;\n",
              "      --fill-color: #1967D2;\n",
              "      --hover-bg-color: #E2EBFA;\n",
              "      --hover-fill-color: #174EA6;\n",
              "      --disabled-fill-color: #AAA;\n",
              "      --disabled-bg-color: #DDD;\n",
              "  }\n",
              "\n",
              "  [theme=dark] .colab-df-quickchart {\n",
              "      --bg-color: #3B4455;\n",
              "      --fill-color: #D2E3FC;\n",
              "      --hover-bg-color: #434B5C;\n",
              "      --hover-fill-color: #FFFFFF;\n",
              "      --disabled-bg-color: #3B4455;\n",
              "      --disabled-fill-color: #666;\n",
              "  }\n",
              "\n",
              "  .colab-df-quickchart {\n",
              "    background-color: var(--bg-color);\n",
              "    border: none;\n",
              "    border-radius: 50%;\n",
              "    cursor: pointer;\n",
              "    display: none;\n",
              "    fill: var(--fill-color);\n",
              "    height: 32px;\n",
              "    padding: 0;\n",
              "    width: 32px;\n",
              "  }\n",
              "\n",
              "  .colab-df-quickchart:hover {\n",
              "    background-color: var(--hover-bg-color);\n",
              "    box-shadow: 0 1px 2px rgba(60, 64, 67, 0.3), 0 1px 3px 1px rgba(60, 64, 67, 0.15);\n",
              "    fill: var(--button-hover-fill-color);\n",
              "  }\n",
              "\n",
              "  .colab-df-quickchart-complete:disabled,\n",
              "  .colab-df-quickchart-complete:disabled:hover {\n",
              "    background-color: var(--disabled-bg-color);\n",
              "    fill: var(--disabled-fill-color);\n",
              "    box-shadow: none;\n",
              "  }\n",
              "\n",
              "  .colab-df-spinner {\n",
              "    border: 2px solid var(--fill-color);\n",
              "    border-color: transparent;\n",
              "    border-bottom-color: var(--fill-color);\n",
              "    animation:\n",
              "      spin 1s steps(1) infinite;\n",
              "  }\n",
              "\n",
              "  @keyframes spin {\n",
              "    0% {\n",
              "      border-color: transparent;\n",
              "      border-bottom-color: var(--fill-color);\n",
              "      border-left-color: var(--fill-color);\n",
              "    }\n",
              "    20% {\n",
              "      border-color: transparent;\n",
              "      border-left-color: var(--fill-color);\n",
              "      border-top-color: var(--fill-color);\n",
              "    }\n",
              "    30% {\n",
              "      border-color: transparent;\n",
              "      border-left-color: var(--fill-color);\n",
              "      border-top-color: var(--fill-color);\n",
              "      border-right-color: var(--fill-color);\n",
              "    }\n",
              "    40% {\n",
              "      border-color: transparent;\n",
              "      border-right-color: var(--fill-color);\n",
              "      border-top-color: var(--fill-color);\n",
              "    }\n",
              "    60% {\n",
              "      border-color: transparent;\n",
              "      border-right-color: var(--fill-color);\n",
              "    }\n",
              "    80% {\n",
              "      border-color: transparent;\n",
              "      border-right-color: var(--fill-color);\n",
              "      border-bottom-color: var(--fill-color);\n",
              "    }\n",
              "    90% {\n",
              "      border-color: transparent;\n",
              "      border-bottom-color: var(--fill-color);\n",
              "    }\n",
              "  }\n",
              "</style>\n",
              "\n",
              "  <script>\n",
              "    async function quickchart(key) {\n",
              "      const quickchartButtonEl =\n",
              "        document.querySelector('#' + key + ' button');\n",
              "      quickchartButtonEl.disabled = true;  // To prevent multiple clicks.\n",
              "      quickchartButtonEl.classList.add('colab-df-spinner');\n",
              "      try {\n",
              "        const charts = await google.colab.kernel.invokeFunction(\n",
              "            'suggestCharts', [key], {});\n",
              "      } catch (error) {\n",
              "        console.error('Error during call to suggestCharts:', error);\n",
              "      }\n",
              "      quickchartButtonEl.classList.remove('colab-df-spinner');\n",
              "      quickchartButtonEl.classList.add('colab-df-quickchart-complete');\n",
              "    }\n",
              "    (() => {\n",
              "      let quickchartButtonEl =\n",
              "        document.querySelector('#df-1606dbc0-9823-410f-971a-cdb73dbfe413 button');\n",
              "      quickchartButtonEl.style.display =\n",
              "        google.colab.kernel.accessAllowed ? 'block' : 'none';\n",
              "    })();\n",
              "  </script>\n",
              "</div>\n",
              "\n",
              "  <div id=\"id_2a9e3cbf-527e-411c-9bcb-2cc9a6e46505\">\n",
              "    <style>\n",
              "      .colab-df-generate {\n",
              "        background-color: #E8F0FE;\n",
              "        border: none;\n",
              "        border-radius: 50%;\n",
              "        cursor: pointer;\n",
              "        display: none;\n",
              "        fill: #1967D2;\n",
              "        height: 32px;\n",
              "        padding: 0 0 0 0;\n",
              "        width: 32px;\n",
              "      }\n",
              "\n",
              "      .colab-df-generate:hover {\n",
              "        background-color: #E2EBFA;\n",
              "        box-shadow: 0px 1px 2px rgba(60, 64, 67, 0.3), 0px 1px 3px 1px rgba(60, 64, 67, 0.15);\n",
              "        fill: #174EA6;\n",
              "      }\n",
              "\n",
              "      [theme=dark] .colab-df-generate {\n",
              "        background-color: #3B4455;\n",
              "        fill: #D2E3FC;\n",
              "      }\n",
              "\n",
              "      [theme=dark] .colab-df-generate:hover {\n",
              "        background-color: #434B5C;\n",
              "        box-shadow: 0px 1px 3px 1px rgba(0, 0, 0, 0.15);\n",
              "        filter: drop-shadow(0px 1px 2px rgba(0, 0, 0, 0.3));\n",
              "        fill: #FFFFFF;\n",
              "      }\n",
              "    </style>\n",
              "    <button class=\"colab-df-generate\" onclick=\"generateWithVariable('df')\"\n",
              "            title=\"Generate code using this dataframe.\"\n",
              "            style=\"display:none;\">\n",
              "\n",
              "  <svg xmlns=\"http://www.w3.org/2000/svg\" height=\"24px\"viewBox=\"0 0 24 24\"\n",
              "       width=\"24px\">\n",
              "    <path d=\"M7,19H8.4L18.45,9,17,7.55,7,17.6ZM5,21V16.75L18.45,3.32a2,2,0,0,1,2.83,0l1.4,1.43a1.91,1.91,0,0,1,.58,1.4,1.91,1.91,0,0,1-.58,1.4L9.25,21ZM18.45,9,17,7.55Zm-12,3A5.31,5.31,0,0,0,4.9,8.1,5.31,5.31,0,0,0,1,6.5,5.31,5.31,0,0,0,4.9,4.9,5.31,5.31,0,0,0,6.5,1,5.31,5.31,0,0,0,8.1,4.9,5.31,5.31,0,0,0,12,6.5,5.46,5.46,0,0,0,6.5,12Z\"/>\n",
              "  </svg>\n",
              "    </button>\n",
              "    <script>\n",
              "      (() => {\n",
              "      const buttonEl =\n",
              "        document.querySelector('#id_2a9e3cbf-527e-411c-9bcb-2cc9a6e46505 button.colab-df-generate');\n",
              "      buttonEl.style.display =\n",
              "        google.colab.kernel.accessAllowed ? 'block' : 'none';\n",
              "\n",
              "      buttonEl.onclick = () => {\n",
              "        google.colab.notebook.generateWithVariable('df');\n",
              "      }\n",
              "      })();\n",
              "    </script>\n",
              "  </div>\n",
              "\n",
              "    </div>\n",
              "  </div>\n"
            ],
            "application/vnd.google.colaboratory.intrinsic+json": {
              "type": "dataframe",
              "variable_name": "df"
            }
          },
          "metadata": {},
          "execution_count": 13
        }
      ]
    },
    {
      "cell_type": "code",
      "source": [
        "import matplotlib.pyplot as plt\n",
        "import seaborn as sns\n",
        "import pandas as pd\n",
        "\n",
        "# Load the dataset\n",
        "csv_file = \"sanad_cleaned.csv\"\n",
        "df = pd.read_csv(csv_file)\n",
        "\n"
      ],
      "metadata": {
        "id": "WbI-Fz64mqGn"
      },
      "execution_count": null,
      "outputs": []
    },
    {
      "cell_type": "code",
      "source": [
        "# Plot Class Distribution\n",
        "plt.figure(figsize=(10, 6))\n",
        "sns.countplot(data=df, y='label', order=df['label'].value_counts().index, palette='viridis')\n",
        "plt.title('Class Distribution', fontsize=16)\n",
        "plt.xlabel('Count', fontsize=14)\n",
        "plt.ylabel('Category', fontsize=14)\n",
        "plt.grid(axis='x', linestyle='--', alpha=0.6)\n",
        "plt.show()\n"
      ],
      "metadata": {
        "colab": {
          "base_uri": "https://localhost:8080/",
          "height": 655
        },
        "id": "gy_4WutRlOG2",
        "outputId": "77932952-374c-4440-ab2b-11d4086386ac"
      },
      "execution_count": null,
      "outputs": [
        {
          "output_type": "stream",
          "name": "stderr",
          "text": [
            "<ipython-input-15-2091a168b8ff>:3: FutureWarning: \n",
            "\n",
            "Passing `palette` without assigning `hue` is deprecated and will be removed in v0.14.0. Assign the `y` variable to `hue` and set `legend=False` for the same effect.\n",
            "\n",
            "  sns.countplot(data=df, y='label', order=df['label'].value_counts().index, palette='viridis')\n"
          ]
        },
        {
          "output_type": "display_data",
          "data": {
            "text/plain": [
              "<Figure size 1000x600 with 1 Axes>"
            ],
            "image/png": "[encoded data removed]"
          },
          "metadata": {}
        }
      ]
    },
    {
      "cell_type": "code",
      "source": [
        "# Plot Train vs. Test Distribution\n",
        "plt.figure(figsize=(6, 4))\n",
        "sns.countplot(data=df, x='split', palette='coolwarm')\n",
        "plt.title('Training vs Testing Split', fontsize=16)\n",
        "plt.xlabel('Split', fontsize=14)\n",
        "plt.ylabel('Count', fontsize=14)\n",
        "plt.grid(axis='y', linestyle='--', alpha=0.6)\n",
        "plt.show()\n"
      ],
      "metadata": {
        "colab": {
          "base_uri": "https://localhost:8080/",
          "height": 524
        },
        "id": "WTquJiDVlQpY",
        "outputId": "6fde1762-88ff-4f1e-ad0b-4432c3a3e878"
      },
      "execution_count": null,
      "outputs": [
        {
          "output_type": "stream",
          "name": "stderr",
          "text": [
            "<ipython-input-16-33486890cd80>:3: FutureWarning: \n",
            "\n",
            "Passing `palette` without assigning `hue` is deprecated and will be removed in v0.14.0. Assign the `x` variable to `hue` and set `legend=False` for the same effect.\n",
            "\n",
            "  sns.countplot(data=df, x='split', palette='coolwarm')\n"
          ]
        },
        {
          "output_type": "display_data",
          "data": {
            "text/plain": [
              "<Figure size 600x400 with 1 Axes>"
            ],
            "image/png": "[encoded data removed]"
          },
          "metadata": {}
        }
      ]
    },
    {
      "cell_type": "code",
      "source": [
        "# Plot Distribution of Text Lengths\n",
        "df['text_length'] = df['text'].apply(len)\n",
        "\n",
        "plt.figure(figsize=(10, 6))\n",
        "sns.histplot(df['text_length'], bins=50, kde=True, color='blue')\n",
        "plt.title('Text Length Distribution', fontsize=16)\n",
        "plt.xlabel('Text Length (characters)', fontsize=14)\n",
        "plt.ylabel('Frequency', fontsize=14)\n",
        "plt.grid(axis='y', linestyle='--', alpha=0.6)\n",
        "plt.show()\n"
      ],
      "metadata": {
        "colab": {
          "base_uri": "https://localhost:8080/",
          "height": 546
        },
        "id": "NlmnZnljlSNR",
        "outputId": "8949cf19-c9c9-4b0c-96d2-05b6e126a6fd"
      },
      "execution_count": null,
      "outputs": [
        {
          "output_type": "display_data",
          "data": {
            "text/plain": [
              "<Figure size 1000x600 with 1 Axes>"
            ],
            "image/png": "[encoded data removed]"
          },
          "metadata": {}
        }
      ]
    },
    {
      "cell_type": "code",
      "source": [
        "# Average Text Length Per Category\n",
        "plt.figure(figsize=(10, 6))\n",
        "avg_text_length = df.groupby('label')['text_length'].mean().sort_values(ascending=False)\n",
        "sns.barplot(x=avg_text_length.values, y=avg_text_length.index, palette='mako')\n",
        "plt.title('Average Text Length by Category', fontsize=16)\n",
        "plt.xlabel('Average Text Length (characters)', fontsize=14)\n",
        "plt.ylabel('Category', fontsize=14)\n",
        "plt.grid(axis='x', linestyle='--', alpha=0.6)\n",
        "plt.show()\n"
      ],
      "metadata": {
        "colab": {
          "base_uri": "https://localhost:8080/",
          "height": 655
        },
        "id": "xMDfvBy2lTfl",
        "outputId": "94eea99b-1260-4d99-c33f-52755535ae12"
      },
      "execution_count": null,
      "outputs": [
        {
          "output_type": "stream",
          "name": "stderr",
          "text": [
            "<ipython-input-18-9671ddba9fce>:4: FutureWarning: \n",
            "\n",
            "Passing `palette` without assigning `hue` is deprecated and will be removed in v0.14.0. Assign the `y` variable to `hue` and set `legend=False` for the same effect.\n",
            "\n",
            "  sns.barplot(x=avg_text_length.values, y=avg_text_length.index, palette='mako')\n"
          ]
        },
        {
          "output_type": "display_data",
          "data": {
            "text/plain": [
              "<Figure size 1000x600 with 1 Axes>"
            ],
            "image/png": "[encoded data removed]"
          },
          "metadata": {}
        }
      ]
    },
    {
      "cell_type": "code",
      "source": [
        "import matplotlib.pyplot as plt\n",
        "import seaborn as sns\n",
        "import pandas as pd\n",
        "\n",
        "# Load the dataset\n",
        "csv_file = \"/content/drive/MyDrive/sanad_cleaned.csv\"\n",
        "df = pd.read_csv(csv_file)"
      ],
      "metadata": {
        "id": "QE48MPQCEzm6"
      },
      "execution_count": null,
      "outputs": []
    },
    {
      "cell_type": "code",
      "source": [
        "# Check the first few rows\n",
        "print(\"Dataset Preview:\")\n",
        "print(df.head())\n",
        "\n",
        "# Verify class distribution\n",
        "print(\"\\nClass Distribution:\")\n",
        "print(df['label'].value_counts())"
      ],
      "metadata": {
        "colab": {
          "base_uri": "https://localhost:8080/"
        },
        "id": "Lmdn7j_SluO8",
        "outputId": "bfb35816-07fa-4a4e-8ca9-daba3824bf75"
      },
      "execution_count": null,
      "outputs": [
        {
          "output_type": "stream",
          "name": "stdout",
          "text": [
            "Dataset Preview:\n",
            "                                                text    label  split   source\n",
            "0  إيبولا يفتك بـ 5689 شخصا و15 ألفا على قائمة ال...  Medical  Train  arabiya\n",
            "1  تحذير من خطورة مرض الحصبة على الصحة بعد ارتفاع...  Medical  Train  arabiya\n",
            "2  \"إيبولا\" أكثر الكلمات بحثاً على محرك الأخبار\"ي...  Medical  Train  arabiya\n",
            "3  أحواض أسماك لتخفيف آلام المرضى في فرنسا Source...  Medical  Train  arabiya\n",
            "4  سوق الأسهم يتأثر بهرمون الكورتيزول وتوتر المتع...  Medical  Train  arabiya\n",
            "\n",
            "Class Distribution:\n",
            "label\n",
            "Medical     16900\n",
            "Finance     16900\n",
            "Sports      16900\n",
            "Politics    16900\n",
            "Tech        16900\n",
            "Culture     13200\n",
            "Religion     9350\n",
            "Name: count, dtype: int64\n"
          ]
        }
      ]
    },
    {
      "cell_type": "code",
      "source": [
        "# Remove missing or empty text\n",
        "df = df.dropna(subset=['text']).reset_index(drop=True)\n",
        "df = df[df['text'].str.strip() != \"\"]"
      ],
      "metadata": {
        "id": "yFVIgut0ocXT"
      },
      "execution_count": null,
      "outputs": []
    },
    {
      "cell_type": "code",
      "source": [
        "import re\n",
        "\n",
        "# Remove special characters and normalize text\n",
        "def clean_text(text):\n",
        "    \"\"\"\n",
        "    Clean text by removing special characters, extra spaces,\n",
        "    and normalizing Arabic text.\n",
        "    \"\"\"\n",
        "    # Remove HTML tags and special characters\n",
        "    text = re.sub(r'<[^>]+>', '', text)  # Remove HTML tags\n",
        "    text = re.sub(r'[^\\w\\s]', '', text)  # Remove special characters\n",
        "    text = re.sub(r'\\s+', ' ', text)     # Replace multiple spaces with a single space\n",
        "\n",
        "    # Normalize Arabic letters\n",
        "    arabic_normalization = {\n",
        "        \"أ\": \"ا\", \"إ\": \"ا\", \"آ\": \"ا\",  # Normalize Alef\n",
        "        \"ى\": \"ي\",                     # Normalize Alef Maksura to Ya\n",
        "        \"ؤ\": \"و\", \"ئ\": \"ي\",           # Normalize Hamzas\n",
        "        \"ة\": \"ه\",                     # Normalize Ta Marbuta to Ha\n",
        "    }\n",
        "    for letter, normalized in arabic_normalization.items():\n",
        "        text = text.replace(letter, normalized)\n",
        "\n",
        "    # Remove diacritics\n",
        "    diacritics = re.compile(r'[\\u064B-\\u065F]')\n",
        "    text = re.sub(diacritics, '', text)\n",
        "\n",
        "    return text.strip()\n",
        "\n",
        "df['text'] = df['text'].apply(clean_text)\n"
      ],
      "metadata": {
        "id": "Wo_wxzyjm_3A"
      },
      "execution_count": null,
      "outputs": []
    },
    {
      "cell_type": "code",
      "source": [
        "from sklearn.preprocessing import LabelEncoder\n",
        "\n",
        "# Encode labels\n",
        "label_encoder = LabelEncoder()\n",
        "df['label_encoded'] = label_encoder.fit_transform(df['label'])\n",
        "\n",
        "# Verify the preprocessing steps\n",
        "print(\"Preprocessed Data Example:\")\n",
        "print(df.head())\n",
        "print(\"\\nUnique Labels:\")\n",
        "print(label_encoder.classes_)"
      ],
      "metadata": {
        "colab": {
          "base_uri": "https://localhost:8080/"
        },
        "id": "l3tp89WHoiQb",
        "outputId": "2775c9e9-8f98-42ce-c3b6-076d063fe17e"
      },
      "execution_count": null,
      "outputs": [
        {
          "output_type": "stream",
          "name": "stdout",
          "text": [
            "Preprocessed Data Example:\n",
            "                                                text    label  split   source  \\\n",
            "0  ايبولا يفتك بـ 5689 شخصا و15 الفا علي قايمه ال...  Medical  Train  arabiya   \n",
            "1  تحذير من خطوره مرض الحصبه علي الصحه بعد ارتفاع...  Medical  Train  arabiya   \n",
            "2  ايبولا اكثر الكلمات بحثا علي محرك الاخبارياهو ...  Medical  Train  arabiya   \n",
            "3  احواض اسماك لتخفيف الام المرضي في فرنسا Source...  Medical  Train  arabiya   \n",
            "4  سوق الاسهم يتاثر بهرمون الكورتيزول وتوتر المتع...  Medical  Train  arabiya   \n",
            "\n",
            "   label_encoded  \n",
            "0              2  \n",
            "1              2  \n",
            "2              2  \n",
            "3              2  \n",
            "4              2  \n",
            "\n",
            "Unique Labels:\n",
            "['Culture' 'Finance' 'Medical' 'Politics' 'Religion' 'Sports' 'Tech']\n"
          ]
        }
      ]
    },
    {
      "cell_type": "code",
      "source": [
        "# Split the dataset into training and testing sets\n",
        "train_data = df[df['split'] == 'Train']\n",
        "test_data = df[df['split'] == 'Test']\n",
        "\n",
        "# Display sizes of the datasets\n",
        "print(f\"Training set size: {len(train_data)}\")\n",
        "print(f\"Testing set size: {len(test_data)}\")"
      ],
      "metadata": {
        "colab": {
          "base_uri": "https://localhost:8080/"
        },
        "id": "fzSiK6u5quDr",
        "outputId": "136f84e6-fbed-42ec-c749-2f8bf489790c"
      },
      "execution_count": null,
      "outputs": [
        {
          "output_type": "stream",
          "name": "stdout",
          "text": [
            "Training set size: 96354\n",
            "Testing set size: 10696\n"
          ]
        }
      ]
    },
    {
      "cell_type": "code",
      "source": [
        "from transformers import BertTokenizer\n",
        "\n",
        "# Load the tokenizer\n",
        "tokenizer = BertTokenizer.from_pretrained('aubmindlab/bert-base-arabertv2')\n",
        "\n",
        "# Tokenize the dataset\n",
        "def tokenize_data(data, tokenizer, max_length=128):\n",
        "    return tokenizer(\n",
        "        list(data['text']),\n",
        "        padding='max_length',\n",
        "        truncation=True,\n",
        "        max_length=max_length,\n",
        "        return_tensors=\"pt\"\n",
        "    )\n",
        "\n",
        "# Tokenize training and testing data\n",
        "train_tokens = tokenize_data(train_data, tokenizer)\n",
        "test_tokens = tokenize_data(test_data, tokenizer)\n",
        "\n",
        "print(\"Tokenization completed!\")\n"
      ],
      "metadata": {
        "id": "PJi_uqb_qddC",
        "colab": {
          "base_uri": "https://localhost:8080/",
          "height": 321,
          "referenced_widgets": [
            "c8cfc4887f5645438107ea3b52054fba",
            "9d754fb2334844639a9f2490c30fa5af",
            "6e02b4397fd343c7b2e3d3fbdacc52a4",
            "8dfa523448634718ad80bd45e94809d5",
            "6cce370b8228480eaec074397bee847a",
            "64d37a36231841b8ab368c9eb3a87963",
            "1bb2c2f512ea4896a246527c6ccd1d8e",
            "f65ad9ebf9ae4766a30bc9fabc441ee9",
            "cd398c3f2a554ae4ab5a62eaed4febb1",
            "d35b747da7f34c1e92998f36101f2dae",
            "e843dcf780ed4c26ab70efa0255986cf",
            "8f509f03f0be417c948dfabf88d6aa60",
            "701277723e4143bd9cc8c003cdcba98c",
            "5cc62c302f064eb5a255a504b9ca6087",
            "7fe694f2ca234ed88894a4eacda552d8",
            "aee1f6fb6a3341deae7ef5ed79e411b8",
            "f9563f750fce4b51befbf82db444dd1e",
            "92891b82daa244f5ae89a88236a9c337",
            "70e51b1fc9d642478e558ddc423bab2d",
            "2c77313339ca4f16bca33c4b06542c3b",
            "92a65078000c467390b532f53707ac2b",
            "ece5bdd71a7e4b43aaf6c016e6926f4c",
            "2934de375b1e4194b71345d8d2185829",
            "3f7dad9725634236a173686fafb25af3",
            "097a1db0b51a43baae4d5ef93d6e3eb5",
            "86050cf6efa845ea912e81e09948cb2d",
            "7191bae6c1fa4c6c99d63a60e9f3cf69",
            "72940c49f2944816ac5028040415e91f",
            "7d41ffbd1d074e42a5d5904267ddd7e3",
            "22346cc1df604e67bd5fbc2c116af5f5",
            "399678b8d2c44c4f87f8e25a48a761f5",
            "29b9342ff0494437b5915a313ae70506",
            "d3ed80bbf00e44f9bf93f42bf36d48d4",
            "a1016f6bbc0a4d4c930f91ec73f3ee96",
            "6b0ddeb5e657446e8dac608b174ee7b7",
            "bc6d16d3f0cd4268ab5a9bc3b962013f",
            "4d90191f61d54b81957347bcf384930b",
            "8a96321fbf5a427bb248b04dbb294868",
            "553d94fe87ee425fbc7d9dcb95ae6e79",
            "81a567cba3f04b51a7e8558020fa2a89",
            "4b273c8639a04a51b028c6477e7f8ab9",
            "f4afb338b793471ebabda8d3b401e2d4",
            "3828345d1d3a47b7b8fdb366147d2ebc",
            "a15b0208e4e7431684e0e1fa07142373",
            "a311f65a8d144b66bdc405c1a8c95679",
            "88359daace964bb88f4d46cce7d2fd20",
            "69413b606aa248e586e06605719e2627",
            "476243fef62146a584cc58690b156418",
            "bd0b241ea2b14a37a69968b76ccbb204",
            "7aec478500734bef9185c57703360567",
            "9250ea27ffd4400f8ff89d91ade29e59",
            "3756b454b6bc458e9653a5a6fa43864f",
            "2381eac085d14e4d86ed5235e4ad4b4d",
            "6055b349dc0344689d1cbc99224349a7",
            "b4af36055ecb437482e0dc2f13ac71bc"
          ]
        },
        "outputId": "a5b5fe99-dd00-48d4-a53c-ad8b9fa7ef44"
      },
      "execution_count": null,
      "outputs": [
        {
          "output_type": "stream",
          "name": "stderr",
          "text": [
            "/usr/local/lib/python3.10/dist-packages/huggingface_hub/utils/_auth.py:94: UserWarning: \n",
            "The secret `HF_TOKEN` does not exist in your Colab secrets.\n",
            "To authenticate with the Hugging Face Hub, create a token in your settings tab (https://huggingface.co/settings/tokens), set it as secret in your Google Colab and restart your session.\n",
            "You will be able to reuse this secret in all of your notebooks.\n",
            "Please note that authentication is recommended but still optional to access public models or datasets.\n",
            "  warnings.warn(\n"
          ]
        },
        {
          "output_type": "display_data",
          "data": {
            "text/plain": [
              "tokenizer_config.json:   0%|          | 0.00/611 [00:00<?, ?B/s]"
            ],
            "application/vnd.jupyter.widget-view+json": {
              "version_major": 2,
              "version_minor": 0,
              "model_id": "c8cfc4887f5645438107ea3b52054fba"
            }
          },
          "metadata": {}
        },
        {
          "output_type": "display_data",
          "data": {
            "text/plain": [
              "vocab.txt:   0%|          | 0.00/720k [00:00<?, ?B/s]"
            ],
            "application/vnd.jupyter.widget-view+json": {
              "version_major": 2,
              "version_minor": 0,
              "model_id": "8f509f03f0be417c948dfabf88d6aa60"
            }
          },
          "metadata": {}
        },
        {
          "output_type": "display_data",
          "data": {
            "text/plain": [
              "special_tokens_map.json:   0%|          | 0.00/112 [00:00<?, ?B/s]"
            ],
            "application/vnd.jupyter.widget-view+json": {
              "version_major": 2,
              "version_minor": 0,
              "model_id": "2934de375b1e4194b71345d8d2185829"
            }
          },
          "metadata": {}
        },
        {
          "output_type": "display_data",
          "data": {
            "text/plain": [
              "tokenizer.json:   0%|          | 0.00/2.31M [00:00<?, ?B/s]"
            ],
            "application/vnd.jupyter.widget-view+json": {
              "version_major": 2,
              "version_minor": 0,
              "model_id": "a1016f6bbc0a4d4c930f91ec73f3ee96"
            }
          },
          "metadata": {}
        },
        {
          "output_type": "display_data",
          "data": {
            "text/plain": [
              "config.json:   0%|          | 0.00/384 [00:00<?, ?B/s]"
            ],
            "application/vnd.jupyter.widget-view+json": {
              "version_major": 2,
              "version_minor": 0,
              "model_id": "a311f65a8d144b66bdc405c1a8c95679"
            }
          },
          "metadata": {}
        },
        {
          "output_type": "stream",
          "name": "stdout",
          "text": [
            "Tokenization completed!\n"
          ]
        }
      ]
    },
    {
      "cell_type": "code",
      "source": [
        "import torch\n",
        "from torch.utils.data import Dataset\n",
        "\n",
        "class SANADDataset(Dataset):\n",
        "    def __init__(self, encodings, labels):\n",
        "        self.encodings = encodings\n",
        "        self.labels = labels\n",
        "\n",
        "    def __getitem__(self, idx):\n",
        "        # Clone and detach tensors to avoid warnings\n",
        "        item = {key: val[idx].clone().detach() for key, val in self.encodings.items()}\n",
        "        item['labels'] = torch.tensor(self.labels[idx]).clone().detach()\n",
        "        return item\n",
        "\n",
        "    def __len__(self):\n",
        "        return len(self.labels)\n",
        "\n",
        "\n",
        "# Encode labels\n",
        "from sklearn.preprocessing import LabelEncoder\n",
        "label_encoder = LabelEncoder()\n",
        "\n",
        "train_labels = label_encoder.fit_transform(train_data['label'])\n",
        "test_labels = label_encoder.transform(test_data['label'])\n",
        "\n",
        "# Create PyTorch datasets\n",
        "train_dataset = SANADDataset(train_tokens, train_labels)\n",
        "test_dataset = SANADDataset(test_tokens, test_labels)\n"
      ],
      "metadata": {
        "id": "QmQqwZaDq36O"
      },
      "execution_count": null,
      "outputs": []
    },
    {
      "cell_type": "code",
      "source": [
        "from transformers import BertForSequenceClassification, Trainer, TrainingArguments\n",
        "\n",
        "# Load pre-trained BERT model\n",
        "model = BertForSequenceClassification.from_pretrained(\n",
        "    'aubmindlab/bert-base-arabertv2',\n",
        "    num_labels=len(label_encoder.classes_)\n",
        ")\n"
      ],
      "metadata": {
        "colab": {
          "base_uri": "https://localhost:8080/",
          "height": 104,
          "referenced_widgets": [
            "46ffb63bac20479fb28af793617426a2",
            "c9d85269ea264bc59ff98ffdee556bd7",
            "c4efde11a723447fbf357e6ea5a735d8",
            "912c2c8d5f044166a6b8bbe12ca7ff4b",
            "b5b3e53f78c340efbbc827dc5bf79c00",
            "0ee452dd3b474c4a8d21152ebd1884a0",
            "880807a36ab740309afc6823e43d381c",
            "a75d7d4383664f1b89cae698dde65a51",
            "33ac0f8fad9f4c0b9ad3389913e3d15a",
            "9fb3c735cf4244b5ad46da191b9699f9",
            "85f471f68292484e82e26f8a50cf9f3e"
          ]
        },
        "id": "pbU265ZYwoCC",
        "outputId": "dfab4725-e555-4884-81f2-d446fee1d81a"
      },
      "execution_count": null,
      "outputs": [
        {
          "output_type": "display_data",
          "data": {
            "text/plain": [
              "model.safetensors:   0%|          | 0.00/543M [00:00<?, ?B/s]"
            ],
            "application/vnd.jupyter.widget-view+json": {
              "version_major": 2,
              "version_minor": 0,
              "model_id": "46ffb63bac20479fb28af793617426a2"
            }
          },
          "metadata": {}
        },
        {
          "output_type": "stream",
          "name": "stderr",
          "text": [
            "Some weights of BertForSequenceClassification were not initialized from the model checkpoint at aubmindlab/bert-base-arabertv2 and are newly initialized: ['classifier.bias', 'classifier.weight']\n",
            "You should probably TRAIN this model on a down-stream task to be able to use it for predictions and inference.\n"
          ]
        }
      ]
    },
    {
      "cell_type": "code",
      "source": [
        "training_args = TrainingArguments(\n",
        "    output_dir='./results',\n",
        "    num_train_epochs=3,\n",
        "    per_device_train_batch_size=32,\n",
        "    per_device_eval_batch_size=32,\n",
        "    evaluation_strategy=\"epoch\",\n",
        "    save_strategy=\"epoch\",\n",
        "    logging_dir='./logs',\n",
        "    logging_steps=10,\n",
        "    learning_rate=2e-5,\n",
        "    load_best_model_at_end=True,\n",
        "    report_to=\"none\",  # Disable W&B logging\n",
        "    run_name=\"bert-text-classification\"  # Custom run name\n",
        ")\n"
      ],
      "metadata": {
        "colab": {
          "base_uri": "https://localhost:8080/"
        },
        "id": "IdapcUgqwxZD",
        "outputId": "bc2948db-522e-46c5-f92d-e78357d64a68"
      },
      "execution_count": null,
      "outputs": [
        {
          "output_type": "stream",
          "name": "stderr",
          "text": [
            "/usr/local/lib/python3.10/dist-packages/transformers/training_args.py:1575: FutureWarning: `evaluation_strategy` is deprecated and will be removed in version 4.46 of 🤗 Transformers. Use `eval_strategy` instead\n",
            "  warnings.warn(\n"
          ]
        }
      ]
    },
    {
      "cell_type": "code",
      "source": [
        "# Initialize the Trainer\n",
        "trainer = Trainer(\n",
        "    model=model,\n",
        "    args=training_args,\n",
        "    train_dataset=train_dataset,\n",
        "    eval_dataset=test_dataset\n",
        ")\n",
        "\n",
        "# Train the model\n",
        "trainer.train()\n",
        "\n",
        "# Evaluate the model\n",
        "results = trainer.evaluate()\n",
        "print(\"Evaluation results:\", results)"
      ],
      "metadata": {
        "colab": {
          "base_uri": "https://localhost:8080/",
          "height": 400
        },
        "id": "KBGrjk2Pw1iX",
        "outputId": "fb18d8da-4341-422c-f39a-437b90ceb3dc"
      },
      "execution_count": null,
      "outputs": [
        {
          "output_type": "stream",
          "name": "stderr",
          "text": [
            "<ipython-input-25-0735d8891f7c>:10: UserWarning: To copy construct from a tensor, it is recommended to use sourceTensor.clone().detach() or sourceTensor.clone().detach().requires_grad_(True), rather than torch.tensor(sourceTensor).\n",
            "  item = {key: torch.tensor(val[idx]) for key, val in self.encodings.items()}\n"
          ]
        },
        {
          "output_type": "display_data",
          "data": {
            "text/plain": [
              "<IPython.core.display.HTML object>"
            ],
            "text/html": [
              "\n",
              "    <div>\n",
              "      \n",
              "      <progress value='9036' max='9036' style='width:300px; height:20px; vertical-align: middle;'></progress>\n",
              "      [9036/9036 1:44:35, Epoch 3/3]\n",
              "    </div>\n",
              "    <table border=\"1\" class=\"dataframe\">\n",
              "  <thead>\n",
              " <tr style=\"text-align: left;\">\n",
              "      <th>Epoch</th>\n",
              "      <th>Training Loss</th>\n",
              "      <th>Validation Loss</th>\n",
              "    </tr>\n",
              "  </thead>\n",
              "  <tbody>\n",
              "    <tr>\n",
              "      <td>1</td>\n",
              "      <td>0.089600</td>\n",
              "      <td>0.126433</td>\n",
              "    </tr>\n",
              "    <tr>\n",
              "      <td>2</td>\n",
              "      <td>0.082000</td>\n",
              "      <td>0.118672</td>\n",
              "    </tr>\n",
              "    <tr>\n",
              "      <td>3</td>\n",
              "      <td>0.009500</td>\n",
              "      <td>0.118767</td>\n",
              "    </tr>\n",
              "  </tbody>\n",
              "</table><p>"
            ]
          },
          "metadata": {}
        },
        {
          "output_type": "stream",
          "name": "stderr",
          "text": [
            "<ipython-input-25-0735d8891f7c>:10: UserWarning: To copy construct from a tensor, it is recommended to use sourceTensor.clone().detach() or sourceTensor.clone().detach().requires_grad_(True), rather than torch.tensor(sourceTensor).\n",
            "  item = {key: torch.tensor(val[idx]) for key, val in self.encodings.items()}\n",
            "<ipython-input-25-0735d8891f7c>:10: UserWarning: To copy construct from a tensor, it is recommended to use sourceTensor.clone().detach() or sourceTensor.clone().detach().requires_grad_(True), rather than torch.tensor(sourceTensor).\n",
            "  item = {key: torch.tensor(val[idx]) for key, val in self.encodings.items()}\n",
            "<ipython-input-25-0735d8891f7c>:10: UserWarning: To copy construct from a tensor, it is recommended to use sourceTensor.clone().detach() or sourceTensor.clone().detach().requires_grad_(True), rather than torch.tensor(sourceTensor).\n",
            "  item = {key: torch.tensor(val[idx]) for key, val in self.encodings.items()}\n",
            "<ipython-input-25-0735d8891f7c>:10: UserWarning: To copy construct from a tensor, it is recommended to use sourceTensor.clone().detach() or sourceTensor.clone().detach().requires_grad_(True), rather than torch.tensor(sourceTensor).\n",
            "  item = {key: torch.tensor(val[idx]) for key, val in self.encodings.items()}\n"
          ]
        },
        {
          "output_type": "display_data",
          "data": {
            "text/plain": [
              "<IPython.core.display.HTML object>"
            ],
            "text/html": [
              "\n",
              "    <div>\n",
              "      \n",
              "      <progress value='335' max='335' style='width:300px; height:20px; vertical-align: middle;'></progress>\n",
              "      [335/335 01:09]\n",
              "    </div>\n",
              "    "
            ]
          },
          "metadata": {}
        },
        {
          "output_type": "stream",
          "name": "stdout",
          "text": [
            "Evaluation results: {'eval_loss': 0.11867189407348633, 'eval_runtime': 69.4204, 'eval_samples_per_second': 154.076, 'eval_steps_per_second': 4.826, 'epoch': 3.0}\n"
          ]
        }
      ]
    },
    {
      "cell_type": "code",
      "source": [
        "# Save the fine-tuned model\n",
        "model.save_pretrained('./fine_tuned_model')\n",
        "tokenizer.save_pretrained('./fine_tuned_model')\n",
        "\n",
        "print(\"Model saved successfully!\")\n"
      ],
      "metadata": {
        "id": "YqEzx2cR1_5X",
        "colab": {
          "base_uri": "https://localhost:8080/"
        },
        "outputId": "c500cbfd-3b70-45a7-e2bb-aaceafbab964"
      },
      "execution_count": null,
      "outputs": [
        {
          "output_type": "stream",
          "name": "stdout",
          "text": [
            "Model saved successfully!\n"
          ]
        }
      ]
    },
    {
      "cell_type": "code",
      "source": [
        "from sklearn.metrics import accuracy_score, classification_report\n",
        "\n",
        "# Make predictions on the test dataset\n",
        "predictions = trainer.predict(test_dataset)\n",
        "predicted_labels = torch.argmax(torch.tensor(predictions.predictions), axis=1)\n",
        "true_labels = torch.tensor(test_labels)\n",
        "\n",
        "# Calculate accuracy\n",
        "accuracy = accuracy_score(true_labels, predicted_labels)\n",
        "print(f\"Test Accuracy: {accuracy * 100:.2f}%\")\n",
        "\n",
        "# Print classification report\n",
        "print(\"\\nClassification Report:\")\n",
        "print(classification_report(true_labels, predicted_labels, target_names=label_encoder.classes_))\n"
      ],
      "metadata": {
        "id": "_CVtOFsh2A3Y",
        "colab": {
          "base_uri": "https://localhost:8080/",
          "height": 367
        },
        "outputId": "fd0af90b-6555-4682-c335-2c869218f8a4"
      },
      "execution_count": null,
      "outputs": [
        {
          "output_type": "stream",
          "name": "stderr",
          "text": [
            "<ipython-input-25-0735d8891f7c>:10: UserWarning: To copy construct from a tensor, it is recommended to use sourceTensor.clone().detach() or sourceTensor.clone().detach().requires_grad_(True), rather than torch.tensor(sourceTensor).\n",
            "  item = {key: torch.tensor(val[idx]) for key, val in self.encodings.items()}\n"
          ]
        },
        {
          "output_type": "display_data",
          "data": {
            "text/plain": [
              "<IPython.core.display.HTML object>"
            ],
            "text/html": []
          },
          "metadata": {}
        },
        {
          "output_type": "stream",
          "name": "stdout",
          "text": [
            "Test Accuracy: 96.74%\n",
            "\n",
            "Classification Report:\n",
            "              precision    recall  f1-score   support\n",
            "\n",
            "     Culture       0.94      0.96      0.95      1320\n",
            "     Finance       0.97      0.95      0.96      1690\n",
            "     Medical       0.97      0.99      0.98      1690\n",
            "    Politics       0.96      0.95      0.96      1690\n",
            "    Religion       0.96      0.97      0.96       926\n",
            "      Sports       0.99      0.99      0.99      1690\n",
            "        Tech       0.97      0.97      0.97      1690\n",
            "\n",
            "    accuracy                           0.97     10696\n",
            "   macro avg       0.97      0.97      0.97     10696\n",
            "weighted avg       0.97      0.97      0.97     10696\n",
            "\n"
          ]
        }
      ]
    },
    {
      "cell_type": "code",
      "source": [
        "import shutil\n",
        "\n",
        "# Zip the model folder\n",
        "shutil.make_archive(\"fine_tuned_model\", 'zip', \"./fine_tuned_model\")\n",
        "\n",
        "print(\"Model zipped successfully!\")\n"
      ],
      "metadata": {
        "colab": {
          "base_uri": "https://localhost:8080/"
        },
        "id": "1EefRZXaYX8_",
        "outputId": "ac1698da-3732-4db3-dfa2-ffca6a7c43c1"
      },
      "execution_count": null,
      "outputs": [
        {
          "output_type": "stream",
          "name": "stdout",
          "text": [
            "Model zipped successfully!\n"
          ]
        }
      ]
    },
    {
      "cell_type": "code",
      "source": [
        "from google.colab import drive\n",
        "drive.mount('/content/drive')\n",
        "\n",
        "# Copy model to Google Drive\n",
        "!cp -r ./fine_tuned_model /content/drive/MyDrive/\n",
        "print(\"Model saved to Google Drive!\")\n"
      ],
      "metadata": {
        "colab": {
          "base_uri": "https://localhost:8080/"
        },
        "id": "Ao5_0ozCYsS3",
        "outputId": "418b3bb7-c650-40f1-fb03-eb61c1943d9b"
      },
      "execution_count": null,
      "outputs": [
        {
          "output_type": "stream",
          "name": "stdout",
          "text": [
            "Drive already mounted at /content/drive; to attempt to forcibly remount, call drive.mount(\"/content/drive\", force_remount=True).\n",
            "Model saved to Google Drive!\n"
          ]
        }
      ]
    },
    {
      "cell_type": "code",
      "source": [
        "# Unzip the uploaded file\n",
        "import zipfile\n",
        "with zipfile.ZipFile(\"/content/drive/MyDrive/fine_tuned_model.zip\", 'r') as zip_ref:\n",
        "    zip_ref.extractall(\"./fine_tuned_model\")\n",
        "\n",
        "print(\"Fine-tuned model extracted!\")\n"
      ],
      "metadata": {
        "colab": {
          "base_uri": "https://localhost:8080/",
          "height": 57
        },
        "id": "OkxZCt-nJ_uF",
        "outputId": "c281a19f-9e62-4f00-d57d-3e4911da1f71"
      },
      "execution_count": null,
      "outputs": [
        {
          "output_type": "display_data",
          "data": {
            "text/plain": [
              "<IPython.core.display.HTML object>"
            ],
            "text/html": [
              "\n",
              "     <input type=\"file\" id=\"files-e4072ee3-ccad-41cb-b555-9ef0a4c75d26\" name=\"files[]\" multiple disabled\n",
              "        style=\"border:none\" />\n",
              "     <output id=\"result-e4072ee3-ccad-41cb-b555-9ef0a4c75d26\">\n",
              "      Upload widget is only available when the cell has been executed in the\n",
              "      current browser session. Please rerun this cell to enable.\n",
              "      </output>\n",
              "      <script>// Copyright 2017 Google LLC\n",
              "//\n",
              "// Licensed under the Apache License, Version 2.0 (the \"License\");\n",
              "// you may not use this file except in compliance with the License.\n",
              "// You may obtain a copy of the License at\n",
              "//\n",
              "//      http://www.apache.org/licenses/LICENSE-2.0\n",
              "//\n",
              "// Unless required by applicable law or agreed to in writing, software\n",
              "// distributed under the License is distributed on an \"AS IS\" BASIS,\n",
              "// WITHOUT WARRANTIES OR CONDITIONS OF ANY KIND, either express or implied.\n",
              "// See the License for the specific language governing permissions and\n",
              "// limitations under the License.\n",
              "\n",
              "/**\n",
              " * @fileoverview Helpers for google.colab Python module.\n",
              " */\n",
              "(function(scope) {\n",
              "function span(text, styleAttributes = {}) {\n",
              "  const element = document.createElement('span');\n",
              "  element.textContent = text;\n",
              "  for (const key of Object.keys(styleAttributes)) {\n",
              "    element.style[key] = styleAttributes[key];\n",
              "  }\n",
              "  return element;\n",
              "}\n",
              "\n",
              "// Max number of bytes which will be uploaded at a time.\n",
              "const MAX_PAYLOAD_SIZE = 100 * 1024;\n",
              "\n",
              "function _uploadFiles(inputId, outputId) {\n",
              "  const steps = uploadFilesStep(inputId, outputId);\n",
              "  const outputElement = document.getElementById(outputId);\n",
              "  // Cache steps on the outputElement to make it available for the next call\n",
              "  // to uploadFilesContinue from Python.\n",
              "  outputElement.steps = steps;\n",
              "\n",
              "  return _uploadFilesContinue(outputId);\n",
              "}\n",
              "\n",
              "// This is roughly an async generator (not supported in the browser yet),\n",
              "// where there are multiple asynchronous steps and the Python side is going\n",
              "// to poll for completion of each step.\n",
              "// This uses a Promise to block the python side on completion of each step,\n",
              "// then passes the result of the previous step as the input to the next step.\n",
              "function _uploadFilesContinue(outputId) {\n",
              "  const outputElement = document.getElementById(outputId);\n",
              "  const steps = outputElement.steps;\n",
              "\n",
              "  const next = steps.next(outputElement.lastPromiseValue);\n",
              "  return Promise.resolve(next.value.promise).then((value) => {\n",
              "    // Cache the last promise value to make it available to the next\n",
              "    // step of the generator.\n",
              "    outputElement.lastPromiseValue = value;\n",
              "    return next.value.response;\n",
              "  });\n",
              "}\n",
              "\n",
              "/**\n",
              " * Generator function which is called between each async step of the upload\n",
              " * process.\n",
              " * @param {string} inputId Element ID of the input file picker element.\n",
              " * @param {string} outputId Element ID of the output display.\n",
              " * @return {!Iterable<!Object>} Iterable of next steps.\n",
              " */\n",
              "function* uploadFilesStep(inputId, outputId) {\n",
              "  const inputElement = document.getElementById(inputId);\n",
              "  inputElement.disabled = false;\n",
              "\n",
              "  const outputElement = document.getElementById(outputId);\n",
              "  outputElement.innerHTML = '';\n",
              "\n",
              "  const pickedPromise = new Promise((resolve) => {\n",
              "    inputElement.addEventListener('change', (e) => {\n",
              "      resolve(e.target.files);\n",
              "    });\n",
              "  });\n",
              "\n",
              "  const cancel = document.createElement('button');\n",
              "  inputElement.parentElement.appendChild(cancel);\n",
              "  cancel.textContent = 'Cancel upload';\n",
              "  const cancelPromise = new Promise((resolve) => {\n",
              "    cancel.onclick = () => {\n",
              "      resolve(null);\n",
              "    };\n",
              "  });\n",
              "\n",
              "  // Wait for the user to pick the files.\n",
              "  const files = yield {\n",
              "    promise: Promise.race([pickedPromise, cancelPromise]),\n",
              "    response: {\n",
              "      action: 'starting',\n",
              "    }\n",
              "  };\n",
              "\n",
              "  cancel.remove();\n",
              "\n",
              "  // Disable the input element since further picks are not allowed.\n",
              "  inputElement.disabled = true;\n",
              "\n",
              "  if (!files) {\n",
              "    return {\n",
              "      response: {\n",
              "        action: 'complete',\n",
              "      }\n",
              "    };\n",
              "  }\n",
              "\n",
              "  for (const file of files) {\n",
              "    const li = document.createElement('li');\n",
              "    li.append(span(file.name, {fontWeight: 'bold'}));\n",
              "    li.append(span(\n",
              "        `(${file.type || 'n/a'}) - ${file.size} bytes, ` +\n",
              "        `last modified: ${\n",
              "            file.lastModifiedDate ? file.lastModifiedDate.toLocaleDateString() :\n",
              "                                    'n/a'} - `));\n",
              "    const percent = span('0% done');\n",
              "    li.appendChild(percent);\n",
              "\n",
              "    outputElement.appendChild(li);\n",
              "\n",
              "    const fileDataPromise = new Promise((resolve) => {\n",
              "      const reader = new FileReader();\n",
              "      reader.onload = (e) => {\n",
              "        resolve(e.target.result);\n",
              "      };\n",
              "      reader.readAsArrayBuffer(file);\n",
              "    });\n",
              "    // Wait for the data to be ready.\n",
              "    let fileData = yield {\n",
              "      promise: fileDataPromise,\n",
              "      response: {\n",
              "        action: 'continue',\n",
              "      }\n",
              "    };\n",
              "\n",
              "    // Use a chunked sending to avoid message size limits. See b/62115660.\n",
              "    let position = 0;\n",
              "    do {\n",
              "      const length = Math.min(fileData.byteLength - position, MAX_PAYLOAD_SIZE);\n",
              "      const chunk = new Uint8Array(fileData, position, length);\n",
              "      position += length;\n",
              "\n",
              "      const base64 = btoa(String.fromCharCode.apply(null, chunk));\n",
              "      yield {\n",
              "        response: {\n",
              "          action: 'append',\n",
              "          file: file.name,\n",
              "          data: base64,\n",
              "        },\n",
              "      };\n",
              "\n",
              "      let percentDone = fileData.byteLength === 0 ?\n",
              "          100 :\n",
              "          Math.round((position / fileData.byteLength) * 100);\n",
              "      percent.textContent = `${percentDone}% done`;\n",
              "\n",
              "    } while (position < fileData.byteLength);\n",
              "  }\n",
              "\n",
              "  // All done.\n",
              "  yield {\n",
              "    response: {\n",
              "      action: 'complete',\n",
              "    }\n",
              "  };\n",
              "}\n",
              "\n",
              "scope.google = scope.google || {};\n",
              "scope.google.colab = scope.google.colab || {};\n",
              "scope.google.colab._files = {\n",
              "  _uploadFiles,\n",
              "  _uploadFilesContinue,\n",
              "};\n",
              "})(self);\n",
              "</script> "
            ]
          },
          "metadata": {}
        },
        {
          "output_type": "stream",
          "name": "stdout",
          "text": [
            "Fine-tuned model extracted!\n"
          ]
        }
      ]
    },
    {
      "cell_type": "code",
      "source": [
        "from transformers import BertForSequenceClassification, BertTokenizer\n",
        "\n",
        "# Load the fine-tuned model and tokenizer\n",
        "fine_tuned_model = BertForSequenceClassification.from_pretrained('/content/fine_tuned_model/fine_tuned_model')\n",
        "tokenizer = BertTokenizer.from_pretrained('/content/fine_tuned_model/fine_tuned_model')\n",
        "\n",
        "print(\"Fine-tuned model and tokenizer loaded successfully!\")\n"
      ],
      "metadata": {
        "colab": {
          "base_uri": "https://localhost:8080/"
        },
        "id": "pl9zSIF4Kr9e",
        "outputId": "2d0ed21a-1553-4afc-a720-caa2f2ad74fc"
      },
      "execution_count": null,
      "outputs": [
        {
          "output_type": "stream",
          "name": "stdout",
          "text": [
            "Fine-tuned model and tokenizer loaded successfully!\n"
          ]
        }
      ]
    },
    {
      "cell_type": "code",
      "source": [
        "import torch\n",
        "from torch import nn"
      ],
      "metadata": {
        "id": "z5h22Q04Su3r"
      },
      "execution_count": null,
      "outputs": []
    },
    {
      "cell_type": "code",
      "source": [
        "class DifferentialAttention(nn.Module):\n",
        "    def __init__(self, embed_dim, num_heads):\n",
        "        super().__init__()\n",
        "        self.embed_dim = embed_dim\n",
        "        self.num_heads = num_heads\n",
        "        self.head_dim = embed_dim // num_heads\n",
        "\n",
        "        if embed_dim % num_heads != 0:\n",
        "            raise ValueError(\"Embedding dimension must be divisible by the number of heads.\")\n",
        "\n",
        "        # Linear layers for Q, K, V projections\n",
        "        self.q_linear = nn.Linear(embed_dim, 2 * embed_dim)  # Double size for Q1/Q2\n",
        "        self.k_linear = nn.Linear(embed_dim, 2 * embed_dim)  # Double size for K1/K2\n",
        "        self.v_linear = nn.Linear(embed_dim, embed_dim)\n",
        "\n",
        "        # Learnable parameters for lambda calculation\n",
        "        self.lambda_q1 = nn.Parameter(torch.randn(self.head_dim))\n",
        "        self.lambda_k1 = nn.Parameter(torch.randn(self.head_dim))\n",
        "        self.lambda_q2 = nn.Parameter(torch.randn(self.head_dim))\n",
        "        self.lambda_k2 = nn.Parameter(torch.randn(self.head_dim))\n",
        "        self.lambda_init = nn.Parameter(torch.tensor(0.8))\n",
        "\n",
        "    def forward(\n",
        "        self,\n",
        "        hidden_states,\n",
        "        attention_mask=None,\n",
        "        head_mask=None,\n",
        "        encoder_hidden_states=None,\n",
        "        encoder_attention_mask=None,\n",
        "        past_key_value=None,\n",
        "        output_attentions=False,\n",
        "    ):\n",
        "        \"\"\"\n",
        "        Differential Attention forward pass.\n",
        "        \"\"\"\n",
        "        batch_size, seq_length, embed_dim = hidden_states.size()\n",
        "        assert embed_dim == self.embed_dim, \"Embedding dimension mismatch.\"\n",
        "\n",
        "        # Project Q, K, V\n",
        "        Q = self.q_linear(hidden_states)  # Shape: (batch_size, seq_length, 2 * embed_dim)\n",
        "        K = self.k_linear(hidden_states)  # Shape: (batch_size, seq_length, 2 * embed_dim)\n",
        "        V = self.v_linear(hidden_states)  # Shape: (batch_size, seq_length, embed_dim)\n",
        "\n",
        "        # Split Q, K into Q1/Q2 and K1/K2\n",
        "        Q1, Q2 = Q.split(self.embed_dim, dim=-1)\n",
        "        K1, K2 = K.split(self.embed_dim, dim=-1)\n",
        "\n",
        "        # Reshape for multi-head attention\n",
        "        Q1 = Q1.view(batch_size, seq_length, self.num_heads, self.head_dim).permute(0, 2, 1, 3)\n",
        "        Q2 = Q2.view(batch_size, seq_length, self.num_heads, self.head_dim).permute(0, 2, 1, 3)\n",
        "        K1 = K1.view(batch_size, seq_length, self.num_heads, self.head_dim).permute(0, 2, 1, 3)\n",
        "        K2 = K2.view(batch_size, seq_length, self.num_heads, self.head_dim).permute(0, 2, 1, 3)\n",
        "        V = V.view(batch_size, seq_length, self.num_heads, self.head_dim).permute(0, 2, 1, 3)\n",
        "\n",
        "        # Compute attention scores\n",
        "        attention_1 = torch.matmul(Q1, K1.transpose(-2, -1)) / self.head_dim ** 0.5  # Shape: (batch_size, num_heads, seq_length, seq_length)\n",
        "        attention_2 = torch.matmul(Q2, K2.transpose(-2, -1)) / self.head_dim ** 0.5\n",
        "\n",
        "        # Apply softmax to attention scores\n",
        "        attention_1 = torch.softmax(attention_1, dim=-1)\n",
        "        attention_2 = torch.softmax(attention_2, dim=-1)\n",
        "\n",
        "        # Compute lambda term\n",
        "        lambda_term = (\n",
        "            torch.exp(self.lambda_q1 @ self.lambda_k1) -\n",
        "            torch.exp(self.lambda_q2 @ self.lambda_k2) +\n",
        "            self.lambda_init\n",
        "        )\n",
        "\n",
        "        # Compute differential attention\n",
        "        differential_attention = (attention_1 - lambda_term * attention_2) @ V  # Shape: (batch_size, num_heads, seq_length, head_dim)\n",
        "\n",
        "        # Reshape back to original format\n",
        "        differential_attention = differential_attention.permute(0, 2, 1, 3).contiguous()\n",
        "        differential_attention = differential_attention.view(batch_size, seq_length, embed_dim)\n",
        "\n",
        "        # Return the attention output and optionally the attention scores\n",
        "        if output_attentions:\n",
        "            return (differential_attention, attention_1 - lambda_term * attention_2)\n",
        "        return (differential_attention,)\n"
      ],
      "metadata": {
        "id": "2l-BAOAcX0Up"
      },
      "execution_count": null,
      "outputs": []
    },
    {
      "cell_type": "code",
      "source": [
        "from transformers.models.bert.modeling_bert import BertEncoder\n",
        "\n",
        "class CustomBertEncoder(BertEncoder):\n",
        "    def __init__(self, config):\n",
        "        super().__init__(config)\n",
        "\n",
        "        # Replace 25%-50% of attention layers\n",
        "        layers_to_replace = int(len(self.layer) * 0.25)\n",
        "        indices_to_replace = torch.randperm(len(self.layer))[:layers_to_replace]\n",
        "\n",
        "        for idx in indices_to_replace:\n",
        "            self.layer[idx].attention.self = DifferentialAttention(\n",
        "                embed_dim=config.hidden_size,\n",
        "                num_heads=config.num_attention_heads\n",
        "            )\n"
      ],
      "metadata": {
        "id": "xlM9rcKTPs3E"
      },
      "execution_count": null,
      "outputs": []
    },
    {
      "cell_type": "code",
      "source": [
        "from transformers.models.bert.modeling_bert import BertModel, BertPreTrainedModel\n",
        "\n",
        "class CustomBertModel(BertPreTrainedModel):\n",
        "    def __init__(self, config):\n",
        "        super().__init__(config)\n",
        "\n",
        "        # Use the original BERT model with the custom encoder\n",
        "        self.bert = BertModel(config)\n",
        "        self.bert.encoder = CustomBertEncoder(config)  # Replace encoder\n",
        "\n",
        "        # Classification head\n",
        "        self.classifier = nn.Linear(config.hidden_size, config.num_labels)\n",
        "\n",
        "    def forward(self, input_ids, attention_mask=None, labels=None):\n",
        "        # Forward pass through BERT\n",
        "        outputs = self.bert(input_ids, attention_mask=attention_mask)\n",
        "        logits = self.classifier(outputs.pooler_output)\n",
        "\n",
        "        # Compute loss if labels are provided\n",
        "        loss = None\n",
        "        if labels is not None:\n",
        "            loss_fct = nn.CrossEntropyLoss()\n",
        "            loss = loss_fct(logits, labels)\n",
        "\n",
        "        return {'loss': loss, 'logits': logits}\n"
      ],
      "metadata": {
        "id": "gskA3_CgPvFb"
      },
      "execution_count": null,
      "outputs": []
    },
    {
      "cell_type": "code",
      "source": [
        "from transformers import Trainer, TrainingArguments\n",
        "\n",
        "# Initialize the modified BERT model\n",
        "model = CustomBertModel.from_pretrained(\n",
        "    'aubmindlab/bert-base-arabertv2',\n",
        "    num_labels=len(label_encoder.classes_)\n",
        ")\n",
        "\n",
        "# Define training arguments with aligned strategies\n",
        "training_args = TrainingArguments(\n",
        "    output_dir='./modified_results',\n",
        "    evaluation_strategy=\"epoch\",  # Evaluate at the end of each epoch\n",
        "    save_strategy=\"epoch\",        # Save the model at the end of each epoch\n",
        "    learning_rate=2e-5,\n",
        "    per_device_train_batch_size=32,\n",
        "    per_device_eval_batch_size=32,\n",
        "    num_train_epochs=3,\n",
        "    weight_decay=0.01,\n",
        "    logging_dir='./modified_logs',\n",
        "    load_best_model_at_end=True   # Ensure best model is loaded at the end\n",
        ")\n",
        "\n",
        "print(\"Training arguments updated successfully!\")\n",
        "\n",
        "\n"
      ],
      "metadata": {
        "colab": {
          "base_uri": "https://localhost:8080/"
        },
        "id": "CwqHOC1EPxdD",
        "outputId": "e4e89578-0802-4925-b36e-e564b136fe87"
      },
      "execution_count": null,
      "outputs": [
        {
          "output_type": "stream",
          "name": "stderr",
          "text": [
            "Some weights of CustomBertModel were not initialized from the model checkpoint at aubmindlab/bert-base-arabertv2 and are newly initialized: ['bert.encoder.layer.0.attention.self.k_linear.bias', 'bert.encoder.layer.0.attention.self.k_linear.weight', 'bert.encoder.layer.0.attention.self.lambda_init', 'bert.encoder.layer.0.attention.self.lambda_k1', 'bert.encoder.layer.0.attention.self.lambda_k2', 'bert.encoder.layer.0.attention.self.lambda_q1', 'bert.encoder.layer.0.attention.self.lambda_q2', 'bert.encoder.layer.0.attention.self.q_linear.bias', 'bert.encoder.layer.0.attention.self.q_linear.weight', 'bert.encoder.layer.0.attention.self.v_linear.bias', 'bert.encoder.layer.0.attention.self.v_linear.weight', 'bert.encoder.layer.4.attention.self.k_linear.bias', 'bert.encoder.layer.4.attention.self.k_linear.weight', 'bert.encoder.layer.4.attention.self.lambda_init', 'bert.encoder.layer.4.attention.self.lambda_k1', 'bert.encoder.layer.4.attention.self.lambda_k2', 'bert.encoder.layer.4.attention.self.lambda_q1', 'bert.encoder.layer.4.attention.self.lambda_q2', 'bert.encoder.layer.4.attention.self.q_linear.bias', 'bert.encoder.layer.4.attention.self.q_linear.weight', 'bert.encoder.layer.4.attention.self.v_linear.bias', 'bert.encoder.layer.4.attention.self.v_linear.weight', 'bert.encoder.layer.8.attention.self.k_linear.bias', 'bert.encoder.layer.8.attention.self.k_linear.weight', 'bert.encoder.layer.8.attention.self.lambda_init', 'bert.encoder.layer.8.attention.self.lambda_k1', 'bert.encoder.layer.8.attention.self.lambda_k2', 'bert.encoder.layer.8.attention.self.lambda_q1', 'bert.encoder.layer.8.attention.self.lambda_q2', 'bert.encoder.layer.8.attention.self.q_linear.bias', 'bert.encoder.layer.8.attention.self.q_linear.weight', 'bert.encoder.layer.8.attention.self.v_linear.bias', 'bert.encoder.layer.8.attention.self.v_linear.weight', 'classifier.bias', 'classifier.weight']\n",
            "You should probably TRAIN this model on a down-stream task to be able to use it for predictions and inference.\n",
            "/usr/local/lib/python3.10/dist-packages/transformers/training_args.py:1575: FutureWarning: `evaluation_strategy` is deprecated and will be removed in version 4.46 of 🤗 Transformers. Use `eval_strategy` instead\n",
            "  warnings.warn(\n",
            "Using the `WANDB_DISABLED` environment variable is deprecated and will be removed in v5. Use the --report_to flag to control the integrations used for logging result (for instance --report_to none).\n"
          ]
        },
        {
          "output_type": "stream",
          "name": "stdout",
          "text": [
            "Training arguments updated successfully!\n"
          ]
        }
      ]
    },
    {
      "cell_type": "code",
      "source": [
        "import os\n",
        "os.environ[\"WANDB_DISABLED\"] = \"true\"\n"
      ],
      "metadata": {
        "id": "Q9Q4ujAcci_V"
      },
      "execution_count": null,
      "outputs": []
    },
    {
      "cell_type": "code",
      "source": [
        "# Train the model\n",
        "trainer = Trainer(\n",
        "    model=model,\n",
        "    args=training_args,\n",
        "    train_dataset=train_dataset,\n",
        "    eval_dataset=test_dataset\n",
        ")\n",
        "\n",
        "trainer.train()\n",
        "\n",
        "# Evaluate the modified model\n",
        "modified_results = trainer.evaluate()\n",
        "print(\"Modified Model Evaluation Results:\", modified_results)\n"
      ],
      "metadata": {
        "colab": {
          "base_uri": "https://localhost:8080/",
          "height": 285
        },
        "id": "W-pb6ru7Z384",
        "outputId": "b9b0b12c-6586-4159-e23e-0e63e3c676b5"
      },
      "execution_count": null,
      "outputs": [
        {
          "data": {
            "text/html": [
              "\n",
              "    <div>\n",
              "      \n",
              "      <progress value='2247' max='9036' style='width:300px; height:20px; vertical-align: middle;'></progress>\n",
              "      [2247/9036 27:23 < 1:22:49, 1.37 it/s, Epoch 0.75/3]\n",
              "    </div>\n",
              "    <table border=\"1\" class=\"dataframe\">\n",
              "  <thead>\n",
              " <tr style=\"text-align: left;\">\n",
              "      <th>Epoch</th>\n",
              "      <th>Training Loss</th>\n",
              "      <th>Validation Loss</th>\n",
              "    </tr>\n",
              "  </thead>\n",
              "  <tbody>\n",
              "  </tbody>\n",
              "</table><p>"
            ],
            "text/plain": [
              "<IPython.core.display.HTML object>"
            ]
          },
          "metadata": {},
          "output_type": "display_data"
        },
        {
          "output_type": "display_data",
          "data": {
            "text/plain": [
              "<IPython.core.display.HTML object>"
            ],
            "text/html": [
              "\n",
              "    <div>\n",
              "      \n",
              "      <progress value='9036' max='9036' style='width:300px; height:20px; vertical-align: middle;'></progress>\n",
              "      [9036/9036 1:55:19, Epoch 3/3]\n",
              "    </div>\n",
              "    <table border=\"1\" class=\"dataframe\">\n",
              "  <thead>\n",
              " <tr style=\"text-align: left;\">\n",
              "      <th>Epoch</th>\n",
              "      <th>Training Loss</th>\n",
              "      <th>Validation Loss</th>\n",
              "    </tr>\n",
              "  </thead>\n",
              "  <tbody>\n",
              "    <tr>\n",
              "      <td>1</td>\n",
              "      <td>0.251600</td>\n",
              "      <td>0.250112</td>\n",
              "    </tr>\n",
              "    <tr>\n",
              "      <td>2</td>\n",
              "      <td>0.167500</td>\n",
              "      <td>0.220686</td>\n",
              "    </tr>\n",
              "    <tr>\n",
              "      <td>3</td>\n",
              "      <td>0.128000</td>\n",
              "      <td>0.204760</td>\n",
              "    </tr>\n",
              "  </tbody>\n",
              "</table><p>"
            ]
          },
          "metadata": {}
        },
        {
          "output_type": "display_data",
          "data": {
            "text/plain": [
              "<IPython.core.display.HTML object>"
            ],
            "text/html": [
              "\n",
              "    <div>\n",
              "      \n",
              "      <progress value='335' max='335' style='width:300px; height:20px; vertical-align: middle;'></progress>\n",
              "      [335/335 01:14]\n",
              "    </div>\n",
              "    "
            ]
          },
          "metadata": {}
        },
        {
          "output_type": "stream",
          "name": "stdout",
          "text": [
            "Modified Model Evaluation Results: {'eval_loss': 0.2047596126794815, 'eval_runtime': 74.6455, 'eval_samples_per_second': 143.291, 'eval_steps_per_second': 4.488, 'epoch': 3.0}\n"
          ]
        }
      ]
    },
    {
      "cell_type": "code",
      "source": [
        "from google.colab import drive\n",
        "\n",
        "# Mount Google Drive\n",
        "drive.mount('/content/drive')\n",
        "\n",
        "# Save the modified model to Google Drive\n",
        "model_save_path = \"/content/drive/MyDrive/modified_model\"\n",
        "model.save_pretrained(model_save_path)\n",
        "tokenizer.save_pretrained(model_save_path)\n",
        "\n",
        "print(f\"Modified model saved successfully to {model_save_path}!\")\n"
      ],
      "metadata": {
        "colab": {
          "base_uri": "https://localhost:8080/"
        },
        "id": "8zGmKulQtZwX",
        "outputId": "1f4faf31-48f0-4ba4-d196-d94e31a8f285"
      },
      "execution_count": null,
      "outputs": [
        {
          "output_type": "stream",
          "name": "stdout",
          "text": [
            "Drive already mounted at /content/drive; to attempt to forcibly remount, call drive.mount(\"/content/drive\", force_remount=True).\n",
            "Modified model saved successfully to /content/drive/MyDrive/modified_model!\n"
          ]
        }
      ]
    },
    {
      "cell_type": "code",
      "source": [
        "import numpy as np\n",
        "from sklearn.metrics import classification_report, accuracy_score\n",
        "\n",
        "# Generate predictions for the modified model\n",
        "modified_preds = trainer.predict(test_dataset).predictions\n",
        "modified_labels = np.argmax(modified_preds, axis=1)\n",
        "\n",
        "# Calculate accuracy\n",
        "modified_accuracy = accuracy_score(test_labels, modified_labels)\n",
        "print(f\"Modified Model Test Accuracy: {modified_accuracy * 100:.2f}%\")\n",
        "\n",
        "# Generate classification report\n",
        "print(\"\\nModified Model Classification Report:\")\n",
        "print(classification_report(test_labels, modified_labels, target_names=label_encoder.classes_))\n"
      ],
      "metadata": {
        "colab": {
          "base_uri": "https://localhost:8080/",
          "height": 318
        },
        "id": "j9sCDV7Ts5aL",
        "outputId": "a399aa76-814a-45cb-fd32-3cb655476504"
      },
      "execution_count": null,
      "outputs": [
        {
          "output_type": "display_data",
          "data": {
            "text/plain": [
              "<IPython.core.display.HTML object>"
            ],
            "text/html": []
          },
          "metadata": {}
        },
        {
          "output_type": "stream",
          "name": "stdout",
          "text": [
            "Modified Model Test Accuracy: 94.77%\n",
            "\n",
            "Modified Model Classification Report:\n",
            "              precision    recall  f1-score   support\n",
            "\n",
            "     Culture       0.92      0.93      0.92      1320\n",
            "     Finance       0.94      0.93      0.94      1690\n",
            "     Medical       0.96      0.97      0.96      1690\n",
            "    Politics       0.93      0.93      0.93      1690\n",
            "    Religion       0.93      0.93      0.93       926\n",
            "      Sports       0.99      0.98      0.99      1690\n",
            "        Tech       0.96      0.95      0.95      1690\n",
            "\n",
            "    accuracy                           0.95     10696\n",
            "   macro avg       0.95      0.95      0.95     10696\n",
            "weighted avg       0.95      0.95      0.95     10696\n",
            "\n"
          ]
        }
      ]
    },
    {
      "cell_type": "code",
      "source": [
        "import numpy as np\n",
        "import json\n",
        "\n",
        "# Save predictions for the modified model\n",
        "modified_preds_save_path = \"/content/drive/MyDrive/modified_predictions.npy\"\n",
        "np.save(modified_preds_save_path, modified_preds)\n",
        "\n",
        "# Save evaluation metrics for the modified model\n",
        "modified_eval_save_path = \"/content/drive/MyDrive/modified_eval_results.json\"\n",
        "with open(modified_eval_save_path, \"w\") as f:\n",
        "    json.dump(modified_results, f)\n",
        "\n",
        "print(f\"Modified predictions saved to {modified_preds_save_path}!\")\n",
        "print(f\"Modified evaluation results saved to {modified_eval_save_path}!\")\n"
      ],
      "metadata": {
        "colab": {
          "base_uri": "https://localhost:8080/"
        },
        "id": "9RZ6GjPrthUv",
        "outputId": "f8d1401c-f8d1-4c30-c76b-78f618007bca"
      },
      "execution_count": null,
      "outputs": [
        {
          "output_type": "stream",
          "name": "stdout",
          "text": [
            "Modified predictions saved to /content/drive/MyDrive/modified_predictions.npy!\n",
            "Modified evaluation results saved to /content/drive/MyDrive/modified_eval_results.json!\n"
          ]
        }
      ]
    },
    {
      "cell_type": "code",
      "source": [
        "classification_report_text = classification_report(\n",
        "    test_labels, modified_labels, target_names=label_encoder.classes_\n",
        ")\n",
        "classification_report_path = \"/content/drive/MyDrive/modified_classification_report.txt\"\n",
        "with open(classification_report_path, \"w\") as f:\n",
        "    f.write(classification_report_text)\n",
        "\n",
        "print(f\"Modified classification report saved to {classification_report_path}!\")\n"
      ],
      "metadata": {
        "colab": {
          "base_uri": "https://localhost:8080/"
        },
        "id": "_q3f4pGMx7fI",
        "outputId": "ceaec1c5-8e43-468c-80f1-6afdfc45e605"
      },
      "execution_count": null,
      "outputs": [
        {
          "output_type": "stream",
          "name": "stdout",
          "text": [
            "Modified classification report saved to /content/drive/MyDrive/modified_classification_report.txt!\n"
          ]
        }
      ]
    },
    {
      "cell_type": "code",
      "source": [
        "tokenized_data_path = \"/content/drive/MyDrive/modified_test_tokens.npz\"\n",
        "np.savez(\n",
        "    tokenized_data_path,\n",
        "    input_ids=test_tokens['input_ids'].numpy(),\n",
        "    attention_mask=test_tokens['attention_mask'].numpy()\n",
        ")\n",
        "print(f\"Tokenized test dataset saved to {tokenized_data_path}!\")\n"
      ],
      "metadata": {
        "colab": {
          "base_uri": "https://localhost:8080/"
        },
        "id": "RX4sJfhdx_h3",
        "outputId": "b68a58f0-8309-4b34-b6f2-f201cc86df40"
      },
      "execution_count": null,
      "outputs": [
        {
          "output_type": "stream",
          "name": "stdout",
          "text": [
            "Tokenized test dataset saved to /content/drive/MyDrive/modified_test_tokens.npz!\n"
          ]
        }
      ]
    },
    {
      "cell_type": "code",
      "source": [
        "import numpy as np\n",
        "import torch\n",
        "\n",
        "# Load tokenized test dataset\n",
        "fine_tuned_test_tokens_path = \"/content/drive/MyDrive/fine_tuned_test_tokens.npz\"\n",
        "loaded_data = np.load(fine_tuned_test_tokens_path)\n",
        "\n",
        "# Prepare the tokenized test dataset\n",
        "test_tokens = {\n",
        "    \"input_ids\": torch.tensor(loaded_data['input_ids']),\n",
        "    \"attention_mask\": torch.tensor(loaded_data['attention_mask']),\n",
        "}\n",
        "test_dataset = torch.utils.data.TensorDataset(\n",
        "    test_tokens['input_ids'],\n",
        "    test_tokens['attention_mask'],\n",
        "    torch.tensor(test_labels)  # Ensure test_labels is defined\n",
        ")\n",
        "\n",
        "print(\"Fine-tuned test tokens loaded successfully!\")\n"
      ],
      "metadata": {
        "colab": {
          "base_uri": "https://localhost:8080/"
        },
        "id": "pe95FUEK4USl",
        "outputId": "8f098288-512e-4b31-d2b1-45d25effc1c9"
      },
      "execution_count": null,
      "outputs": [
        {
          "output_type": "stream",
          "name": "stdout",
          "text": [
            "Fine-tuned test tokens loaded successfully!\n"
          ]
        }
      ]
    },
    {
      "cell_type": "code",
      "source": [
        "import json\n",
        "\n",
        "# Load evaluation metrics\n",
        "fine_tuned_eval_results_path = \"/content/drive/MyDrive/fine_tuned_eval_results.json\"\n",
        "with open(fine_tuned_eval_results_path, \"r\") as f:\n",
        "    fine_tuned_eval_results = json.load(f)\n",
        "\n",
        "# Load the classification report\n",
        "fine_tuned_classification_report_path = \"/content/drive/MyDrive/fine_tuned_classification_report.txt\"\n",
        "with open(fine_tuned_classification_report_path, \"r\") as f:\n",
        "    fine_tuned_classification_report = f.read()\n",
        "\n",
        "print(\"Fine-tuned model evaluation results and classification report loaded successfully!\")\n"
      ],
      "metadata": {
        "colab": {
          "base_uri": "https://localhost:8080/"
        },
        "id": "NMzN4OmO4U1M",
        "outputId": "4e2dc5c2-5512-44e8-adca-416126fe4639"
      },
      "execution_count": null,
      "outputs": [
        {
          "output_type": "stream",
          "name": "stdout",
          "text": [
            "Fine-tuned model evaluation results and classification report loaded successfully!\n"
          ]
        }
      ]
    },
    {
      "cell_type": "code",
      "source": [
        "# Load fine-tuned predictions\n",
        "fine_tuned_predictions_path = \"/content/drive/MyDrive/fine_tuned_predictions.npy\"\n",
        "predictions = np.load(fine_tuned_predictions_path)\n",
        "\n",
        "# Convert logits to predicted labels\n",
        "original_labels = np.argmax(predictions, axis=1)\n",
        "\n",
        "print(\"Fine-tuned model predictions loaded successfully!\")\n"
      ],
      "metadata": {
        "colab": {
          "base_uri": "https://localhost:8080/"
        },
        "id": "w8MrVoaS4Ypm",
        "outputId": "3900240e-e22e-46e1-fd45-1a5993bccb49"
      },
      "execution_count": null,
      "outputs": [
        {
          "output_type": "stream",
          "name": "stdout",
          "text": [
            "Fine-tuned model predictions loaded successfully!\n"
          ]
        }
      ]
    },
    {
      "cell_type": "code",
      "source": [
        "from sklearn.metrics import classification_report, accuracy_score\n",
        "\n",
        "# Fine-tuned model accuracy\n",
        "fine_tuned_accuracy = fine_tuned_eval_results[\"accuracy\"]\n",
        "print(f\"Fine-Tuned Model Accuracy: {fine_tuned_accuracy * 100:.2f}%\")\n",
        "\n",
        "# Modified model accuracy (ensure modified_accuracy is already calculated)\n",
        "print(f\"Modified Model Accuracy: {modified_accuracy * 100:.2f}%\")\n",
        "\n",
        "# Compare classification reports\n",
        "print(\"\\nFine-Tuned Model Classification Report:\")\n",
        "print(fine_tuned_classification_report)\n",
        "\n",
        "print(\"\\nModified Model Classification Report:\")\n",
        "print(classification_report(test_labels, modified_labels, target_names=label_encoder.classes_))\n"
      ],
      "metadata": {
        "colab": {
          "base_uri": "https://localhost:8080/"
        },
        "id": "56HMDeot5R-_",
        "outputId": "6a882f1a-1a09-4178-d14f-f80d61c30d5d"
      },
      "execution_count": null,
      "outputs": [
        {
          "output_type": "stream",
          "name": "stdout",
          "text": [
            "Fine-Tuned Model Accuracy: 96.44%\n",
            "Modified Model Accuracy: 94.77%\n",
            "\n",
            "Fine-Tuned Model Classification Report:\n",
            "              precision    recall  f1-score   support\n",
            "\n",
            "     Culture       0.93      0.96      0.95      1320\n",
            "     Finance       0.96      0.95      0.95      1690\n",
            "     Medical       0.97      0.98      0.98      1690\n",
            "    Politics       0.97      0.94      0.95      1690\n",
            "    Religion       0.95      0.97      0.96       926\n",
            "      Sports       1.00      0.99      0.99      1690\n",
            "        Tech       0.96      0.97      0.97      1690\n",
            "\n",
            "    accuracy                           0.96     10696\n",
            "   macro avg       0.96      0.96      0.96     10696\n",
            "weighted avg       0.96      0.96      0.96     10696\n",
            "\n",
            "\n",
            "Modified Model Classification Report:\n",
            "              precision    recall  f1-score   support\n",
            "\n",
            "     Culture       0.92      0.93      0.92      1320\n",
            "     Finance       0.94      0.93      0.94      1690\n",
            "     Medical       0.96      0.97      0.96      1690\n",
            "    Politics       0.93      0.93      0.93      1690\n",
            "    Religion       0.93      0.93      0.93       926\n",
            "      Sports       0.99      0.98      0.99      1690\n",
            "        Tech       0.96      0.95      0.95      1690\n",
            "\n",
            "    accuracy                           0.95     10696\n",
            "   macro avg       0.95      0.95      0.95     10696\n",
            "weighted avg       0.95      0.95      0.95     10696\n",
            "\n"
          ]
        }
      ]
    },
    {
      "cell_type": "code",
      "source": [
        "with open(\"/content/drive/MyDrive/comparison_results.txt\", \"w\") as f:\n",
        "    f.write(\"Fine-Tuned Model Accuracy: 96.44%\\n\")\n",
        "    f.write(\"Modified Model Accuracy: 94.77%\\n\\n\")\n",
        "    f.write(\"Fine-Tuned Model Classification Report:\\n\")\n",
        "    f.write(fine_tuned_classification_report + \"\\n\\n\")\n",
        "    f.write(\"Modified Model Classification Report:\\n\")\n",
        "    f.write(classification_report(test_labels, modified_labels, target_names=label_encoder.classes_))\n",
        "print(\"Comparison results saved successfully!\")\n"
      ],
      "metadata": {
        "colab": {
          "base_uri": "https://localhost:8080/"
        },
        "id": "EnayEGAn5XFI",
        "outputId": "e94ee053-96aa-44fa-8258-e6740ef58e4f"
      },
      "execution_count": null,
      "outputs": [
        {
          "output_type": "stream",
          "name": "stdout",
          "text": [
            "Comparison results saved successfully!\n"
          ]
        }
      ]
    },
    {
      "cell_type": "code",
      "source": [
        "# Example text\n",
        "example_text = \"حقق المنتخب الوطني فوزاً كبيراً في المباراة النهائية لبطولة كأس الأمم الإفريقية.\"\n",
        "\n",
        "\n",
        "# Define device\n",
        "device = torch.device(\"cuda\" if torch.cuda.is_available() else \"cpu\")\n",
        "\n",
        "# Move models to the device\n",
        "model.to(device)\n",
        "fine_tuned_model.to(device)\n",
        "\n",
        "# Tokenize the example text\n",
        "inputs = tokenizer(\n",
        "    example_text,\n",
        "    return_tensors=\"pt\",\n",
        "    truncation=True,\n",
        "    padding=\"max_length\",\n",
        "    max_length=128\n",
        ")\n",
        "\n",
        "# Remove token_type_ids as CustomBertModel doesn't use it\n",
        "inputs.pop(\"token_type_ids\", None)\n",
        "\n",
        "# Move inputs to the device\n",
        "inputs = {key: value.to(device) for key, value in inputs.items()}\n",
        "\n",
        "# Fine-tuned model prediction\n",
        "fine_tuned_output = fine_tuned_model(**inputs)\n",
        "fine_tuned_pred_label = label_encoder.inverse_transform([torch.argmax(fine_tuned_output.logits).item()])\n",
        "\n",
        "# Modified model prediction\n",
        "modified_output = model(**inputs)\n",
        "logits = modified_output[\"logits\"]  # Access logits from the dictionary\n",
        "modified_pred_label = label_encoder.inverse_transform([torch.argmax(logits).item()])\n",
        "\n",
        "# Display predictions\n",
        "print(f\"Text: {example_text}\")\n",
        "print(f\"Fine-Tuned Model Prediction: {fine_tuned_pred_label[0]}\")\n",
        "print(f\"Modified Model Prediction: {modified_pred_label[0]}\")\n"
      ],
      "metadata": {
        "colab": {
          "base_uri": "https://localhost:8080/"
        },
        "id": "txMshhmu6DH6",
        "outputId": "683b0c61-83b3-4cb4-d114-ef9093df8867"
      },
      "execution_count": null,
      "outputs": [
        {
          "output_type": "stream",
          "name": "stdout",
          "text": [
            "Text: حقق المنتخب الوطني فوزاً كبيراً في المباراة النهائية لبطولة كأس الأمم الإفريقية.\n",
            "Fine-Tuned Model Prediction: Sports\n",
            "Modified Model Prediction: Sports\n"
          ]
        }
      ]
    },
    {
      "cell_type": "code",
      "source": [
        "# Example text\n",
        "example_text = \"ارتفعت مؤشرات الأسهم العالمية بشكل ملحوظ بعد الإعلان عن سياسات اقتصادية جديدة.\"\n",
        "\n",
        "# Define device\n",
        "device = torch.device(\"cuda\" if torch.cuda.is_available() else \"cpu\")\n",
        "\n",
        "# Move models to the device\n",
        "model.to(device)\n",
        "fine_tuned_model.to(device)\n",
        "\n",
        "# Tokenize the example text\n",
        "inputs = tokenizer(\n",
        "    example_text,\n",
        "    return_tensors=\"pt\",\n",
        "    truncation=True,\n",
        "    padding=\"max_length\",\n",
        "    max_length=128\n",
        ")\n",
        "\n",
        "# Remove token_type_ids as CustomBertModel doesn't use it\n",
        "inputs.pop(\"token_type_ids\", None)\n",
        "\n",
        "# Move inputs to the device\n",
        "inputs = {key: value.to(device) for key, value in inputs.items()}\n",
        "\n",
        "# Fine-tuned model prediction\n",
        "fine_tuned_output = fine_tuned_model(**inputs)\n",
        "fine_tuned_pred_label = label_encoder.inverse_transform([torch.argmax(fine_tuned_output.logits).item()])\n",
        "\n",
        "# Modified model prediction\n",
        "modified_output = model(**inputs)\n",
        "logits = modified_output[\"logits\"]  # Access logits from the dictionary\n",
        "modified_pred_label = label_encoder.inverse_transform([torch.argmax(logits).item()])\n",
        "\n",
        "# Display predictions\n",
        "print(f\"Text: {example_text}\")\n",
        "print(f\"Fine-Tuned Model Prediction: {fine_tuned_pred_label[0]}\")\n",
        "print(f\"Modified Model Prediction: {modified_pred_label[0]}\")"
      ],
      "metadata": {
        "colab": {
          "base_uri": "https://localhost:8080/"
        },
        "id": "aFbtdI5Z76ZX",
        "outputId": "e1e6acf6-5433-4e49-faa0-a2b3e22fe42b"
      },
      "execution_count": null,
      "outputs": [
        {
          "output_type": "stream",
          "name": "stdout",
          "text": [
            "Text: ارتفعت مؤشرات الأسهم العالمية بشكل ملحوظ بعد الإعلان عن سياسات اقتصادية جديدة.\n",
            "Fine-Tuned Model Prediction: Finance\n",
            "Modified Model Prediction: Finance\n"
          ]
        }
      ]
    },
    {
      "cell_type": "code",
      "source": [
        "# Example text\n",
        "example_text = \"تقام غداً فعاليات مهرجان السينما الدولي بمشاركة أشهر المخرجين والفنانين العرب.\"\n",
        "\n",
        "\n",
        "# Define device\n",
        "device = torch.device(\"cuda\" if torch.cuda.is_available() else \"cpu\")\n",
        "\n",
        "# Move models to the device\n",
        "model.to(device)\n",
        "fine_tuned_model.to(device)\n",
        "\n",
        "# Tokenize the example text\n",
        "inputs = tokenizer(\n",
        "    example_text,\n",
        "    return_tensors=\"pt\",\n",
        "    truncation=True,\n",
        "    padding=\"max_length\",\n",
        "    max_length=128\n",
        ")\n",
        "\n",
        "# Remove token_type_ids as CustomBertModel doesn't use it\n",
        "inputs.pop(\"token_type_ids\", None)\n",
        "\n",
        "# Move inputs to the device\n",
        "inputs = {key: value.to(device) for key, value in inputs.items()}\n",
        "\n",
        "# Fine-tuned model prediction\n",
        "fine_tuned_output = fine_tuned_model(**inputs)\n",
        "fine_tuned_pred_label = label_encoder.inverse_transform([torch.argmax(fine_tuned_output.logits).item()])\n",
        "\n",
        "# Modified model prediction\n",
        "modified_output = model(**inputs)\n",
        "logits = modified_output[\"logits\"]  # Access logits from the dictionary\n",
        "modified_pred_label = label_encoder.inverse_transform([torch.argmax(logits).item()])\n",
        "\n",
        "# Display predictions\n",
        "print(f\"Text: {example_text}\")\n",
        "print(f\"Fine-Tuned Model Prediction: {fine_tuned_pred_label[0]}\")\n",
        "print(f\"Modified Model Prediction: {modified_pred_label[0]}\")"
      ],
      "metadata": {
        "colab": {
          "base_uri": "https://localhost:8080/"
        },
        "id": "lBvWTo1K8CS9",
        "outputId": "f87da8e5-eaf7-4a72-d646-1978483ae5d8"
      },
      "execution_count": null,
      "outputs": [
        {
          "output_type": "stream",
          "name": "stdout",
          "text": [
            "Text: تقام غداً فعاليات مهرجان السينما الدولي بمشاركة أشهر المخرجين والفنانين العرب.\n",
            "Fine-Tuned Model Prediction: Culture\n",
            "Modified Model Prediction: Culture\n"
          ]
        }
      ]
    },
    {
      "cell_type": "code",
      "source": [
        "from sklearn.preprocessing import LabelEncoder"
      ],
      "metadata": {
        "id": "cIbPBJvqL1k1"
      },
      "execution_count": null,
      "outputs": []
    },
    {
      "cell_type": "code",
      "source": [
        "import torch\n",
        "from transformers import BertTokenizer\n",
        "\n",
        "# Example texts for testing\n",
        "example_texts = {\n",
        "    \"Medical\": [\n",
        "        \"الأطباء يؤكدون أن النوم الكافي يحسن مناعة الجسم ويساعد في تقليل خطر الإصابة بالأمراض المزمنة مثل السكري وأمراض القلب.\"\n",
        "    ],\n",
        "    \"Tech\": [\n",
        "        \"باحثون يعلنون عن تطوير أول حاسوب كمي يعمل بطاقة أقل ويقدم أداءً أسرع بعشرات المرات من الحواسيب التقليدية.\"\n",
        "    ],\n",
        "    \"Religion\": [\n",
        "        \"فضل قراءة سورة يس يوم الجمعة وآثارها الروحية على حياة المسلم، حيث تعتبر من السور التي تبعث الطمأنينة وتزيد من التقرب إلى الله.\"\n",
        "    ],\n",
        "    \"Politics\": [\n",
        "        \"خلال اجتماع الجمعية العامة للأمم المتحدة، ناقش القادة العالميون تداعيات الحرب الاقتصادية بين الدول الكبرى، مع التركيز على أهمية دعم الدول النامية لتجنب تفاقم الأزمات الإنسانية.\"\n",
        "    ],\n",
        "    \"Finance\": [\n",
        "        \"البنك المركزي يرفع أسعار الفائدة لمواجهة التضخم وتثبيت الاستقرار الاقتصادي. القرار يأتي استجابةً لتقلبات السوق العالمية ويهدف إلى الحد من تأثير ارتفاع الأسعار على الأسر والشركات الصغيرة.\"\n",
        "    ],\n",
        "    \"Sports\": [\n",
        "        \"الاتحاد الدولي لكرة القدم يعلن عن تطبيق تقنية الفيديو المساعد (VAR) في جميع البطولات الرسمية لضمان دقة القرارات التحكيمية وتحقيق العدالة في المباريات.\"\n",
        "    ],\n",
        "    \"Culture\": [\n",
        "        \"افتتاح معرض للفن الحديث يضم لوحات ومنحوتات لفنانين عالميين ومحليين.\"\n",
        "    ]\n",
        "}\n",
        "\n",
        "# Ensure the model is on the correct device\n",
        "device = torch.device(\"cuda\" if torch.cuda.is_available() else \"cpu\")\n",
        "fine_tuned_model = fine_tuned_model.to(device)\n",
        "model = model.to(device)  # Modified model\n",
        "\n",
        "# Iterate over categories and test predictions\n",
        "for category, texts in example_texts.items():\n",
        "    print(f\"Testing examples for category: {category}\")\n",
        "    for text in texts:\n",
        "        # Tokenize the example text\n",
        "        inputs = tokenizer(text, return_tensors=\"pt\", truncation=True, padding=\"max_length\", max_length=128)\n",
        "\n",
        "        # Move inputs to the same device as the model\n",
        "        inputs = {key: val.to(device) for key, val in inputs.items()}\n",
        "\n",
        "        # Predict with the fine-tuned model\n",
        "        fine_tuned_output = fine_tuned_model(**inputs)\n",
        "        fine_tuned_pred_label = label_encoder.inverse_transform([torch.argmax(fine_tuned_output.logits).item()])\n",
        "\n",
        "        # Predict with the modified model\n",
        "        modified_output = model(**inputs)\n",
        "        modified_pred_label = label_encoder.inverse_transform([torch.argmax(modified_output[\"logits\"]).item()])\n",
        "\n",
        "        # Display predictions\n",
        "        print(f\"Text: {text}\")\n",
        "        print(f\"Fine-Tuned Model Prediction: {fine_tuned_pred_label[0]}\")\n",
        "        print(f\"Modified Model Prediction: {modified_pred_label[0]}\")\n",
        "        print(\"-\" * 50)\n"
      ],
      "metadata": {
        "colab": {
          "base_uri": "https://localhost:8080/"
        },
        "id": "kU9NFoBePfdT",
        "outputId": "678dde9c-48b6-4d0a-b5db-7a3f1f8b6deb"
      },
      "execution_count": null,
      "outputs": [
        {
          "output_type": "stream",
          "name": "stdout",
          "text": [
            "Testing examples for category: Medical\n",
            "Text: الأطباء يؤكدون أن النوم الكافي يحسن مناعة الجسم ويساعد في تقليل خطر الإصابة بالأمراض المزمنة مثل السكري وأمراض القلب.\n",
            "Fine-Tuned Model Prediction: Medical\n",
            "Modified Model Prediction: Finance\n",
            "--------------------------------------------------\n",
            "Testing examples for category: Tech\n",
            "Text: باحثون يعلنون عن تطوير أول حاسوب كمي يعمل بطاقة أقل ويقدم أداءً أسرع بعشرات المرات من الحواسيب التقليدية.\n",
            "Fine-Tuned Model Prediction: Tech\n",
            "Modified Model Prediction: Tech\n",
            "--------------------------------------------------\n",
            "Testing examples for category: Religion\n",
            "Text: فضل قراءة سورة يس يوم الجمعة وآثارها الروحية على حياة المسلم، حيث تعتبر من السور التي تبعث الطمأنينة وتزيد من التقرب إلى الله.\n",
            "Fine-Tuned Model Prediction: Religion\n",
            "Modified Model Prediction: Finance\n",
            "--------------------------------------------------\n",
            "Testing examples for category: Politics\n",
            "Text: خلال اجتماع الجمعية العامة للأمم المتحدة، ناقش القادة العالميون تداعيات الحرب الاقتصادية بين الدول الكبرى، مع التركيز على أهمية دعم الدول النامية لتجنب تفاقم الأزمات الإنسانية.\n",
            "Fine-Tuned Model Prediction: Politics\n",
            "Modified Model Prediction: Finance\n",
            "--------------------------------------------------\n",
            "Testing examples for category: Finance\n",
            "Text: البنك المركزي يرفع أسعار الفائدة لمواجهة التضخم وتثبيت الاستقرار الاقتصادي. القرار يأتي استجابةً لتقلبات السوق العالمية ويهدف إلى الحد من تأثير ارتفاع الأسعار على الأسر والشركات الصغيرة.\n",
            "Fine-Tuned Model Prediction: Finance\n",
            "Modified Model Prediction: Finance\n",
            "--------------------------------------------------\n",
            "Testing examples for category: Sports\n",
            "Text: الاتحاد الدولي لكرة القدم يعلن عن تطبيق تقنية الفيديو المساعد (VAR) في جميع البطولات الرسمية لضمان دقة القرارات التحكيمية وتحقيق العدالة في المباريات.\n",
            "Fine-Tuned Model Prediction: Sports\n",
            "Modified Model Prediction: Finance\n",
            "--------------------------------------------------\n",
            "Testing examples for category: Culture\n",
            "Text: افتتاح معرض للفن الحديث يضم لوحات ومنحوتات لفنانين عالميين ومحليين.\n",
            "Fine-Tuned Model Prediction: Culture\n",
            "Modified Model Prediction: Culture\n",
            "--------------------------------------------------\n"
          ]
        }
      ]
    },
    {
      "cell_type": "code",
      "source": [],
      "metadata": {
        "id": "My4zDwm4-ynY"
      },
      "execution_count": null,
      "outputs": []
    }
  ]
}